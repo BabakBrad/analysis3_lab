{
 "cells": [
  {
   "cell_type": "markdown",
   "metadata": {},
   "source": [
    "# **Tutorial 12: Practical Examples of OOP Paradigm** 👀"
   ]
  },
  {
   "cell_type": "markdown",
   "metadata": {},
   "source": [
    "Computer games are quite suitable to practice **object oriented modelling** and **design**. Making simple games can demonstrate the effectiveness of **object orientation** to easily scale projects and build larger software components. In these special themed mini-projects, we will develop simple games using **object oriented approach**."
   ]
  },
  {
   "cell_type": "markdown",
   "metadata": {},
   "source": [
    "<br><br><a id='t1cls'></a>\n",
    "## ▙▂ **Part 3: Pygame Basics ▂▂**"
   ]
  },
  {
   "cell_type": "markdown",
   "metadata": {},
   "source": [
    "In the third mini-project, we will first explore the basics of Pygame library and use it to create basic game components such, as device and surface. Then, we will see how to draw simple shapes on the surface and handle Pygame events.\n",
    "\n",
    "In the end, we will design and implement `GameTemplate` class to encapsulate those Pygame calls, and allow the developers, using our library, to develop a game without having to go deep into Pygame mechanics. `GameTemplate` class will use very similar game loop like the one in `Game` class that we developed and used for mini-projects 1 and 2."
   ]
  },
  {
   "cell_type": "markdown",
   "metadata": {},
   "source": [
    "<a id='t11p3toc'></a>\n",
    "\n",
    "#### Contents: ####\n",
    "- [Installing Pygame](#t11p3install)\n",
    "- [Launching Pygame](#t11p3launch)\n",
    "    - [Launching the Game and Listening to Events](#t4p1lgle)\n",
    "    - [What Pygame Commands Do (Optional)](#t4p1wpcd)\n",
    "- [Terminate Pygame](#t11p3terminate)\n",
    "- [Surface, Circle and User Input](#t11p3example2)\n",
    "    - [Test and Experiment](#t11p3tae)\n",
    "    - [Challenge](#t11p3Challenge)\n",
    "- [GameTemplate Class](#t11p3gametemplate)\n",
    "- [A Game with GameTemplate](#t11p3example3)\n",
    "- [Discussion on GameTemplate Design (Optional)](#t11p3design)\n"
   ]
  },
  {
   "cell_type": "markdown",
   "metadata": {},
   "source": [
    "<a id='t11p3install'></a>\n",
    "#### **▇▂ Installing Pygame ▂▂**\n",
    "\n",
    "\n",
    "A standard Python distribution doesn't include Pygame library, therefore the first step is to install it. The process doesn't differ from those we used to install matplotlib and Jupyter in Analysis 2.\n",
    "\n",
    "- Standard Python users should use `pip` command in shell / command prompt: ```pip install pygame ``` <br>\n",
    "- Those using Anaconda should replace `pip` with `conda` (note: extra parameters may be required; check Pygame documentation), or open Tools or Environments (depending on your distribution), find installation and install it from there. <br>\n",
    "- If you have Pyzo, you can run `install pygame` from your console. Pyzo is generally good at figuring out which environment you have (works with standard Python and Anaconda) and will invoke the proper installation command.\n",
    "\n",
    "To test if your installation has been completed successfully, launch any Python environment and import Pygame. If no errors are raised, Pygame is installed on your system. If not, repeat the installation procedure."
   ]
  },
  {
   "cell_type": "code",
   "execution_count": null,
   "metadata": {},
   "outputs": [],
   "source": [
    "import pygame"
   ]
  },
  {
   "cell_type": "markdown",
   "metadata": {},
   "source": [
    "For more information on Pygame, documentation and examples, please visit the official Pygame page at: [pygame.org](https://www.pygame.org)."
   ]
  },
  {
   "cell_type": "markdown",
   "metadata": {},
   "source": [
    "<br>[back to top ↥](#t11p3toc)"
   ]
  },
  {
   "cell_type": "markdown",
   "metadata": {},
   "source": [
    "<a id='t11p3launch'></a>\n",
    "#### **▇▂ Launching Pygame ▂▂**\n",
    "\n",
    "When making a game, the first step is usually a game that does ... 'nothing'. More precisely, we want to initialize, run and close the game. With that completed, we can add other components incrementally.\n",
    "\n",
    "Steps needed to launch a game with Pygame library:\n",
    "- initialize Pygame,\n",
    "- create display,\n",
    "- set display,\n",
    "- listen to game events,\n",
    "- handle quit event,\n",
    "- deallocate Pygame resources.\n",
    "\n",
    "Display is responsible to communicate with your graphics card via operating system (OS). It is used to create a game window (or full screen), set resolution and display Pygame surfaces.\n",
    "\n",
    "While running, Pygame will 'listen' to your devices, such as keyboard, mouse, joystick, etc. More importantly, it will also 'listen' to system calls sent by our OS. Unless we want to forcefully terminate our game, which is never the best choice, we want to detect `pygame.QUIT` event, generated when a user terminates Pygame window. Once such message is received, Pygame should close and deallocate resources."
   ]
  },
  {
   "cell_type": "markdown",
   "metadata": {},
   "source": [
    "<br>[back to top ↥](#t11p3toc)"
   ]
  },
  {
   "cell_type": "markdown",
   "metadata": {},
   "source": [
    "<a id='t4p1lgle'></a>\n",
    "##### **Launching the Game and Listening to Events**\n",
    "\n",
    "Running the code below will create Pygame window, listen to events and print them out, until `pygame.QUIT` message is received. Observe the events generated. Try moving your mouse and clicking inside of the game window. Experiment using your keyboards. When finished, click to close the window. This will generate quit message.\n",
    "\n",
    "Note: Running this program will generate a lot of event messages. Although Jupyter can launch Pygame, it has limitations on how many lines it can print, and how quickly it can do that. Therefore, it is recommended to copy-paste this code into your IDE and run it locally."
   ]
  },
  {
   "cell_type": "code",
   "execution_count": null,
   "metadata": {},
   "outputs": [],
   "source": [
    "pygame.init()\n",
    "\n",
    "gameDisplay = pygame.display\n",
    "gameDisplay.set_mode((800,600))\n",
    "gameDisplay.set_caption('Our first \"game\"')\n",
    "\n",
    "clock = pygame.time.Clock()\n",
    "\n",
    "game_running = True\n",
    "while game_running:\n",
    "    for event in pygame.event.get():\n",
    "        if event.type == pygame.QUIT:\n",
    "            game_running = False\n",
    "\n",
    "        print(event)\n",
    "\n",
    "    gameDisplay.update()\n",
    "    clock.tick(60)\n",
    "\n",
    "pygame.quit()"
   ]
  },
  {
   "cell_type": "markdown",
   "metadata": {},
   "source": [
    "<br>[back to top ↥](#t11p3toc)"
   ]
  },
  {
   "cell_type": "markdown",
   "metadata": {},
   "source": [
    "<a id='t4p1wpcd'></a>\n",
    "##### **What Pygame Commands Do (Optional)**\n",
    "\n",
    "The following is not of interest for this topic, but if you want to know more about Pygame, this is the brief explanation what the commands that we used do.\n",
    "\n",
    "`pygame.init()` - initializes Pygame. Must be run first (before any other Pygame command).\n",
    "\n",
    "`gameDisplay = pygame.display` - creates display object. In our case we save it as variable `gameDisplay`.\n",
    "\n",
    "`gameDisplay.set_mode((800,600))` - sets resolution. Expects a tuple in form *(x, y)* representing the number of pixels.\n",
    "\n",
    "`gameDisplay.set_caption('Our first \"game\"')` - sets Pygame window caption. Optional.\n",
    "\n",
    "`clock = pygame.time.Clock()` - creates Pygame Clock object. Optional, but important if you want a stable frame rate.\n",
    "\n",
    "`pygame.event.get()` - returns Pygame events. **Important:** while running, Pygame will `listen` and store all events it receives. Once called, it will return all events from its buffer. This will also clear it.\n",
    "\n",
    "`pygame.QUIT` - the event sent when OS wants to terminate the application.\n",
    "\n",
    "`gameDisplay.update()` - This is the moment where all information (objects, shapes, sprites) that we want to render are sent to the graphics adapter. Essentially, all drawing is presented to the user once `.update()` is invoked.\n",
    "\n",
    "`clock.tick(60)` - sets number of ticks forcing Pygame to wait. The value corresponds to frames per second, hence, the higher the value, the less time (milliseconds) Pygame will wait.\n",
    "\n",
    "`pygame.quit()` - deallocates Pygame resources. Must be called at the end."
   ]
  },
  {
   "cell_type": "markdown",
   "metadata": {},
   "source": [
    "<br>[back to top ↥](#t11p3toc)"
   ]
  },
  {
   "cell_type": "markdown",
   "metadata": {},
   "source": [
    "<a id='t11p3terminate'></a>\n",
    "#### **▇▂ Terminate Pygame ▂▂**\n",
    "\n",
    "No one writes a game with no bugs in one go. Often, your mistakes will cause your code to crash, but Pygame will still be running. If that happens just type the following line in your console:"
   ]
  },
  {
   "cell_type": "code",
   "execution_count": null,
   "metadata": {},
   "outputs": [],
   "source": [
    "pygame.quit()"
   ]
  },
  {
   "cell_type": "markdown",
   "metadata": {},
   "source": [
    "Note: if you run from Jupyter, you will have to interrupt your kernel."
   ]
  },
  {
   "cell_type": "markdown",
   "metadata": {},
   "source": [
    "<br>[back to top ↥](#t11p3toc)"
   ]
  },
  {
   "cell_type": "markdown",
   "metadata": {},
   "source": [
    "<a id='t11p3example2'></a>\n",
    "#### **▇▂ Surface, Circle and User Input ▂▂**\n",
    "\n",
    "\n",
    "A Pygame **surface** can be considered as a blank piece of paper on which we do our drawing. Upon creating our device, we want to create a surface to write our data to. Every shape or image drawn typically uses a separate surface. Surfaces have fast method of ***blitting*** (copying) data from one to another. The surface is rendered at the point we call `pygame.display.update()`.\n",
    "\n",
    "- To get the surface used by our display, call ```pygame.display.get_surface() ``` which is `screen = gameDisplay.get_surface()` in our example.\n",
    "\n",
    "- To draw a circle, use `pygame.draw.circle()` and pass to it: surface, color, center and radius. There are more optional parameters which you can find at the official [Pygame](https://www.pygame.org/docs/ref/draw.html?highlight=draw%20circle#pygame.draw.circle) page.\n",
    "\n",
    "- To handle inputs from the user, we need to process Pygame events, and look for those of **type** == `pygame.KEYDOWN` which occur when a key is pressed, or **type** == `pygame.UP` which occur when a key is released.\n",
    "\n",
    "We will also use `surface.fill() method` which fills entire surface with a given color. That color is a tuple containing three integer values **RGB** representing the amount of **R**ed, **G**reen and **B**lue. <br> Example: <br>```gameDisplay = pygame.display\n",
    "screen = gameDisplay.get_surface()\n",
    "screen.fill((255, 0, 0))   # fills screen in red\n",
    "```"
   ]
  },
  {
   "cell_type": "code",
   "execution_count": null,
   "metadata": {},
   "outputs": [],
   "source": [
    "## IMPORT SECTION\n",
    "\n",
    "import pygame\n",
    "\n",
    "## CONSTANTS\n",
    "\n",
    "DEBUG = True\n",
    "\n",
    "## GLOBALS\n",
    "\n",
    "X, Y  = 400, 300\n",
    "\n",
    "## HANDY FUNCTIONS\n",
    "\n",
    "def log(text, debug_mode = DEBUG):\n",
    "    if debug_mode:\n",
    "        print(text)\n",
    "\n",
    "## SIMPLE PLOTTING\n",
    "\n",
    "def plot_circle(x, y, radius = 25, color = (255, 255, 255)):\n",
    "    # note: so far we handle surface 'ugly' as global\n",
    "    global screen\n",
    "    pygame.draw.circle(screen, color, (x,y), radius)\n",
    "\n",
    "## CORE OF OUR GAME\n",
    "# initialize pygame\n",
    "pygame.init()\n",
    "\n",
    "# create and set display\n",
    "gameDisplay = pygame.display\n",
    "gameDisplay.set_caption('Our second \"game\"')\n",
    "gameDisplay.set_mode((800, 600))\n",
    "\n",
    "# create screen and fill it with green color\n",
    "screen = gameDisplay.get_surface()\n",
    "screen.fill((0, 255, 0))\n",
    "# create game clock\n",
    "clock = pygame.time.Clock()\n",
    "\n",
    "# basic pygame loop\n",
    "# set running flag to True and stay in game loop until the flag is changed\n",
    "game_running = True\n",
    "while game_running:\n",
    "    # get all events received up to this point\n",
    "    for event in pygame.event.get():\n",
    "        # check if event is QUIT event, and if so, alter game running flag\n",
    "        if event.type == pygame.QUIT:\n",
    "            log(\"QUIT event received. Shutting down.\")\n",
    "            game_running = False\n",
    "        \n",
    "        # if key is pressed\n",
    "        if event.type == pygame.KEYDOWN:\n",
    "            # check if that key is ESC (user wants to quit the game); alter game running flag\n",
    "            if event.key == pygame.K_ESCAPE:\n",
    "                log(\"User pressed ESC.\")\n",
    "                game_running = False\n",
    "\n",
    "            # if pressed buttons are LEFT or RIGHT, alter X coordinate\n",
    "            if event.key == pygame.K_RIGHT:\n",
    "                X += 40\n",
    "            if event.key == pygame.K_LEFT:\n",
    "                X -= 40\n",
    "\n",
    "    # clear surface by filling it with green color\n",
    "    screen.fill((0, 255, 0))\n",
    "    # plot circle with the center at X,Y\n",
    "    plot_circle(X,Y)\n",
    "\n",
    "    # call update to present our surface (screen) to gameDisplay\n",
    "    gameDisplay.update()\n",
    "    # synchronize with clock\n",
    "    clock.tick(60)\n",
    "\n",
    "# deallocate memory\n",
    "gameDisplay.quit()\n",
    "pygame.quit()\n"
   ]
  },
  {
   "cell_type": "markdown",
   "metadata": {},
   "source": [
    "<br>[back to top ↥](#t11p3toc)"
   ]
  },
  {
   "cell_type": "markdown",
   "metadata": {},
   "source": [
    "<a id='t11p3tae'></a>\n",
    "##### **Test and Experiment**\n",
    "\n",
    "- The example above only moves the circle along X axis. Adjust the code such that we can use arrow up and arrow down to move the circle along Y axis.\n",
    "- Change `screen.fill()` to clear the screen with blue color.\n",
    "- Try commenting out `screen.fill()` and moving the circle. What happens?\n",
    "- Try moving circle outside of the drawing area. What happens?\n",
    "- Add code such that when a user presses space, the circle is re-centered on the screen."
   ]
  },
  {
   "cell_type": "markdown",
   "metadata": {},
   "source": [
    "<a id='t11p3Challenge'></a>\n",
    "##### **Challenge**\n",
    "\n",
    "In games it is important to distinguish a single click / button press from holding a button. Can you make adjustment to the code such that the circle is displayed ONLY when a button (of your choice) is held down? <br>\n",
    "HINT: use helper Boolean variable."
   ]
  },
  {
   "cell_type": "markdown",
   "metadata": {},
   "source": [
    "<br>[back to top ↥](#t11p3toc)"
   ]
  },
  {
   "cell_type": "markdown",
   "metadata": {},
   "source": [
    "<a id='t11p3gametemplate'></a>\n",
    "#### **▇▂ GameTemplate Class ▂▂**\n",
    "\n",
    "The structure forced upon us by Pygame (order of initialization, display, surfaces, events, ...) will quickly make even the smallest games, with only few objects and inputs from the user, to produce a code that is difficult to improve and maintain in the long run. When we want to develop a game, we want to focus on game logic, independently of the module or game engine used to render our images. Therefore, we need something to \"hide\" the lower level of communication with Pygame module.\n",
    "\n",
    "This is where OOP comes in all of its glory. We can create `GameTemplate` class, which will hide and **encapsulate** the mechanics of **Pygame**, while **abstracting and exposing** to a developer only the **specific methods** that represent steps of the game loop. Finally, using **inheritance**, we can extend `GameTemplate`, **override** the methods needed and develop **a new child class** tailored specifically for our game."
   ]
  },
  {
   "cell_type": "code",
   "execution_count": null,
   "metadata": {},
   "outputs": [],
   "source": [
    "## IMPORT SECTION\n",
    "\n",
    "import pygame\n",
    "\n",
    "\n",
    "## CONSTANTS & GLOBALS\n",
    "\n",
    "DEBUG = True\n",
    "\n",
    "FPS = 30\n",
    "WINDOW = (800, 600)\n",
    "CAPTION = \"ANALYSIS3 - obj. orient. game template\"\n",
    "\n",
    "\n",
    "\n",
    "## GAMETEMPLATE CLASS\n",
    "\n",
    "class GameTemplate:\n",
    "    \"\"\"\n",
    "    GameTemplate class encapsulates basic game loop that\n",
    "    is implemented via pygame library.\n",
    "    Override and implement game loop methods for your specific game.\n",
    "    \"\"\"\n",
    "\n",
    "    def __init__(self):\n",
    "        self.__running = True\n",
    "        self._fps = None\n",
    "        self._window = None\n",
    "        self._display = None\n",
    "        self._surface = None\n",
    "        self._clock = None\n",
    "        self._caption = None\n",
    "\n",
    "        self._initialize_pygame()\n",
    "\n",
    "    # gets & sets\n",
    "\n",
    "    def get_display(self):\n",
    "        return self._display\n",
    "\n",
    "    def get_surface(self):\n",
    "        return self._surface\n",
    "\n",
    "    def set_fps(self, fps):\n",
    "        self._fps = fps\n",
    "\n",
    "    def get_fps(self):\n",
    "        return self._fps\n",
    "\n",
    "    def set_window(self, width, height):\n",
    "        self._window = (width, height)\n",
    "\n",
    "    def get_window(self):\n",
    "        return self._window\n",
    "\n",
    "    def set_caption(self, caption):\n",
    "        self._caption = caption\n",
    "\n",
    "    def get_caption(self):\n",
    "        return self._caption\n",
    "\n",
    "    # handy methods\n",
    "\n",
    "    def log(self, text, debug_mode = DEBUG):\n",
    "        if debug_mode:\n",
    "            print(text)\n",
    "\n",
    "\n",
    "    # encapsulating Pygame\n",
    "\n",
    "    def _initialize_pygame(self):\n",
    "        pygame.init()\n",
    "        self._display = pygame.display\n",
    "        self._clock = pygame.time.Clock()\n",
    "\n",
    "    def _launch_pygame_window(self, width, height, fps, caption):\n",
    "        self.set_window(width, height)\n",
    "        self.set_fps(fps)\n",
    "\n",
    "        self._display.set_caption(caption)\n",
    "        self._display.set_mode(self._window)\n",
    "        self._surface = self._display.get_surface()\n",
    "        self._surface.fill((0,0,0))\n",
    "\n",
    "\n",
    "    # to be extended by a child class\n",
    "    def start(self):\n",
    "        # If window size, FPS and caption have not been set, use default values\n",
    "        if self._window == None:\n",
    "            window = WINDOW\n",
    "        else:\n",
    "            window = self._window\n",
    "\n",
    "        if self._fps == None:\n",
    "            fps = FPS\n",
    "        else:\n",
    "            fps = self._fps\n",
    "\n",
    "        if self._caption == None:\n",
    "            caption = CAPTION\n",
    "        else:\n",
    "            caption = self._caption\n",
    "\n",
    "        self._launch_pygame_window(window[0], window[1], fps, caption)\n",
    "        self.__running = True\n",
    "\n",
    "    def _deallocate_memory(self):\n",
    "        pygame.quit()\n",
    "\n",
    "    # to be extended by a child class\n",
    "    def finish(self):\n",
    "        self._deallocate_memory()\n",
    "\n",
    "    def _check_quit_event(self, event):\n",
    "        # default quit events\n",
    "        # quit sent by the system\n",
    "        if event.type == pygame.QUIT:\n",
    "            self.__running = False\n",
    "            self.log(\"QUIT event received. Shutting down.\")\n",
    "\n",
    "        # user pressed ESC\n",
    "        if event.type == pygame.KEYDOWN:\n",
    "            if event.key == pygame.K_ESCAPE:\n",
    "                self.__running = False\n",
    "                self.log(\"User pressed ESC.\")\n",
    "\n",
    "    # to be overridden by a child class\n",
    "    def process_event(self, event):\n",
    "        pass\n",
    "\n",
    "    def do_events(self):\n",
    "        # check new events; handle quit if received;\n",
    "        # send all other events to process_event for handling\n",
    "        for event in pygame.event.get():\n",
    "            self._check_quit_event(event)\n",
    "            self.process_event(event)\n",
    "\n",
    "    # to be overridden by a child class\n",
    "    def do_game_logic(self):\n",
    "        pass\n",
    "\n",
    "    # to be overridden by a child class\n",
    "    def draw(self):\n",
    "        self._surface.fill((0,0,0))\n",
    "\n",
    "    def _end_frame(self):\n",
    "        # steps taken at the end of each frame\n",
    "        self._display.update()\n",
    "        self._clock.tick(self._fps)\n",
    "\n",
    "    # can be extended by a child class, or only extend draw()\n",
    "    def do_frame(self):\n",
    "        # call draw which will be overridden by a child class\n",
    "        # and call _end_frame()\n",
    "        self.draw()\n",
    "        self._end_frame()\n",
    "\n",
    "    # game loop\n",
    "    def run(self):\n",
    "        self.start()\n",
    "\n",
    "        while self.__running:\n",
    "            self.do_events()\n",
    "            self.do_game_logic()\n",
    "            self.do_frame()\n",
    "\n",
    "        self.finish()"
   ]
  },
  {
   "cell_type": "markdown",
   "metadata": {},
   "source": [
    "Let us test if it works. Instantiating `GameTemplate` and running it should allow us to create a Pygame window and terminate it with ESC."
   ]
  },
  {
   "cell_type": "code",
   "execution_count": null,
   "metadata": {},
   "outputs": [],
   "source": [
    "game = GameTemplate()\n",
    "game.run()"
   ]
  },
  {
   "cell_type": "markdown",
   "metadata": {},
   "source": [
    "Try changing resolution. For example, use (640, 480)."
   ]
  },
  {
   "cell_type": "code",
   "execution_count": null,
   "metadata": {},
   "outputs": [],
   "source": [
    "game = GameTemplate()\n",
    "game.set_window(640, 480)\n",
    "game.run()"
   ]
  },
  {
   "cell_type": "markdown",
   "metadata": {},
   "source": [
    "Write your name as window caption and run the template."
   ]
  },
  {
   "cell_type": "code",
   "execution_count": null,
   "metadata": {},
   "outputs": [],
   "source": [
    "# your code here\n",
    "# game = \n"
   ]
  },
  {
   "cell_type": "markdown",
   "metadata": {},
   "source": [
    "<br>[back to top ↥](#t11p3toc)"
   ]
  },
  {
   "cell_type": "markdown",
   "metadata": {},
   "source": [
    "<a id='t11p3example3'></a>\n",
    "#### **▇▂ A Game with GameTemplate ▂▂**\n",
    "\n",
    "Let us try to make the same game, this time using `GameTemplate` class. We will only alter `plot_circle` to allow using surface as parameter. This is the section of the code we will just repeat."
   ]
  },
  {
   "cell_type": "code",
   "execution_count": null,
   "metadata": {},
   "outputs": [],
   "source": [
    "## IMPORT SECTION\n",
    "import pygame\n",
    "\n",
    "## CONSTANTS\n",
    "DEBUG = True\n",
    "\n",
    "## HANDY FUNCTIONS\n",
    "def log(text, debug_mode = DEBUG):\n",
    "    if debug_mode:\n",
    "        print(text)\n",
    "\n",
    "## SIMPLE PLOTTING\n",
    "def plot_circle(surface, x, y, radius = 25, color = (255, 255, 255)):\n",
    "    pygame.draw.circle(surface, color, (x,y), radius)\n",
    "    \n",
    "    "
   ]
  },
  {
   "cell_type": "markdown",
   "metadata": {},
   "source": [
    "Here, we create a child class and override the methods needed. To avoid using global X and Y, we set them as attributes, which is the reason we extended method `start()`. To plot circle, we override `draw()`, clear the screen (fill with black) and call `plot_circle()` from here. Finally, our response to arrow left or arrow right on the keyboard is implemented in `process_event()`."
   ]
  },
  {
   "cell_type": "code",
   "execution_count": null,
   "metadata": {},
   "outputs": [],
   "source": [
    "class SimpleGame(GameTemplate):\n",
    "    def start(self):\n",
    "        super().start()\n",
    "        self.X = 400\n",
    "        self.Y = 300\n",
    "        \n",
    "    def draw(self):\n",
    "        self.get_surface().fill((0,0,0))\n",
    "        plot_circle(self.get_surface(), self.X, self.Y)\n",
    "        \n",
    "    def process_event(self, event):\n",
    "        # check if this is KEYDOWN event\n",
    "        if event.type == pygame.KEYDOWN:\n",
    "            # if pressed buttons are LEFT or RIGHT, alter X coordinate\n",
    "            if event.key == pygame.K_RIGHT:\n",
    "                self.X += 40\n",
    "            if event.key == pygame.K_LEFT:\n",
    "                self.X -= 40"
   ]
  },
  {
   "cell_type": "markdown",
   "metadata": {},
   "source": [
    "Instantiate and run."
   ]
  },
  {
   "cell_type": "code",
   "execution_count": null,
   "metadata": {},
   "outputs": [],
   "source": [
    "mygame = SimpleGame()\n",
    "mygame.run()"
   ]
  },
  {
   "cell_type": "markdown",
   "metadata": {},
   "source": [
    "Comparing this code with the example done as procedural program clearly demonstrates the strengths of object oriented paradigm. Through abstraction, encapsulation and inheritance, we made our code small, compact, easy to understand and modify."
   ]
  },
  {
   "cell_type": "markdown",
   "metadata": {},
   "source": [
    "<br>[back to top ↥](#t11p3toc)"
   ]
  },
  {
   "cell_type": "markdown",
   "metadata": {},
   "source": [
    "<a id='t11p3design'></a>\n",
    "#### **▇▂ Discussion on GameTemplate Design (Optional) ▂▂**\n",
    "\n",
    "We mentioned in the previous mini-projects that there is no one best design. Here we discuss our design of `GameTemplate` class and the motivation behind it. Let us take a look at UML class diagram."
   ]
  },
  {
   "attachments": {
    "game3-gametemplate1.png": {
     "image/png": "[encoded data removed]"
    }
   },
   "cell_type": "markdown",
   "metadata": {},
   "source": [
    "![game3-gametemplate1.png](attachment:game3-gametemplate1.png)"
   ]
  },
  {
   "cell_type": "markdown",
   "metadata": {},
   "source": [
    "<br>[back to top ↥](#t11p3toc)"
   ]
  },
  {
   "cell_type": "markdown",
   "metadata": {},
   "source": [
    "##### GameTemplate: attributes, gets and sets\n",
    "\n",
    "This part is pretty much straight-forward. All essential elements used to make a skeleton of Pygame and game loop are encapsulated in attributes:\n",
    "- running flag,\n",
    "- game FPS,\n",
    "- window size / resolution,\n",
    "- pointer to the display device (module),\n",
    "- pointer to the Surface (screen) object,\n",
    "- game clock,\n",
    "- window caption.\n",
    "\n",
    "The `running` flag is essential for controlling our game loop, so we want to make sure it is not accidentally changed. Hence, it is made private. All other attributes are protected, to enable a child class easier access and modification if needed. Still, we provide gets and sets for them as well.\n",
    "\n",
    "As nothing special is happening here, there will be no additional comments on this section of the code."
   ]
  },
  {
   "cell_type": "markdown",
   "metadata": {},
   "source": [
    "```\n",
    "class GameTemplate:\n",
    "\n",
    "\n",
    "    def __init__(self):\n",
    "        self.__running = True\n",
    "        self._fps = None\n",
    "        self._window = None\n",
    "        self._display = None\n",
    "        self._surface = None\n",
    "        self._clock = None\n",
    "        self._caption = None\n",
    "\n",
    "        self._initialize_pygame()\n",
    "\n",
    "    # gets & sets\n",
    "\n",
    "    def get_display(self):\n",
    "        return self._display\n",
    "\n",
    "    def get_surface(self):\n",
    "        return self._surface\n",
    "\n",
    "    def set_fps(self, fps):\n",
    "        self._fps = fps\n",
    "\n",
    "    def get_fps(self):\n",
    "        return self._fps\n",
    "\n",
    "    def set_window(self, width, height):\n",
    "        self._window = (width, height)\n",
    "\n",
    "    def get_window(self):\n",
    "        return self._window\n",
    "\n",
    "    def set_caption(self, caption):\n",
    "        self._caption = caption\n",
    "\n",
    "    def get_caption(self):\n",
    "        return self._caption\n",
    "        \n",
    "    # ...\n",
    "    \n",
    "    # encapsulating Pygame\n",
    "\n",
    "    def _initialize_pygame(self):\n",
    "        pygame.init()\n",
    "        self._display = pygame.display\n",
    "        self._clock = pygame.time.Clock()\n",
    "```"
   ]
  },
  {
   "cell_type": "markdown",
   "metadata": {},
   "source": [
    "<br>[back to top ↥](#t11p3toc)"
   ]
  },
  {
   "cell_type": "markdown",
   "metadata": {},
   "source": [
    "##### GameTemplate: logging\n",
    "\n",
    "Debugging real-time applications can be quite taxing, as it is very hard to observe and recreate the same events that lead to a potential crash. Therefore, it is wise to enable internal logging mechanism, which can be triggered by functions of our choosing, to write all data, relevant to understanding what happened.\n",
    "\n",
    "Normally, here we should make another dedicated logging class. To keep things simple, we opted for a basic print function only, that is turned on when DEBUG flag is set to true. Although, more sophisticated logging can be implemented in a child."
   ]
  },
  {
   "cell_type": "markdown",
   "metadata": {},
   "source": [
    "```\n",
    "## CONSTANTS & GLOBALS\n",
    "\n",
    "DEBUG = True\n",
    "\n",
    "## GAMETEMPLATE CLASS\n",
    "\n",
    "class GameTemplate:\n",
    "    \n",
    "    # ...\n",
    "    \n",
    "    # handy methods\n",
    "\n",
    "    def log(self, text, debug_mode = DEBUG):\n",
    "        if debug_mode:\n",
    "            print(text)\n",
    "    \n",
    "    # ...\n",
    "```"
   ]
  },
  {
   "cell_type": "markdown",
   "metadata": {},
   "source": [
    "<br>[back to top ↥](#t11p3toc)"
   ]
  },
  {
   "cell_type": "markdown",
   "metadata": {},
   "source": [
    "##### GameTemplate: game loop\n",
    "\n",
    "Game loop is the core of our class and is invoked with `run()` method. Identical to mini-project 1 and 2, it contains five essential game loop steps, and calls designed method for each of those.\n",
    "\n",
    "The idea behind is to enable developers to use just one method for running a game, making their code compact, while all five methods called within the game loop can be overridden. This improves code clarity."
   ]
  },
  {
   "cell_type": "markdown",
   "metadata": {},
   "source": [
    "```\n",
    "class GameTemplate:\n",
    "    # ...\n",
    " \n",
    "    # game loop\n",
    "    def run(self):\n",
    "        self.start()\n",
    "\n",
    "        while self.__running:\n",
    "            self.do_events()\n",
    "            self.do_game_logic()\n",
    "            self.do_frame()\n",
    "\n",
    "        self.finish()\n",
    "```"
   ]
  },
  {
   "cell_type": "markdown",
   "metadata": {},
   "source": [
    "We can see here that the game loops starts by calling the method `start()`, which is executed only once. Then, as long as the `running` flag is equal to true, we will successively call `do_events()`, `do_game_logic()` and `do_frame()`. Finally, when we exit the while loop by setting the `running` flag to false, `finish()` method will be executed. Here, we should do all game-related clean-up."
   ]
  },
  {
   "cell_type": "markdown",
   "metadata": {},
   "source": [
    "<br>[back to top ↥](#t11p3toc)"
   ]
  },
  {
   "cell_type": "markdown",
   "metadata": {},
   "source": [
    "##### GameTemplate: start\n",
    "\n",
    "Method `start()` is the first one (after initialization) to be called. The idea is to include here all the necessary commands to launch Pygame window, yet allow it to be easily extendable by our developers."
   ]
  },
  {
   "cell_type": "markdown",
   "metadata": {},
   "source": [
    "```\n",
    "class GameTemplate:\n",
    "    # ...\n",
    "    \n",
    "    # encapsulating Pygame\n",
    "    \n",
    "    def _launch_pygame_window(self, width, height, fps, caption):\n",
    "        self.set_window(width, height)\n",
    "        self.set_fps(fps)\n",
    "\n",
    "        self._display.set_caption(caption)\n",
    "        self._display.set_mode(self._window)\n",
    "        self._surface = self._display.get_surface()\n",
    "        self._surface.fill((0,0,0))\n",
    "\n",
    "    # to be extended by a child class\n",
    "    def start(self):\n",
    "        # If window size, FPS and caption have not been set, use default values\n",
    "        if self._window == None:\n",
    "            window = WINDOW\n",
    "        else:\n",
    "            window = self._window\n",
    "\n",
    "        if self._fps == None:\n",
    "            fps = FPS\n",
    "        else:\n",
    "            fps = self._fps\n",
    "\n",
    "        if self._caption == None:\n",
    "            caption = CAPTION\n",
    "        else:\n",
    "            caption = self._caption\n",
    "\n",
    "        self._launch_pygame_window(window[0], window[1], fps, caption)\n",
    "        self.__running = True\n",
    "\n",
    "    # ...\n",
    "```"
   ]
  },
  {
   "cell_type": "markdown",
   "metadata": {},
   "source": [
    "`start()` will check if window, fps and caption are provided. If any is missing, then the default value will be used. Then, this information will be used to set display, surface and start the window. With this choice we leave developers the option to either extend this method, or override it completely. In case of the latter, we still allow for easy call to `_launch_pygame_window()`, if only that part needs to be reused. This is the reason why it is set as protected method."
   ]
  },
  {
   "cell_type": "markdown",
   "metadata": {},
   "source": [
    "<br>[back to top ↥](#t11p3toc)"
   ]
  },
  {
   "cell_type": "markdown",
   "metadata": {},
   "source": [
    "##### GameTemplate: events\n",
    "\n",
    "There are always many events that have to be handled, therefore processing them as a distinct separate block is advised. Events are processed each frame within the game loop by calling `do_events()` method. From there, we leave two options for our developers. Should there be a need for specific event handling, then entire `do_events()` method can be overridden in a child class.\n",
    "\n",
    "If `do_events()` is just inherited without any change, it gets all events from Pygame event buffer. Afterwards, `_check_quit_event()` is called to check and handle quit events. Normally, this can be reused as given in the parent class (the game quits when OS sends the quit message or user presses ESC), but can be also overridden if different termination process is desired. Finally, `process_event()` is called, which is an abstract method, and should be implemented in a child class, according to the specific needs of a game being programmed."
   ]
  },
  {
   "cell_type": "markdown",
   "metadata": {},
   "source": [
    "```\n",
    "class GameTemplate:\n",
    "    # ...\n",
    "    \n",
    "    def _check_quit_event(self, event):\n",
    "        # default quit events\n",
    "        # quit sent by the system\n",
    "        if event.type == pygame.QUIT:\n",
    "            self.__running = False\n",
    "            self.log(\"QUIT event received. Shutting down.\")\n",
    "\n",
    "        # user pressed ESC\n",
    "        if event.type == pygame.KEYDOWN:\n",
    "            if event.key == pygame.K_ESCAPE:\n",
    "                self.__running = False\n",
    "                self.log(\"User pressed ESC.\")\n",
    "\n",
    "    # to be overridden by a child class\n",
    "    def process_event(self, event):\n",
    "        pass\n",
    "\n",
    "    def do_events(self):\n",
    "        # check new events; handle quit if received;\n",
    "        # send all other events to process_event for handling\n",
    "        for event in pygame.event.get():\n",
    "            self._check_quit_event(event)\n",
    "            self.process_event(event)\n",
    "\n",
    "    # ...\n",
    "```"
   ]
  },
  {
   "cell_type": "markdown",
   "metadata": {},
   "source": [
    "In short, just implement `process_event()` in a child class and handle events according to your game logic. If different termination is required, then override `_check_quit_event()`. Finally, for completely custom event handling, override `do_events()` method."
   ]
  },
  {
   "cell_type": "markdown",
   "metadata": {},
   "source": [
    "<br>[back to top ↥](#t11p3toc)"
   ]
  },
  {
   "cell_type": "markdown",
   "metadata": {},
   "source": [
    "##### GameTemplate: game logic\n",
    "\n",
    "This is just an abstract method that needs to be implemented in a child game class. Every game related object update needs to be handled in `do_game_logic()`."
   ]
  },
  {
   "cell_type": "markdown",
   "metadata": {},
   "source": [
    "```\n",
    "class GameTemplate:\n",
    "    # ...\n",
    "    \n",
    "    # to be overridden by a child class\n",
    "    def do_game_logic(self):\n",
    "        pass\n",
    "\n",
    "    # ...\n",
    "```"
   ]
  },
  {
   "cell_type": "markdown",
   "metadata": {},
   "source": [
    "<br>[back to top ↥](#t11p3toc)"
   ]
  },
  {
   "cell_type": "markdown",
   "metadata": {},
   "source": [
    "##### GameTemplate: draw\n",
    "\n",
    "The final step in each frame is to render game objects. Similar to the way we designed event handling, we deal with rendering methods. Essentially, at each frame, all objects have to be rendered, and then Pygame display has to be updated, plus synchronize the update with the game timer. As these commands are invoked in almost every game, to free our developers, we moved them to the protected `_end_frame()` method.\n",
    "\n",
    "In each frame, `run()` method will call `do_frame()` method. It will call the abstract `draw()` method, intended to be overridden by a child class, and implemented in such a way to render all game objects. To free developers from extending a parent's `draw()` method just to reuse `_end_frame()` part, `_end_frame()` was extended as a separate method.\n",
    "\n",
    "Therefore, in most cases, the developers will want to implement just the `draw()` method. To allow additional flexibility (e.g. different synchronization is needed), we leave the option to override the entire `do_frame()` method. Note: although `draw()` should be abstract - empty, we have added one line to fill the screen with the black color. This was done to make early debugging easier."
   ]
  },
  {
   "cell_type": "markdown",
   "metadata": {},
   "source": [
    "```\n",
    "class GameTemplate:\n",
    "    # ...\n",
    "    \n",
    "    # to be overridden by a child class\n",
    "    def draw(self):\n",
    "        self._surface.fill((0,0,0))\n",
    "\n",
    "    def _end_frame(self):\n",
    "        # steps taken at the end of each frame\n",
    "        self._display.update()\n",
    "        self._clock.tick(self._fps)\n",
    "\n",
    "    # can be extended by a child class, or only extend draw()\n",
    "    def do_frame(self):\n",
    "        # call draw which will be overridden by a child class\n",
    "        # and call _end_frame()\n",
    "        self.draw()\n",
    "        self._end_frame()\n",
    "\n",
    "    # ...\n",
    "```"
   ]
  },
  {
   "cell_type": "markdown",
   "metadata": {},
   "source": [
    "<br>[back to top ↥](#t11p3toc)"
   ]
  },
  {
   "cell_type": "markdown",
   "metadata": {},
   "source": [
    "##### GameTemplate: finish\n",
    "\n",
    "Once the game loops has been stopped, we need to deinitialize Pygame objects. Normally, all that needs to be done is call `pygame.quit()` which the `run()` method automatically invokes at the end via `finish()` method. To allow more flexibility for future extensions, this method can also be either overridden or extended in a child class."
   ]
  },
  {
   "cell_type": "markdown",
   "metadata": {},
   "source": [
    "```\n",
    "class GameTemplate:\n",
    "    # ...\n",
    "    \n",
    "    def _deallocate_memory(self):\n",
    "        pygame.quit()\n",
    "\n",
    "    # to be extended by a child class\n",
    "    def finish(self):\n",
    "        self._deallocate_memory()\n",
    "\n",
    "    # ...\n",
    "```"
   ]
  },
  {
   "cell_type": "markdown",
   "metadata": {},
   "source": [
    "<br>[back to top ↥](#t11p3toc)"
   ]
  }
 ],
 "metadata": {
  "kernelspec": {
   "display_name": "Python 3",
   "language": "python",
   "name": "python3"
  },
  "language_info": {
   "codemirror_mode": {
    "name": "ipython",
    "version": 3
   },
   "file_extension": ".py",
   "mimetype": "text/x-python",
   "name": "python",
   "nbconvert_exporter": "python",
   "pygments_lexer": "ipython3",
   "version": "3.7.1"
  }
 },
 "nbformat": 4,
 "nbformat_minor": 4
}
