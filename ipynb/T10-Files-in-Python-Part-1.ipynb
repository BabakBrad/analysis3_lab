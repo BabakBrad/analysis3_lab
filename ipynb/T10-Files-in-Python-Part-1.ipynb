{
 "cells": [
  {
   "cell_type": "markdown",
   "metadata": {
    "deletable": false
   },
   "source": [
    "# **Tutorial 10: Working with Files** 👀"
   ]
  },
  {
   "cell_type": "markdown",
   "metadata": {},
   "source": [
    "<a id='t1cls'></a>\n",
    "## ▙▂ **Part 1: Reading Contents from a File ▂▂**"
   ]
  },
  {
   "cell_type": "markdown",
   "metadata": {},
   "source": [
    "#### Reading all file contents:"
   ]
  },
  {
   "cell_type": "markdown",
   "metadata": {
    "deletable": false
   },
   "source": [
    "Let's read all the contents from the file \"RotterdamUAS.txt\" which is currently located in the same folder as this jupyter notebook."
   ]
  },
  {
   "cell_type": "code",
   "execution_count": null,
   "metadata": {},
   "outputs": [],
   "source": [
    "f = open(\"RotterdamUAS.txt\")\n",
    "text = f.read()\n",
    "f.close()\n",
    "print(f\"The full text in the file is:\\n\\n{text}\")"
   ]
  },
  {
   "cell_type": "markdown",
   "metadata": {},
   "source": [
    "If desired, open the file in your operating system to verify that the contents are really the same. Do not forget to close the file in your text editor after this verification."
   ]
  },
  {
   "cell_type": "markdown",
   "metadata": {},
   "source": [
    "#### Reading part of the contents of a file:"
   ]
  },
  {
   "cell_type": "markdown",
   "metadata": {},
   "source": [
    "Now let's read only the first character from the file:"
   ]
  },
  {
   "cell_type": "code",
   "execution_count": null,
   "metadata": {},
   "outputs": [],
   "source": [
    "f = open(\"RotterdamUAS.txt\")\n",
    "text = f.read(1)\n",
    "f.close()\n",
    "print(f\"The text that has been read is:\\n\\n{text}\")"
   ]
  },
  {
   "cell_type": "markdown",
   "metadata": {},
   "source": [
    "Now modify the previous code in order to read only the first two characters from the file \"RotterdamUAS.txt\".\n",
    "<br><i>Try to do this first without checking the solution in the next cell. After typing your code, compare it with the solution. </i>"
   ]
  },
  {
   "cell_type": "code",
   "execution_count": null,
   "metadata": {},
   "outputs": [],
   "source": [
    "# Type your code here\n",
    "\n",
    "\n",
    "\n"
   ]
  },
  {
   "cell_type": "markdown",
   "metadata": {},
   "source": [
    "<b><i>Solution"
   ]
  },
  {
   "cell_type": "code",
   "execution_count": null,
   "metadata": {},
   "outputs": [],
   "source": [
    "f = open(\"RotterdamUAS.txt\")\n",
    "text = f.read(2)\n",
    "f.close()\n",
    "print(f\"The text that has been read is:\\n\\n{text}\")"
   ]
  },
  {
   "cell_type": "markdown",
   "metadata": {},
   "source": [
    "<br>What if we wanted to read only the second character from the file? We can change the file cursor position for that purpose:\n",
    "\n",
    "Question: what shall be the numerical argument for the \"seek()\" method to read the second character?\n",
    "\n",
    "<i>(Tip: the argument for \"seek\" considers the first character position as 0.)</i>\n",
    "<br><i>Try to do this first without checking the solution in the next cell. After typing your code, compare it with the solution. </i>"
   ]
  },
  {
   "cell_type": "code",
   "execution_count": null,
   "metadata": {},
   "outputs": [],
   "source": [
    "# Type your code here\n",
    "\n",
    "\n",
    "\n"
   ]
  },
  {
   "cell_type": "markdown",
   "metadata": {},
   "source": [
    "<b><i>Solution"
   ]
  },
  {
   "cell_type": "code",
   "execution_count": null,
   "metadata": {},
   "outputs": [],
   "source": [
    "f = open(\"RotterdamUAS.txt\")\n",
    "f.seek(1)\n",
    "text = f.read(1)\n",
    "f.close()\n",
    "print(f\"The text that has been read is:\\n\\n{text}\")"
   ]
  },
  {
   "cell_type": "markdown",
   "metadata": {},
   "source": [
    "Let's move the file cursor to the last position and then find out what that last position is. \n",
    "\n",
    "That should give us the size of the file (in number of characters)."
   ]
  },
  {
   "cell_type": "code",
   "execution_count": null,
   "metadata": {},
   "outputs": [],
   "source": [
    "f = open(\"RotterdamUAS.txt\")\n",
    "\n",
    "f.seek(0,2)\n",
    "FileSize = f.tell()\n",
    "print('Size of File = ', FileSize)\n",
    "\n",
    "f.close()"
   ]
  },
  {
   "cell_type": "markdown",
   "metadata": {},
   "source": [
    "Let's read the <b>last</b> 10 characters from the file:"
   ]
  },
  {
   "cell_type": "code",
   "execution_count": null,
   "metadata": {},
   "outputs": [],
   "source": [
    "f = open(\"RotterdamUAS.txt\")\n",
    "\n",
    "f.seek(FileSize-10,0)\n",
    "text = f.read(10)\n",
    "print(text)\n",
    "\n",
    "f.close()"
   ]
  },
  {
   "cell_type": "markdown",
   "metadata": {},
   "source": [
    "Let's read the <b>first</b> 10 characters from the file:"
   ]
  },
  {
   "cell_type": "code",
   "execution_count": null,
   "metadata": {},
   "outputs": [],
   "source": [
    "f = open(\"RotterdamUAS.txt\")\n",
    "\n",
    "f.seek(0)\n",
    "text = f.read(10)\n",
    "print(text)\n",
    "\n",
    "f.close()"
   ]
  },
  {
   "cell_type": "markdown",
   "metadata": {},
   "source": [
    "Question: what mode have we just used to work with the file \"RotterdamUAS.txt\" above?\n",
    "\n",
    "<i>(Answer: since we did not provide an argument for the file mode when using the \"open\" command, the default mode was used, which is \"r\" - read)</i>"
   ]
  },
  {
   "cell_type": "markdown",
   "metadata": {},
   "source": [
    "<a id='t1cls'></a>\n",
    "## ▙▂ **Part 2: Writing to a File ▂▂**"
   ]
  },
  {
   "cell_type": "markdown",
   "metadata": {},
   "source": [
    "Let's create a new file named \"test1.txt\" and write three lines to it. If the file does not exist it shall be created. If the file already exists it must be truncated/overwritten.\n",
    "\n",
    "Question: What mode shall we use when opening the file?\n",
    "\n",
    "<i>(Answer: since we are only going to write to it and the contents must be overwritten, we use will use the \"w\" mode).</i>"
   ]
  },
  {
   "cell_type": "code",
   "execution_count": null,
   "metadata": {},
   "outputs": [],
   "source": [
    "f = open(\"test1.txt\",'w')\n",
    "\n",
    "sl1 = f.write(\"The first line.\\n\")\n",
    "sl2 = f.write(\"The Second line.\\n\\n\")\n",
    "sl3 = f.write(\"The last line.\\n\")\n",
    "print('total number of characters written on the file = ', sl1 + sl2 + sl3)\n",
    "\n",
    "f.close()"
   ]
  },
  {
   "cell_type": "markdown",
   "metadata": {},
   "source": [
    "<br>Let's now read all the contents of that file using the \"read()\" method:"
   ]
  },
  {
   "cell_type": "code",
   "execution_count": null,
   "metadata": {},
   "outputs": [],
   "source": [
    "f = open(\"test1.txt\", \"r\")\n",
    "text = f.read()\n",
    "f.close()\n",
    "print(f\"The full text in the file is:\\n\\n{text}\")"
   ]
  },
  {
   "cell_type": "markdown",
   "metadata": {},
   "source": [
    "We can also check the contents of the \"text\" variable to see how Python stores the read information."
   ]
  },
  {
   "cell_type": "code",
   "execution_count": null,
   "metadata": {},
   "outputs": [],
   "source": [
    "text"
   ]
  },
  {
   "cell_type": "markdown",
   "metadata": {},
   "source": [
    "<a id='t1cls'></a>\n",
    "## ▙▂ **Part 3: Using File I/O in a Program ▂▂**"
   ]
  },
  {
   "cell_type": "markdown",
   "metadata": {},
   "source": [
    "Now let's consider a simple Python program that takes input from the keyboard and outputs to the screen.\n",
    "\n",
    "It is a simple program that adds up two numbers:"
   ]
  },
  {
   "cell_type": "code",
   "execution_count": null,
   "metadata": {},
   "outputs": [],
   "source": [
    "#Input\n",
    "value01 = int(input(\"Type the first number:\"))\n",
    "value02 = int(input(\"Type the second number:\"))\n",
    "\n",
    "#Calculation\n",
    "result = int(value01) + int(value02)\n",
    "\n",
    "#Output\n",
    "print(f\"The result is:\\n{result}\")"
   ]
  },
  {
   "cell_type": "markdown",
   "metadata": {},
   "source": [
    "<br>Modify the previous program so that it outputs the result to a file named \"LatestResult01.txt\". If the file already exists it must be truncated/overwritten.\n",
    "\n",
    "Question: What mode shall we use when opening the file?<br>\n",
    "<i>(Answer: since we are only going to write to it and the contents must be overwritten, we use will use the \"w\" mode).</i>\n",
    "\n",
    "<br><i>Try to do this first without checking the solution in the next cell. After typing your code, compare it with the solution. </i>"
   ]
  },
  {
   "cell_type": "code",
   "execution_count": null,
   "metadata": {},
   "outputs": [],
   "source": [
    "# Type your code here\n",
    "\n",
    "\n",
    "\n"
   ]
  },
  {
   "cell_type": "markdown",
   "metadata": {},
   "source": [
    "<b><i>Solution"
   ]
  },
  {
   "cell_type": "code",
   "execution_count": null,
   "metadata": {},
   "outputs": [],
   "source": [
    "#Input\n",
    "value01 = int(input(\"Type the first number:\"))\n",
    "value02 = int(input(\"Type the second number:\"))\n",
    "\n",
    "#Calculation\n",
    "result = int(value01) + int(value02)\n",
    "\n",
    "#Output\n",
    "f = open(\"LatestResult01.txt\", \"w\")\n",
    "f.write(f\"The result is:\\n{result}\")\n",
    "f.close()"
   ]
  },
  {
   "cell_type": "markdown",
   "metadata": {},
   "source": [
    "<br>We cannot see the result on our screen now, because the program did not output the result to the screen. However, if you check the folder where this jupyter notebook is running, you should now find a file named \"LatestResult01.txt\", and it should contain the result (printed out just like we did in the previous exercise)."
   ]
  },
  {
   "cell_type": "markdown",
   "metadata": {},
   "source": [
    "Let's try to open that file here, just to see its contents. Let's use the same code as before.\n",
    "\n",
    "Question: What mode shall we use when opening the file?\n",
    "\n",
    "<i>(Answer: since we only want to read it and we know that we will not change it, we can use the \"r\" mode, which is also the default mode in case this argument is omitted)</i>"
   ]
  },
  {
   "cell_type": "code",
   "execution_count": null,
   "metadata": {},
   "outputs": [],
   "source": [
    "f = open(\"LatestResult01.txt\", \"r\")\n",
    "text = f.read()\n",
    "f.close()\n",
    "print(f\"The full text in the file is:\\n\\n{text}\")"
   ]
  },
  {
   "cell_type": "markdown",
   "metadata": {},
   "source": [
    "<br>Is it possible to output the result both to the screen and the file?\n",
    "\n",
    "Of course!\n",
    "\n",
    "Modify the previous code so that the result from the sum of the two numbers is printed out both to the file (\"LatestResult01.txt\") and the screen.\n",
    "\n",
    "<br><i>Try to do this first without checking the solution in the next cell. After typing your code, compare it with the solution. </i>"
   ]
  },
  {
   "cell_type": "code",
   "execution_count": null,
   "metadata": {},
   "outputs": [],
   "source": [
    "# Type your code here\n",
    "\n",
    "\n",
    "\n"
   ]
  },
  {
   "cell_type": "markdown",
   "metadata": {},
   "source": [
    "<b><i>Solution"
   ]
  },
  {
   "cell_type": "code",
   "execution_count": null,
   "metadata": {},
   "outputs": [],
   "source": [
    "#Input\n",
    "value01 = int(input(\"Type the first number:\"))\n",
    "value02 = int(input(\"Type the second number:\"))\n",
    "\n",
    "#Calculation\n",
    "result = int(value01) + int(value02)\n",
    "\n",
    "#Output\n",
    "#Output to screen\n",
    "print(f\"The result is:\\n{result}\")\n",
    "#Output to file\n",
    "f = open(\"LatestResult01.txt\", \"w\")\n",
    "f.write(f\"The result is:\\n{result}\")\n",
    "f.close()"
   ]
  },
  {
   "cell_type": "markdown",
   "metadata": {},
   "source": [
    "You can use the code cell below to read the file contents (or open the file in your operating system) and verify that the contents of the file were also updated and correspond to the results seen on the screen. If you open the file in your operating system, do not forget to close the file in your text editor after this verification."
   ]
  },
  {
   "cell_type": "code",
   "execution_count": null,
   "metadata": {},
   "outputs": [],
   "source": [
    "f = open(\"LatestResult01.txt\", \"r\")\n",
    "text = f.read()\n",
    "f.close()\n",
    "print(f\"The full text in the file is:\\n\\n{text}\")"
   ]
  },
  {
   "cell_type": "markdown",
   "metadata": {},
   "source": [
    "Let's modify the program so that it takes input from a file instead of the keyboard.\n",
    "\n",
    "First, let's check the contents of the file \"File01.txt\" (previously created and copied to the same folder as this jupyter notebook). "
   ]
  },
  {
   "cell_type": "code",
   "execution_count": null,
   "metadata": {},
   "outputs": [],
   "source": [
    "f = open(\"File01.txt\")\n",
    "text = f.read()\n",
    "f.close()\n",
    "print(f\"The full text in the file is:\\n\\n{text}\")"
   ]
  },
  {
   "cell_type": "markdown",
   "metadata": {},
   "source": [
    "As we can see that file contains two numeric values (one in each line). Modify the original program (the one that only outputs the result to the screen) so that it reads the two input numbers from the file \"File01.txt\" and adds up these two numbers (still showing the result only on the screen).\n",
    "\n",
    "<i>Tip: since the values are stored line-by-line we can use the \"readline()\" method to read them.</i>\n",
    "\n",
    "<br><i>Try to do this first without checking the solution in the next cell. After typing your code, compare it with the solution. </i>"
   ]
  },
  {
   "cell_type": "code",
   "execution_count": null,
   "metadata": {},
   "outputs": [],
   "source": [
    "# Type your code here\n",
    "\n",
    "\n",
    "\n"
   ]
  },
  {
   "cell_type": "markdown",
   "metadata": {},
   "source": [
    "<b><i>Solution"
   ]
  },
  {
   "cell_type": "code",
   "execution_count": null,
   "metadata": {},
   "outputs": [],
   "source": [
    "#Input\n",
    "f = open(\"File01.txt\", \"r\")\n",
    "value01 = int(f.readline())\n",
    "value02 = int(f.readline())\n",
    "f.close()\n",
    "\n",
    "#Calculation\n",
    "result = int(value01) + int(value02)\n",
    "\n",
    "#Output\n",
    "print(f\"The result is:\\n{result}\")"
   ]
  },
  {
   "cell_type": "markdown",
   "metadata": {},
   "source": [
    "Modify the program above so that it only reads the first value from the file \"File01.txt\", and reads the second value from the keyboard. Everything else remains the same."
   ]
  },
  {
   "cell_type": "code",
   "execution_count": null,
   "metadata": {},
   "outputs": [],
   "source": [
    "#Input\n",
    "f1 = open(\"File01.txt\", \"r\")\n",
    "value01 = int(f1.readline())\n",
    "f1.close()\n",
    "value02 = int(input(\"Type the second number:\"))\n",
    "\n",
    "#Calculation\n",
    "result = int(value01) + int(value02)\n",
    "\n",
    "#Output\n",
    "print(f\"The result is:\\n{result}\")"
   ]
  },
  {
   "cell_type": "markdown",
   "metadata": {},
   "source": [
    "Modify the program above to output the result to the screen and also save the result in the \"LatestResult01.txt\" file.\n",
    "\n",
    "<br><i>Try to do this first without checking the solution in the next cell. After typing your code, compare it with the solution. </i>"
   ]
  },
  {
   "cell_type": "code",
   "execution_count": null,
   "metadata": {},
   "outputs": [],
   "source": [
    "# Type your code here\n",
    "\n",
    "\n",
    "\n"
   ]
  },
  {
   "cell_type": "markdown",
   "metadata": {},
   "source": [
    "<b><i>Solution"
   ]
  },
  {
   "cell_type": "code",
   "execution_count": null,
   "metadata": {},
   "outputs": [],
   "source": [
    "#Input\n",
    "f1 = open(\"File01.txt\", \"r\")\n",
    "value01 = int(f1.readline())\n",
    "f1.close()\n",
    "value02 = int(input(\"Type the second number:\"))\n",
    "\n",
    "#Calculation\n",
    "result = int(value01) + int(value02)\n",
    "\n",
    "#Output\n",
    "#Output to screen\n",
    "print(f\"The result is:\\n{result}\")\n",
    "#Output to file\n",
    "f2 = open(\"LatestResult01.txt\", \"w\")\n",
    "f2.write(f\"The result is:\\n{result}\")\n",
    "f2.close()"
   ]
  },
  {
   "cell_type": "markdown",
   "metadata": {},
   "source": [
    "You can use the code below to read the file contents (or open the file in your operating system) and verify that the contents of the file were also updated and correspond to the results seen on the screen."
   ]
  },
  {
   "cell_type": "code",
   "execution_count": null,
   "metadata": {},
   "outputs": [],
   "source": [
    "f = open(\"LatestResult01.txt\", \"r\")\n",
    "text = f.read()\n",
    "f.close()\n",
    "print(f\"The full text in the file is:\\n\\n{text}\")"
   ]
  },
  {
   "cell_type": "markdown",
   "metadata": {},
   "source": [
    "<a id='t1cls'></a>\n",
    "## ▙▂ **Part 4: Error Handling ▂▂**"
   ]
  },
  {
   "cell_type": "markdown",
   "metadata": {},
   "source": [
    "Modify the previous exercise so that files are opened (and automatically closed) using the \"with\" Python statement.\n",
    "\n",
    "<br><i>Try to do this first without checking the solution in the next cell. After typing your code, compare it with the solution. </i>"
   ]
  },
  {
   "cell_type": "code",
   "execution_count": null,
   "metadata": {},
   "outputs": [],
   "source": [
    "# Type your code here\n",
    "\n",
    "\n",
    "\n"
   ]
  },
  {
   "cell_type": "markdown",
   "metadata": {},
   "source": [
    "<b><i>Solution"
   ]
  },
  {
   "cell_type": "code",
   "execution_count": null,
   "metadata": {},
   "outputs": [],
   "source": [
    "#Input\n",
    "with open(\"File01.txt\", \"r\") as f1:\n",
    "    value01 = int(f1.readline())\n",
    "\n",
    "value02 = int(input(\"Type the second number:\"))\n",
    "\n",
    "#Calculation\n",
    "result = int(value01) + int(value02)\n",
    "\n",
    "#Output\n",
    "#Output to screen\n",
    "print(f\"The result is:\\n{result}\")\n",
    "#Output to file\n",
    "with open(\"LatestResult01.txt\", \"w\") as f2:\n",
    "    f2.write(f\"The result is:\\n{result}\")"
   ]
  },
  {
   "cell_type": "markdown",
   "metadata": {},
   "source": [
    "Now let's modify the previous exercise to also use a try...except blocks for error handling when trying to open file \"File01.txt\".\n",
    "\n",
    "Question: since we are using the \"w\" mode to open the \"LatestResults01.txt\" file, the file will be created if it does not exist. In that case, does it make sense for a \"FileNotFoundError\" exception to occur? If not, what kind of exception can we use in the \"try...except\" block?)\n",
    "\n",
    "<i>(Answer: no, but we can use \"OSError\" to catch an exception. By the way, \"OSError\" can also be used in the \"try...except\" block that opens \"File01.txt\" for reading, but it is more general than \"FileNotFoundError\")</i>\n",
    "\n",
    "After writing the code you can try to remove or rename the \"File01.txt\" input file to see how the code behaves when catching the exception that is raised when the file is not found."
   ]
  },
  {
   "cell_type": "code",
   "execution_count": null,
   "metadata": {},
   "outputs": [],
   "source": [
    "#Input\n",
    "try:\n",
    "    with open(\"File01.txt\", \"r\") as f1:\n",
    "        value01 = int(f1.readline())\n",
    "except FileNotFoundError:\n",
    "    print('file File01.txt cannot be found')\n",
    "    value01 = 0\n",
    "\n",
    "value02 = int(input(\"Type the second number:\"))\n",
    "\n",
    "#Calculation\n",
    "result = int(value01) + int(value02)\n",
    "\n",
    "#Output\n",
    "#Output to screen\n",
    "print(f\"The result is:\\n{result}\")\n",
    "#Output to file\n",
    "try:\n",
    "    with open(\"LatestResult01.txt\", \"w\") as f2:\n",
    "        f2.write(f\"The result is:\\n{result}\")\n",
    "except OSError:\n",
    "    print('error opening LatestResult01.txt for writing')"
   ]
  },
  {
   "cell_type": "markdown",
   "metadata": {
    "deletable": false,
    "editable": false
   },
   "source": [
    "<br>[back to top ↥](#t4p1toc)"
   ]
  }
 ],
 "metadata": {
  "celltoolbar": "Edit Metadata",
  "kernelspec": {
   "display_name": "Python 3",
   "language": "python",
   "name": "python3"
  },
  "language_info": {
   "codemirror_mode": {
    "name": "ipython",
    "version": 3
   },
   "file_extension": ".py",
   "mimetype": "text/x-python",
   "name": "python",
   "nbconvert_exporter": "python",
   "pygments_lexer": "ipython3",
   "version": "3.7.1"
  }
 },
 "nbformat": 4,
 "nbformat_minor": 4
}
