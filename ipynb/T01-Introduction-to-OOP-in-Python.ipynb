{
 "cells": [
  {
   "cell_type": "markdown",
   "metadata": {},
   "source": [
    "# **Tutorial 01: Introduction to OOP in Python** 👀"
   ]
  },
  {
   "cell_type": "markdown",
   "metadata": {},
   "source": [
    "<a id='t1toc'></a>\n",
    "#### Contents: ####\n",
    "- **[Class](#t1cls)**\n",
    "    - [Class Definition](#t1classdefinition)\n",
    "    - [Empty Class](#t1empty)\n",
    "    - [Class Object](#t1classobject)\n",
    "    - *[Exercise 1](#t1ex1)*\n",
    "- **[Instances (Objects)](#t1instance)**\n",
    "    - *[Exercise 2](#t1ex2)*\n",
    "- **[Methods](#t1method)**\n",
    "    - *[Exercise 3](#t1ex3)*\n",
    "- **[Class Objects vs. Instance Object](#t1vs)**\n",
    "- [Exercises Solutions](#t1sol)\n"
   ]
  },
  {
   "cell_type": "markdown",
   "metadata": {},
   "source": [
    "💡 <b>TIP</b><br>\n",
    "> <i>In Exercises, when time permits, try to write the codes yourself, and do not copy it from the other cells.</i>\n"
   ]
  },
  {
   "cell_type": "markdown",
   "metadata": {},
   "source": [
    "<br>⚠ <b>NOTE</b><br>\n",
    ">Most programmers simply use the word \"**Class**\" for \"*Class object*\", and the word \"**Object**\" for \"*Instance object*\".<br>"
   ]
  },
  {
   "cell_type": "markdown",
   "metadata": {},
   "source": [
    "<br><br><a id='t1cls'></a>\n",
    "## ▙▂ **🄲LASS ▂▂**"
   ]
  },
  {
   "cell_type": "markdown",
   "metadata": {},
   "source": [
    "Classes provide a means of bundling <u>*data*</u> and <u>*functionality*</u> together.<br>\n",
    "- Creating a new class creates a new type of **object**, allowing new **instances** of that type to be made. <br>\n",
    "- Class instances can have **attributes** attached to it for *maintaining* its *state*. <br>\n",
    "- Class instances</u> can also have **methods** (defined by its class) for *modifying* its *state*."
   ]
  },
  {
   "cell_type": "markdown",
   "metadata": {},
   "source": [
    "<a id='t1classdefinition'></a>\n",
    "#### **▇▂ Class Definition ▂▂**\n",
    "The simplest form of class definition looks like this:\n",
    "\n",
    "```Python\n",
    "class ClassName:\n",
    "    '''This is a docstring. You can provide information about the class.'''\n",
    "    <statement-1>\n",
    "    .\n",
    "    .\n",
    "    .\n",
    "    <statement-N>\n",
    "```\n",
    "\n",
    "▞▚ Class definitions, like function definitions (*def* statements) <u>must be executed</u> before they have any effect.\n",
    "\n",
    "A class creates a new *local namespace*, where all its attributes are defined. Attributes may be <u>*data*</u> or <u>*functions*</u>.\n"
   ]
  },
  {
   "cell_type": "markdown",
   "metadata": {},
   "source": [
    "<a id='t1empty'></a>\n",
    "#### **▇▂ Empty Class ▂▂**\n",
    "You can create an \"empty\" class -- like a blank template -- by including the `pass` statement after the class declaration."
   ]
  },
  {
   "cell_type": "code",
   "execution_count": null,
   "metadata": {},
   "outputs": [],
   "source": [
    "# define an empty class\n",
    "\n",
    "class EmptyClass:\n",
    "    '''This is an empty class.'''\n",
    "    pass"
   ]
  },
  {
   "cell_type": "markdown",
   "metadata": {},
   "source": [
    "<br>[back to top ↥](#t1toc)"
   ]
  },
  {
   "cell_type": "markdown",
   "metadata": {},
   "source": [
    "<a id='t1classobject'></a>\n",
    "#### **▇▂ Class Object ▂▂**\n",
    "\n",
    "As soon as we define a class, a new <u>*class object*</u> is created with the same name. <br>\n"
   ]
  },
  {
   "cell_type": "code",
   "execution_count": null,
   "metadata": {},
   "outputs": [],
   "source": [
    "print(EmptyClass)"
   ]
  },
  {
   "cell_type": "markdown",
   "metadata": {},
   "source": [
    "This **class object** allows us to access the different attributes as well as to <u>instantiate</u> new objects of that class.<br>\n",
    "\n",
    "Class objects support two kinds of operations: \n",
    "- *attribute references* \n",
    "- *instantiation*\n",
    "\n",
    "Attribute references use the standard syntax used for all attribute references in Python: `obj.name`<br>\n",
    "▚ Valid attribute names are all the names that were in the <u>class’s namespace</u> when the class object was created."
   ]
  },
  {
   "cell_type": "code",
   "execution_count": null,
   "metadata": {},
   "outputs": [],
   "source": [
    "class dog:\n",
    "    '''This is a class defined for Dogs.\n",
    "       more information about the class could be added here.'''\n",
    "    \n",
    "    # Class Attribute(s)\n",
    "    species = 'mammal'    "
   ]
  },
  {
   "cell_type": "code",
   "execution_count": null,
   "metadata": {},
   "outputs": [],
   "source": [
    "print(dog.species)"
   ]
  },
  {
   "cell_type": "markdown",
   "metadata": {},
   "source": [
    "You can get information about the class using `help` function."
   ]
  },
  {
   "cell_type": "code",
   "execution_count": null,
   "metadata": {},
   "outputs": [],
   "source": [
    "help(dog)"
   ]
  },
  {
   "cell_type": "markdown",
   "metadata": {},
   "source": [
    "Try the following class defined for eagles:"
   ]
  },
  {
   "cell_type": "code",
   "execution_count": null,
   "metadata": {},
   "outputs": [],
   "source": [
    "class eagle:\n",
    "    pass"
   ]
  },
  {
   "cell_type": "markdown",
   "metadata": {},
   "source": [
    "you can add new attribute(s) to the class:"
   ]
  },
  {
   "cell_type": "code",
   "execution_count": null,
   "metadata": {},
   "outputs": [],
   "source": [
    "eagle.species = 'bird'"
   ]
  },
  {
   "cell_type": "code",
   "execution_count": null,
   "metadata": {},
   "outputs": [],
   "source": [
    "print(eagle.species)"
   ]
  },
  {
   "cell_type": "markdown",
   "metadata": {},
   "source": [
    "<br>[back to top ↥](#t1toc)"
   ]
  },
  {
   "cell_type": "markdown",
   "metadata": {},
   "source": [
    "<br><br><a id='t1ex1'></a>\n",
    "◾◾◾◾◾◾◾◾◾◾◾◾◾◾◾◾◾◾◾◾◾◾◾◾◾◾◾◾◾◾◾◾◾◾◾◾◾◾◾◾◾◾◾◾◾◾◾◾◾◾"
   ]
  },
  {
   "cell_type": "markdown",
   "metadata": {},
   "source": [
    "**✎ Exercise 𝟙**<br> <br> ▙ ⏰ ~ 1.5 min. ▟ <br>"
   ]
  },
  {
   "cell_type": "markdown",
   "metadata": {},
   "source": [
    "❶ Define a new class for crocodiles and assign 'reptiles\" as its `species`.<br>"
   ]
  },
  {
   "cell_type": "code",
   "execution_count": null,
   "metadata": {},
   "outputs": [],
   "source": [
    "# Exercise 1.1\n"
   ]
  },
  {
   "cell_type": "markdown",
   "metadata": {},
   "source": [
    "❷ Print the class object. What do you see in output?<br>"
   ]
  },
  {
   "cell_type": "code",
   "execution_count": null,
   "metadata": {},
   "outputs": [],
   "source": [
    "# Exercise 1.2\n"
   ]
  },
  {
   "cell_type": "markdown",
   "metadata": {},
   "source": [
    "❸ Print the `species` of the class."
   ]
  },
  {
   "cell_type": "code",
   "execution_count": null,
   "metadata": {},
   "outputs": [],
   "source": [
    "# Exercise 1.3\n"
   ]
  },
  {
   "cell_type": "markdown",
   "metadata": {},
   "source": [
    "◾◾◾◾◾◾◾◾◾◾◾◾◾◾◾◾◾◾◾◾◾◾◾◾◾◾◾◾◾◾◾◾◾◾◾◾◾◾◾◾◾◾◾◾◾◾◾◾◾◾"
   ]
  },
  {
   "cell_type": "markdown",
   "metadata": {},
   "source": [
    "<br>[back to top ↥](#t1toc)"
   ]
  },
  {
   "cell_type": "markdown",
   "metadata": {},
   "source": [
    "<br><br><a id='t1instance'></a>\n",
    "## **▙▂ 🄸NSTANCE / 🄾BJECT ▂▂**"
   ]
  },
  {
   "cell_type": "markdown",
   "metadata": {},
   "source": [
    "We saw that when a class definition is left normally (via the end), a <u>class object</u> is created. It can be used to create new object instances (**instantiation**) of that class.<br>\n",
    "A class is like a blueprint while an instance is a copy of the class with actual values. An **instance** of a Class is also called as an **object**.<br>\n",
    "The procedure to create an object is similar to a *function call*. For example, the code below creates a new instance of the class and assigns this object to a local variable. \n"
   ]
  },
  {
   "cell_type": "code",
   "execution_count": null,
   "metadata": {},
   "outputs": [],
   "source": [
    "class dog:\n",
    "    species = 'mammal'\n",
    "\n",
    "Cooper = dog()"
   ]
  },
  {
   "cell_type": "markdown",
   "metadata": {},
   "source": [
    "We can access the attributes of objects using the object name prefix."
   ]
  },
  {
   "cell_type": "code",
   "execution_count": null,
   "metadata": {},
   "outputs": [],
   "source": [
    "print(Cooper.species)"
   ]
  },
  {
   "cell_type": "markdown",
   "metadata": {},
   "source": [
    "Built-in functions isinstance() can be used to check instance of a class. The function `isinstance()` returns *True* if the object is an instance of the class."
   ]
  },
  {
   "cell_type": "code",
   "execution_count": null,
   "metadata": {},
   "outputs": [],
   "source": [
    "isinstance(Cooper, dog)"
   ]
  },
  {
   "cell_type": "code",
   "execution_count": null,
   "metadata": {},
   "outputs": [],
   "source": [
    "isinstance(Cooper, eagle)"
   ]
  },
  {
   "cell_type": "markdown",
   "metadata": {},
   "source": [
    "<br>[back to top ↥](#t1toc)"
   ]
  },
  {
   "cell_type": "markdown",
   "metadata": {},
   "source": [
    "<br><br><a id='t1ex2'></a>\n",
    "◾◾◾◾◾◾◾◾◾◾◾◾◾◾◾◾◾◾◾◾◾◾◾◾◾◾◾◾◾◾◾◾◾◾◾◾◾◾◾◾◾◾◾◾◾◾◾◾◾◾"
   ]
  },
  {
   "cell_type": "markdown",
   "metadata": {},
   "source": [
    "**✎ Exercise 𝟚** <br> <br> ▙ ⏰ ~ 2 min. ▟ <br>"
   ]
  },
  {
   "cell_type": "markdown",
   "metadata": {},
   "source": [
    "❶ Run the following code. Why do you get an error?<br>"
   ]
  },
  {
   "cell_type": "code",
   "execution_count": null,
   "metadata": {},
   "outputs": [],
   "source": [
    "# Exercise 2.1\n",
    "\n",
    "class eagle:\n",
    "    pass\n",
    "\n",
    "Goldie = eagle()\n",
    "print(Goldie.species)"
   ]
  },
  {
   "cell_type": "markdown",
   "metadata": {},
   "source": [
    "❷ Fix the error. (For your convenient, the code is already copied to the cell below.)"
   ]
  },
  {
   "cell_type": "code",
   "execution_count": null,
   "metadata": {},
   "outputs": [],
   "source": [
    "# Exercise 2.2\n",
    "\n",
    "class eagle:\n",
    "    pass\n",
    "\n",
    "Goldie = eagle()\n",
    "print(Goldie.species)\n"
   ]
  },
  {
   "cell_type": "markdown",
   "metadata": {},
   "source": [
    "❸ Add more attributes to the class, without manipulating the class defintion.<br>"
   ]
  },
  {
   "cell_type": "code",
   "execution_count": null,
   "metadata": {},
   "outputs": [],
   "source": [
    "# Exercise 2.3\n"
   ]
  },
  {
   "cell_type": "markdown",
   "metadata": {},
   "source": [
    "❹ Define a new instance of the class and print the attributes of the instance."
   ]
  },
  {
   "cell_type": "code",
   "execution_count": null,
   "metadata": {},
   "outputs": [],
   "source": [
    "# Exercise 2.4\n"
   ]
  },
  {
   "cell_type": "markdown",
   "metadata": {},
   "source": [
    "◾◾◾◾◾◾◾◾◾◾◾◾◾◾◾◾◾◾◾◾◾◾◾◾◾◾◾◾◾◾◾◾◾◾◾◾◾◾◾◾◾◾◾◾◾◾◾◾◾◾"
   ]
  },
  {
   "cell_type": "markdown",
   "metadata": {},
   "source": [
    "<br>[back to top ↥](#t1toc)"
   ]
  },
  {
   "cell_type": "markdown",
   "metadata": {},
   "source": [
    "<br><br><a id='t1method'></a>\n",
    "## **▙▂ 🄼ETHOD ▂▂**"
   ]
  },
  {
   "cell_type": "markdown",
   "metadata": {},
   "source": [
    "\n",
    "\n",
    "A function inside a class is called a `Method`."
   ]
  },
  {
   "cell_type": "code",
   "execution_count": null,
   "metadata": {},
   "outputs": [],
   "source": [
    "class dog:\n",
    "    # Class Attributes\n",
    "    species = 'mammal'\n",
    "    \n",
    "    # Class method\n",
    "    def can():\n",
    "        print('bark')\n",
    "\n",
    "class eagle:\n",
    "    species = 'bird'\n",
    "    \n",
    "    def can():\n",
    "        print('fly')"
   ]
  },
  {
   "cell_type": "markdown",
   "metadata": {},
   "source": [
    "You can try the method, simply by calling it with dog class object:"
   ]
  },
  {
   "cell_type": "code",
   "execution_count": null,
   "metadata": {},
   "outputs": [],
   "source": [
    "dog.can()"
   ]
  },
  {
   "cell_type": "markdown",
   "metadata": {},
   "source": [
    "Now, let's create an object (instance), and call the method.<br>\n",
    "**What is the output?<br>\n",
    "Why?**"
   ]
  },
  {
   "cell_type": "code",
   "execution_count": null,
   "metadata": {},
   "outputs": [],
   "source": [
    "Lexi = dog()"
   ]
  },
  {
   "cell_type": "code",
   "execution_count": null,
   "metadata": {},
   "outputs": [],
   "source": [
    "Lexi.can()"
   ]
  },
  {
   "cell_type": "markdown",
   "metadata": {},
   "source": [
    "#### More in-depth\n",
    "Let's do some extra investigations:<br>\n",
    "We can add another method `describe()` with a special argument `self`.<br>\n",
    "`self` represents the instance of the class.<br>\n",
    "The self parameter is a reference to the current instance of the class, and is used to access variables that belongs to the class."
   ]
  },
  {
   "cell_type": "code",
   "execution_count": null,
   "metadata": {},
   "outputs": [],
   "source": [
    "class dog:\n",
    "    # Class Attributes\n",
    "    species = 'mammal'\n",
    "    \n",
    "    # Class method\n",
    "    def can():\n",
    "        print('bark')\n",
    "    \n",
    "    # instance method\n",
    "    def describe(self):\n",
    "        print('The dog  is a domesticated carnivore of the family Canidae.')\n",
    "        print(' It is part of the wolf-like canids, and is the most widely abundant terrestrial carnivore.')\n"
   ]
  },
  {
   "cell_type": "markdown",
   "metadata": {},
   "source": [
    "It does not have to be named `self` , you can call it whatever you like, but it has to be the **first parameter** of any method in the class."
   ]
  },
  {
   "cell_type": "markdown",
   "metadata": {},
   "source": [
    "**Now,** Call the methods, using the **class object** and an **instance object**, as below, and analyze your observation."
   ]
  },
  {
   "cell_type": "code",
   "execution_count": null,
   "metadata": {},
   "outputs": [],
   "source": [
    "dog.can()"
   ]
  },
  {
   "cell_type": "code",
   "execution_count": null,
   "metadata": {},
   "outputs": [],
   "source": [
    "dog.describe()"
   ]
  },
  {
   "cell_type": "markdown",
   "metadata": {},
   "source": [
    "Before we discuss the error, let's create an **instance**, and test both methods again:"
   ]
  },
  {
   "cell_type": "code",
   "execution_count": null,
   "metadata": {},
   "outputs": [],
   "source": [
    "Lexi = dog()"
   ]
  },
  {
   "cell_type": "code",
   "execution_count": null,
   "metadata": {},
   "outputs": [],
   "source": [
    "Lexi.can()"
   ]
  },
  {
   "cell_type": "code",
   "execution_count": null,
   "metadata": {},
   "outputs": [],
   "source": [
    "Lexi.describe()"
   ]
  },
  {
   "cell_type": "markdown",
   "metadata": {},
   "source": [
    "<br>🔴 Analyse the errors and Discuss your observations in the class."
   ]
  },
  {
   "cell_type": "markdown",
   "metadata": {},
   "source": [
    "<br>⚠ <b>NOTE</b><br>\n",
    "> <i><b>self</b> is used to pass the (instance) object as an argument to the class.\n",
    "When you call a method using an object, it automatically pass the object name to the method as <b>the first argument</b>.</i>\n",
    "<br>\n",
    "We can call the instances method using the class name and passing the instance name as parameter:"
   ]
  },
  {
   "cell_type": "code",
   "execution_count": null,
   "metadata": {},
   "outputs": [],
   "source": [
    "dog.describe(Lexi)"
   ]
  },
  {
   "cell_type": "markdown",
   "metadata": {},
   "source": [
    "<br>⚠ <b>NOTE</b><br>\n",
    "> We can also call the instances method using the instance name and `__class__`:"
   ]
  },
  {
   "cell_type": "code",
   "execution_count": null,
   "metadata": {},
   "outputs": [],
   "source": [
    "Lexi.__class__.can()"
   ]
  },
  {
   "cell_type": "markdown",
   "metadata": {},
   "source": [
    "<br>[back to top ↥](#t1toc)"
   ]
  },
  {
   "cell_type": "markdown",
   "metadata": {},
   "source": [
    "<br><br><a id='t1ex3'></a>\n",
    "◾◾◾◾◾◾◾◾◾◾◾◾◾◾◾◾◾◾◾◾◾◾◾◾◾◾◾◾◾◾◾◾◾◾◾◾◾◾◾◾◾◾◾◾◾◾◾◾◾◾"
   ]
  },
  {
   "cell_type": "markdown",
   "metadata": {},
   "source": [
    "**✎ Exercise 𝟛** <br> <br> ▙ ⏰ ~ 1 min. ▟ <br>\n",
    "Repeat the same practice with the class `eagle`.<br>"
   ]
  },
  {
   "cell_type": "code",
   "execution_count": null,
   "metadata": {},
   "outputs": [],
   "source": [
    "Goldie = eagle()"
   ]
  },
  {
   "cell_type": "markdown",
   "metadata": {},
   "source": [
    "❶ call `describe` method with the correct object (**class object** or **instance object**?).<br> "
   ]
  },
  {
   "cell_type": "code",
   "execution_count": null,
   "metadata": {},
   "outputs": [],
   "source": []
  },
  {
   "cell_type": "markdown",
   "metadata": {},
   "source": [
    "❷ call `can` method with the correct object.<br> "
   ]
  },
  {
   "cell_type": "code",
   "execution_count": null,
   "metadata": {},
   "outputs": [],
   "source": []
  },
  {
   "cell_type": "markdown",
   "metadata": {},
   "source": [
    "◾◾◾◾◾◾◾◾◾◾◾◾◾◾◾◾◾◾◾◾◾◾◾◾◾◾◾◾◾◾◾◾◾◾◾◾◾◾◾◾◾◾◾◾◾◾◾◾◾◾"
   ]
  },
  {
   "cell_type": "markdown",
   "metadata": {},
   "source": [
    "<br>[back to top ↥](#t1toc)"
   ]
  },
  {
   "cell_type": "markdown",
   "metadata": {},
   "source": [
    "<br><br><a id='t1vs'></a>\n",
    "## **▙▂ 🄲LASS OBJECT** vs. **🄸NSTANCE OBJECT ▂▂**"
   ]
  },
  {
   "cell_type": "markdown",
   "metadata": {},
   "source": [
    "Let's have a deeper look at the concepts of **class object** (simply called **class**) and **instance object** (simply called **object**).<br>"
   ]
  },
  {
   "cell_type": "code",
   "execution_count": null,
   "metadata": {},
   "outputs": [],
   "source": [
    "class cat:\n",
    "    # class attribute\n",
    "    species = 'mammal'\n",
    "\n",
    "    def print_name(name):\n",
    "        print(name)\n",
    "\n",
    "c = cat()"
   ]
  },
  {
   "cell_type": "code",
   "execution_count": null,
   "metadata": {},
   "outputs": [],
   "source": [
    "print(id(cat))\n",
    "print(id(c))"
   ]
  },
  {
   "cell_type": "code",
   "execution_count": null,
   "metadata": {},
   "outputs": [],
   "source": [
    "print(cat.species)\n",
    "print(c.species)"
   ]
  },
  {
   "cell_type": "markdown",
   "metadata": {},
   "source": [
    "**∴ Conclusion 1** <br>\n",
    "*Class attribute is same for both the class object and the instance object.*"
   ]
  },
  {
   "cell_type": "code",
   "execution_count": null,
   "metadata": {},
   "outputs": [],
   "source": [
    "c.species = 'mammal (instance)'"
   ]
  },
  {
   "cell_type": "code",
   "execution_count": null,
   "metadata": {},
   "outputs": [],
   "source": [
    "print(cat.species)\n",
    "print(c.species)"
   ]
  },
  {
   "cell_type": "markdown",
   "metadata": {},
   "source": [
    "**∴ Conclusion 2** <br>\n",
    "*Changing the attribute of an instance object <u>will not</u> affect the class object.*"
   ]
  },
  {
   "cell_type": "code",
   "execution_count": null,
   "metadata": {},
   "outputs": [],
   "source": [
    "class cat:\n",
    "    # Class Attributes\n",
    "    species = 'mammal'\n",
    "\n",
    "    def print_name(name):\n",
    "        print(name)\n",
    "\n",
    "c = cat()"
   ]
  },
  {
   "cell_type": "code",
   "execution_count": null,
   "metadata": {},
   "outputs": [],
   "source": [
    "cat.species = 'mammal (class)'"
   ]
  },
  {
   "cell_type": "code",
   "execution_count": null,
   "metadata": {},
   "outputs": [],
   "source": [
    "print(cat.species)\n",
    "print(c.species)"
   ]
  },
  {
   "cell_type": "markdown",
   "metadata": {},
   "source": [
    "**∴ Conclusion 3** <br>\n",
    "*Changing the attribute of the class object will affect all instance objects.*"
   ]
  },
  {
   "cell_type": "markdown",
   "metadata": {},
   "source": [
    "#### Method"
   ]
  },
  {
   "cell_type": "code",
   "execution_count": null,
   "metadata": {},
   "outputs": [],
   "source": [
    "class cat:\n",
    "    # Class Attributes\n",
    "    species = 'mammal'\n",
    "\n",
    "    def print_name(name):\n",
    "        print(name)\n",
    "\n",
    "c = cat()"
   ]
  },
  {
   "cell_type": "code",
   "execution_count": null,
   "metadata": {},
   "outputs": [],
   "source": [
    "cat.print_name('daisy')"
   ]
  },
  {
   "cell_type": "code",
   "execution_count": null,
   "metadata": {},
   "outputs": [],
   "source": [
    "c.print_name('daisy')"
   ]
  },
  {
   "cell_type": "markdown",
   "metadata": {},
   "source": [
    "<br>🔴 Analyse the errors and Discuss your observation in the class."
   ]
  },
  {
   "cell_type": "code",
   "execution_count": null,
   "metadata": {},
   "outputs": [],
   "source": [
    "c.print_name()"
   ]
  },
  {
   "cell_type": "markdown",
   "metadata": {},
   "source": [
    "So, how should we define attributes and methods for the instance objects?"
   ]
  },
  {
   "cell_type": "markdown",
   "metadata": {},
   "source": [
    "<br>[back to top ↥](#t1toc)"
   ]
  },
  {
   "cell_type": "markdown",
   "metadata": {},
   "source": [
    "#### Define Attributes for the Instances"
   ]
  },
  {
   "cell_type": "markdown",
   "metadata": {},
   "source": [
    "The class and object concepts would be useful, if we can create attributes and methods which are specifically defined for a specific instance.<br>\n",
    "For example, every dog needs to have their own specific name."
   ]
  },
  {
   "cell_type": "markdown",
   "metadata": {},
   "source": [
    "The following codes show how can we define specific attributes for objects."
   ]
  },
  {
   "cell_type": "code",
   "execution_count": null,
   "metadata": {},
   "outputs": [],
   "source": [
    "class dog:\n",
    "    # Class Attributes\n",
    "    species = 'mammal'"
   ]
  },
  {
   "cell_type": "code",
   "execution_count": null,
   "metadata": {},
   "outputs": [],
   "source": [
    "d1 = dog()\n",
    "d1.name = 'Cooper'\n",
    "d1.y_birth = 2018"
   ]
  },
  {
   "cell_type": "code",
   "execution_count": null,
   "metadata": {},
   "outputs": [],
   "source": [
    "d2 = dog()\n",
    "d2.name = 'Daisy'"
   ]
  },
  {
   "cell_type": "code",
   "execution_count": null,
   "metadata": {},
   "outputs": [],
   "source": [
    "print(d1.name, 'is born on', d1.y_birth)\n",
    "print(d2.name, 'is born on', d2.y_birth)"
   ]
  },
  {
   "cell_type": "markdown",
   "metadata": {},
   "source": [
    "🔴 Why you got an error?"
   ]
  },
  {
   "cell_type": "code",
   "execution_count": null,
   "metadata": {},
   "outputs": [],
   "source": [
    "dir(d1)"
   ]
  },
  {
   "cell_type": "code",
   "execution_count": null,
   "metadata": {},
   "outputs": [],
   "source": [
    "dir(d2)"
   ]
  },
  {
   "cell_type": "markdown",
   "metadata": {},
   "source": [
    "<br>[back to top ↥](#t1toc)"
   ]
  },
  {
   "cell_type": "markdown",
   "metadata": {},
   "source": [
    "<br><br><a id='t1sol'></a>\n",
    "◼◼◼◼◼◼◼◼◼◼◼◼◼◼◼◼◼◼◼◼◼◼◼◼◼◼◼◼◼◼◼◼◼◼◼◼◼◼◼◼◼◼◼◼◼◼◼◼◼◼<br>\n",
    "◼◼◼◼◼◼◼◼◼◼◼◼◼◼◼◼◼◼◼◼◼◼◼◼◼◼◼◼◼◼◼◼◼◼◼◼◼◼◼◼◼◼◼◼◼◼◼◼◼◼"
   ]
  },
  {
   "cell_type": "markdown",
   "metadata": {},
   "source": [
    "#### 🔑 **Exercises Solutions** ####"
   ]
  },
  {
   "cell_type": "markdown",
   "metadata": {},
   "source": [
    "**Exercise 1.1:**"
   ]
  },
  {
   "cell_type": "code",
   "execution_count": null,
   "metadata": {},
   "outputs": [],
   "source": [
    "class crocodile:\n",
    "    '''crocodile class '''\n",
    "    species = 'reptiles'"
   ]
  },
  {
   "cell_type": "markdown",
   "metadata": {},
   "source": [
    "**Exercise 1.2:**"
   ]
  },
  {
   "cell_type": "code",
   "execution_count": null,
   "metadata": {},
   "outputs": [],
   "source": [
    "print(crocodile)"
   ]
  },
  {
   "cell_type": "markdown",
   "metadata": {},
   "source": [
    "**Exercise 1.3:**"
   ]
  },
  {
   "cell_type": "code",
   "execution_count": null,
   "metadata": {},
   "outputs": [],
   "source": [
    "print(crocodile.species)"
   ]
  },
  {
   "cell_type": "markdown",
   "metadata": {},
   "source": [
    "<br>[back to the Exercise 1 ↥](#t1ex1)"
   ]
  },
  {
   "cell_type": "markdown",
   "metadata": {},
   "source": [
    "<br>[back to top ↥](#t1toc)"
   ]
  },
  {
   "cell_type": "markdown",
   "metadata": {},
   "source": [
    "**Exercise 2.2:**"
   ]
  },
  {
   "cell_type": "code",
   "execution_count": null,
   "metadata": {},
   "outputs": [],
   "source": [
    "class eagle:\n",
    "    pass\n",
    "\n",
    "eagle.species = 'bird'  # You may define the attributes inside the body of the class (next cell).\n",
    "\n",
    "Goldie = eagle()\n",
    "print(Goldie.species)"
   ]
  },
  {
   "cell_type": "code",
   "execution_count": null,
   "metadata": {},
   "outputs": [],
   "source": [
    "class eagle:\n",
    "    species = 'bird'\n",
    "\n",
    "Goldie = eagle()\n",
    "print(Goldie.species)"
   ]
  },
  {
   "cell_type": "markdown",
   "metadata": {},
   "source": [
    "**⚠ Note:** <br>\n",
    "If you define attribute in the body of the class, you must remove the class name (`species = 'bird'`, not `eagle.species = 'bird'`)"
   ]
  },
  {
   "cell_type": "markdown",
   "metadata": {},
   "source": [
    "**Exercise 2.3:**"
   ]
  },
  {
   "cell_type": "code",
   "execution_count": null,
   "metadata": {},
   "outputs": [],
   "source": [
    "eagle.lifespan = 20\n",
    "eagle.wingspan = 2.2"
   ]
  },
  {
   "cell_type": "markdown",
   "metadata": {},
   "source": [
    "**Exercise 2.4:**"
   ]
  },
  {
   "cell_type": "code",
   "execution_count": null,
   "metadata": {},
   "outputs": [],
   "source": [
    "myEagle = eagle()\n",
    "\n",
    "print(myEagle.species)\n",
    "print(myEagle.lifespan)\n",
    "print(myEagle.wingspan)"
   ]
  },
  {
   "cell_type": "markdown",
   "metadata": {},
   "source": [
    "<br>[back to the Exercise 2 ↥](#t1ex2)"
   ]
  },
  {
   "cell_type": "markdown",
   "metadata": {},
   "source": [
    "<br>[back to top ↥](#t1toc)"
   ]
  },
  {
   "cell_type": "markdown",
   "metadata": {},
   "source": [
    "**Exercise 3.1:**"
   ]
  },
  {
   "cell_type": "code",
   "execution_count": null,
   "metadata": {},
   "outputs": [],
   "source": [
    "Goldie.describe()"
   ]
  },
  {
   "cell_type": "code",
   "execution_count": null,
   "metadata": {},
   "outputs": [],
   "source": [
    "# This is also correct\n",
    "eagle.describe(Goldie)"
   ]
  },
  {
   "cell_type": "markdown",
   "metadata": {},
   "source": [
    "**Exercise 3.2:**"
   ]
  },
  {
   "cell_type": "code",
   "execution_count": null,
   "metadata": {},
   "outputs": [],
   "source": [
    "eagle.can()"
   ]
  },
  {
   "cell_type": "markdown",
   "metadata": {},
   "source": [
    "<br>[back to the Exercise 3 ↥](#t1ex3)"
   ]
  },
  {
   "cell_type": "markdown",
   "metadata": {},
   "source": [
    "[back to top ↥](#t1toc)"
   ]
  },
  {
   "cell_type": "markdown",
   "metadata": {},
   "source": [
    "◼◼◼◼◼◼◼◼◼◼◼◼◼◼◼◼◼◼◼◼◼◼◼◼◼◼◼◼◼◼◼◼◼◼◼◼◼◼◼◼◼◼◼◼◼◼◼◼◼◼<br>\n",
    "◼◼◼◼◼◼◼◼◼◼◼◼◼◼◼◼◼◼◼◼◼◼◼◼◼◼◼◼◼◼◼◼◼◼◼◼◼◼◼◼◼◼◼◼◼◼◼◼◼◼"
   ]
  }
 ],
 "metadata": {
  "kernelspec": {
   "display_name": "Python 3",
   "language": "python",
   "name": "python3"
  },
  "language_info": {
   "codemirror_mode": {
    "name": "ipython",
    "version": 3
   },
   "file_extension": ".py",
   "mimetype": "text/x-python",
   "name": "python",
   "nbconvert_exporter": "python",
   "pygments_lexer": "ipython3",
   "version": "3.7.1"
  }
 },
 "nbformat": 4,
 "nbformat_minor": 4
}
