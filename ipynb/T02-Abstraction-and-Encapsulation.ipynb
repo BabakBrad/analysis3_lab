{
 "cells": [
  {
   "cell_type": "markdown",
   "metadata": {},
   "source": [
    "# **Tutorial 02: Abstraction and Encapsulation** 👀"
   ]
  },
  {
   "cell_type": "markdown",
   "metadata": {},
   "source": [
    "<a id='t2toc'></a>\n",
    "#### Contents: ####\n",
    "- **[Initialization](#t2init)**\n",
    "    - [Recall](#t2recall)\n",
    "    - [`__init__` method](#t2__init)\n",
    "    - *[Exercise 1](#t2ex1)*\n",
    "- **[Abstraction and Encapsulation](#t2abs_enc)**\n",
    "    - [Access Modifiers](#t2accessmod)\n",
    "    - *[Exercise 2](#t2ex2)*\n",
    "- [Home Exercises](#t2hw)\n",
    "- [Exercises Solutions](#t2sol)\n"
   ]
  },
  {
   "cell_type": "markdown",
   "metadata": {},
   "source": [
    "💡 <b>TIP</b><br>\n",
    "  <i>In Exercises, when time permits, try to write the codes yourself, and do not copy it from the other cells.</i>\n"
   ]
  },
  {
   "cell_type": "markdown",
   "metadata": {},
   "source": [
    "<br><br><a id='t2init'></a>\n",
    "## ▙▂ **🄸NITIALIZATION (CONSTRCUCTOR) ▂▂**"
   ]
  },
  {
   "cell_type": "markdown",
   "metadata": {},
   "source": [
    "Let's understand the meaning of initializtion using a simple example, and a recall from the previous lesson. "
   ]
  },
  {
   "cell_type": "markdown",
   "metadata": {},
   "source": [
    "<a id='t2recall'></a>\n",
    "#### **▇▂ Recall ▂▂**\n",
    "In the previous lesson, we learnt how to define a simple class, including some attributes and methods."
   ]
  },
  {
   "cell_type": "code",
   "execution_count": null,
   "metadata": {},
   "outputs": [],
   "source": [
    "class eagle:\n",
    "    species = 'bird'\n",
    "    \n",
    "    def can():\n",
    "        print('fly')\n",
    "    \n",
    "    def describe(self):\n",
    "        print('Eagle is the common name for many large birds of prey of the family Accipitridae.')\n",
    "        print('Eagles belong to several groups of genera, not all of which are closely related.')        \n",
    "        print('Most of the 60 species of eagle are from Eurasia and Africa. ')        "
   ]
  },
  {
   "cell_type": "code",
   "execution_count": null,
   "metadata": {},
   "outputs": [],
   "source": [
    "Goldie = eagle()\n",
    "Goldie.describe()"
   ]
  },
  {
   "cell_type": "markdown",
   "metadata": {},
   "source": [
    "Eventhough the method `describe()` is known as an instance method, but it is not performing any specific operation on an instance.<br>\n",
    "What is the benefit of `describe()` compare to `can()`?<br> \n",
    "Is it really useful.<br>\n",
    "Why?<br>\n",
    "\n",
    "It would be a useful method, if it can perform a task for a specific instance. But how?"
   ]
  },
  {
   "cell_type": "markdown",
   "metadata": {},
   "source": [
    "To do that, we need to make some instance  attributes. Then the instance method can perform a task on the specific instance. <br>"
   ]
  },
  {
   "cell_type": "code",
   "execution_count": null,
   "metadata": {},
   "outputs": [],
   "source": [
    "class eagle:\n",
    "    species = 'bird'\n",
    "        \n",
    "    def can():\n",
    "        print('fly')\n",
    "    \n",
    "    def describe(self):\n",
    "        print('{} is a {} eagle with {} color, and born on {}.'.\n",
    "              format(self.name, self.gender, self.color, self.birth_year))\n",
    "        \n",
    "e1= eagle()\n",
    "e1.name = 'Goldie'\n",
    "e1.color = 'White'\n",
    "e1.gender = 'Male'\n",
    "e1.birth_year = 2015\n",
    "\n",
    "e2= eagle()\n",
    "e2.name = 'Remo'\n",
    "e2.color = 'Black'\n",
    "e2.gender = 'Female'\n",
    "e2.birth_year = 2018"
   ]
  },
  {
   "cell_type": "code",
   "execution_count": null,
   "metadata": {},
   "outputs": [],
   "source": [
    "e1.describe()"
   ]
  },
  {
   "cell_type": "code",
   "execution_count": null,
   "metadata": {},
   "outputs": [],
   "source": [
    "e2.describe()"
   ]
  },
  {
   "cell_type": "markdown",
   "metadata": {},
   "source": [
    "Wouldn't be more intersting, if we can define the attributes of instance, when we are creating the instance?"
   ]
  },
  {
   "cell_type": "markdown",
   "metadata": {},
   "source": [
    "<br>[back to top ↥](#t2toc)"
   ]
  },
  {
   "cell_type": "markdown",
   "metadata": {},
   "source": [
    "<a id='t2__init'></a>\n",
    "#### **▇▂ `__init__` ▂▂**\n",
    "The `__init__` method (is similar to constructors in C++ and Java) is used to initialize the object’s state. The task of constructors is to initialize (assign values) to the data members of the class when an object of class is created. Like methods, a constructor also contains collection of statements (i.e. instructions) that are executed at the time of Object creation. It is run as soon as an object of a class is instantiated. The method is useful to do any initialization you want to do with your object."
   ]
  },
  {
   "cell_type": "markdown",
   "metadata": {},
   "source": [
    "In the previous example, we can use `__init__` to initialize the attributes of an instances."
   ]
  },
  {
   "cell_type": "code",
   "execution_count": null,
   "metadata": {},
   "outputs": [],
   "source": [
    "class eagle:\n",
    "    species = 'bird'\n",
    "\n",
    "    def can():\n",
    "        print('fly')\n",
    "        \n",
    "    # init method or constructor    \n",
    "    def __init__(self, e_name, e_color, e_gender, e_birth_year):   \n",
    "        self.name = e_name\n",
    "        self.color = e_color\n",
    "        self.gender = e_gender\n",
    "        self.birth_year = e_birth_year\n",
    "    \n",
    "    def describe(self):\n",
    "        print('{} is a {} eagle with {} color, and born on {}.'.\n",
    "              format(self.name, self.gender, self.color, self.birth_year))\n"
   ]
  },
  {
   "cell_type": "markdown",
   "metadata": {},
   "source": [
    "So, we pass the values as parameter when an instances is created:"
   ]
  },
  {
   "cell_type": "code",
   "execution_count": null,
   "metadata": {},
   "outputs": [],
   "source": [
    "e1 = eagle('Goldie', 'White', 'Male', 2015)\n",
    "e2 = eagle('Remo', 'Black', 'Female', 2018)"
   ]
  },
  {
   "cell_type": "code",
   "execution_count": null,
   "metadata": {},
   "outputs": [],
   "source": [
    "e1.describe()"
   ]
  },
  {
   "cell_type": "code",
   "execution_count": null,
   "metadata": {},
   "outputs": [],
   "source": [
    "e2.describe()"
   ]
  },
  {
   "cell_type": "code",
   "execution_count": null,
   "metadata": {},
   "outputs": [],
   "source": [
    "e1.species"
   ]
  },
  {
   "cell_type": "code",
   "execution_count": null,
   "metadata": {},
   "outputs": [],
   "source": [
    "e1.name"
   ]
  },
  {
   "cell_type": "markdown",
   "metadata": {},
   "source": [
    "If you like to call `can()` method using an instance, you can add `self` as an argument of the method: "
   ]
  },
  {
   "cell_type": "code",
   "execution_count": null,
   "metadata": {},
   "outputs": [],
   "source": [
    "class eagle:\n",
    "    species = 'bird'\n",
    "\n",
    "    def can(self):\n",
    "        print('fly')\n",
    "        \n",
    "    def __init__(self, e_name, e_color, e_gender, e_birth_year):   \n",
    "        self.name = e_name\n",
    "        self.color = e_color\n",
    "        self.gender = e_gender\n",
    "        self.birth_year = e_birth_year\n",
    "    \n",
    "    def describe(self):\n",
    "        print('{} is a {} eagle with {} color, and born on {}'.\n",
    "              format(self.name, self.gender, self.color, self.birth_year))\n",
    "        \n",
    "e1= eagle('Goldie', 'White', 'Male', 2015)\n",
    "e2= eagle('Remo', 'Black', 'Female', 2018)"
   ]
  },
  {
   "cell_type": "code",
   "execution_count": null,
   "metadata": {},
   "outputs": [],
   "source": [
    "e1.can()"
   ]
  },
  {
   "cell_type": "markdown",
   "metadata": {},
   "source": [
    "<br>[back to top ↥](#t2toc)"
   ]
  },
  {
   "cell_type": "markdown",
   "metadata": {},
   "source": [
    "<br><br><a id='t2ex1'></a>\n",
    "◾◾◾◾◾◾◾◾◾◾◾◾◾◾◾◾◾◾◾◾◾◾◾◾◾◾◾◾◾◾◾◾◾◾◾◾◾◾◾◾◾◾◾◾◾◾◾◾◾◾"
   ]
  },
  {
   "cell_type": "markdown",
   "metadata": {},
   "source": [
    "**✎ Exercise 𝟙**<br> <br> ▙ ⏰ ~ 3 min. ▟ <br>"
   ]
  },
  {
   "cell_type": "markdown",
   "metadata": {},
   "source": [
    "❶ Add a new method `age()` to the class `eagle`, which accept the current year as an argument and print the age of the eagle with an appropriate formatted message.<br>"
   ]
  },
  {
   "cell_type": "code",
   "execution_count": null,
   "metadata": {},
   "outputs": [],
   "source": [
    "# Exercise 1.1\n"
   ]
  },
  {
   "cell_type": "markdown",
   "metadata": {},
   "source": [
    "❷ Define two new instances and print the age of each instance. <br>"
   ]
  },
  {
   "cell_type": "code",
   "execution_count": null,
   "metadata": {},
   "outputs": [],
   "source": [
    "# Exercise 1.2\n"
   ]
  },
  {
   "cell_type": "markdown",
   "metadata": {},
   "source": [
    "◾◾◾◾◾◾◾◾◾◾◾◾◾◾◾◾◾◾◾◾◾◾◾◾◾◾◾◾◾◾◾◾◾◾◾◾◾◾◾◾◾◾◾◾◾◾◾◾◾◾"
   ]
  },
  {
   "cell_type": "markdown",
   "metadata": {},
   "source": [
    "<br>[back to top ↥](#t2toc)"
   ]
  },
  {
   "cell_type": "markdown",
   "metadata": {},
   "source": [
    "<br><br><a id='t2abs_enc'></a>\n",
    "## **▙▂ Abstraction and Encapsulation ▂▂**"
   ]
  },
  {
   "cell_type": "markdown",
   "metadata": {},
   "source": [
    "We use a simple example to understand the concept of abstraction and encapsulation. We start by using a procedural programming approach, and then move to a basic level of abstraction and encapsulation using OOP approach."
   ]
  },
  {
   "cell_type": "markdown",
   "metadata": {},
   "source": [
    "#### Example 1: Bank Account"
   ]
  },
  {
   "cell_type": "markdown",
   "metadata": {},
   "source": [
    "**A poor solution.** Let's make a global variable to store the balance of the bank account and define functions to deposit to or withdraw from the bank account:"
   ]
  },
  {
   "cell_type": "code",
   "execution_count": null,
   "metadata": {},
   "outputs": [],
   "source": [
    "balance = 0\n",
    "\n",
    "def deposit(amount):\n",
    "    global balance\n",
    "    balance += amount\n",
    "    return balance\n",
    "\n",
    "def withdraw(amount):\n",
    "    global balance\n",
    "    balance -= amount\n",
    "    return balance"
   ]
  },
  {
   "cell_type": "code",
   "execution_count": null,
   "metadata": {},
   "outputs": [],
   "source": [
    "deposit(10)\n",
    "print(balance)"
   ]
  },
  {
   "cell_type": "code",
   "execution_count": null,
   "metadata": {},
   "outputs": [],
   "source": [
    "withdraw(5)\n",
    "print(balance)"
   ]
  },
  {
   "cell_type": "markdown",
   "metadata": {},
   "source": [
    "**Add a little bit more.** We can use a separate variable for each person to manage multiple accounts:"
   ]
  },
  {
   "cell_type": "code",
   "execution_count": null,
   "metadata": {},
   "outputs": [],
   "source": [
    "def make_account():\n",
    "    return {'balance': 0}\n",
    "\n",
    "def deposit(account, amount):\n",
    "    account['balance'] += amount\n",
    "    return account['balance']\n",
    "\n",
    "def withdraw(account, amount):\n",
    "    account['balance'] -= amount\n",
    "    return account['balance']"
   ]
  },
  {
   "cell_type": "code",
   "execution_count": null,
   "metadata": {},
   "outputs": [],
   "source": [
    "John_acc = make_account()\n",
    "print(John_acc)"
   ]
  },
  {
   "cell_type": "code",
   "execution_count": null,
   "metadata": {},
   "outputs": [],
   "source": [
    "Mike_acc = make_account()\n",
    "print(Mike_acc)"
   ]
  },
  {
   "cell_type": "code",
   "execution_count": null,
   "metadata": {},
   "outputs": [],
   "source": [
    "deposit(John_acc,10)\n",
    "print(John_acc)"
   ]
  },
  {
   "cell_type": "code",
   "execution_count": null,
   "metadata": {},
   "outputs": [],
   "source": [
    "withdraw(John_acc,5)\n",
    "print(John_acc)"
   ]
  },
  {
   "cell_type": "code",
   "execution_count": null,
   "metadata": {},
   "outputs": [],
   "source": [
    "deposit(Mike_acc,25)\n",
    "print(Mike_acc)"
   ]
  },
  {
   "cell_type": "code",
   "execution_count": null,
   "metadata": {},
   "outputs": [],
   "source": [
    "withdraw(Mike_acc,8)\n",
    "print(Mike_acc)"
   ]
  },
  {
   "cell_type": "markdown",
   "metadata": {},
   "source": [
    "In the above examples, we did not use OOP approach. There are different **global variables** used to store the account information. There is no abstraction and encapsulation."
   ]
  },
  {
   "cell_type": "markdown",
   "metadata": {},
   "source": []
  },
  {
   "cell_type": "markdown",
   "metadata": {},
   "source": [
    "**OOP Approach.** Now, let's use OOP approach to define a class for an account as an abstract data type and encapsulate data and methods in an object."
   ]
  },
  {
   "cell_type": "code",
   "execution_count": null,
   "metadata": {},
   "outputs": [],
   "source": [
    "class BankAccount:\n",
    "    def __init__(self, acc_owner_name, initial_inves_value):\n",
    "        self.name = acc_owner_name\n",
    "        self.balance = initial_inves_value\n",
    "\n",
    "    def withdraw(self, amount):\n",
    "        self.balance -= amount\n",
    "        return self.balance\n",
    "\n",
    "    def deposit(self, amount):\n",
    "        self.balance += amount\n",
    "        return self.balance\n",
    "    \n",
    "    def show_balance(self):\n",
    "        print(self.name, \":\", self.balance)"
   ]
  },
  {
   "cell_type": "code",
   "execution_count": null,
   "metadata": {},
   "outputs": [],
   "source": [
    "John_acc = BankAccount('John', 10)\n",
    "Mike_acc = BankAccount('Mike', 25)"
   ]
  },
  {
   "cell_type": "code",
   "execution_count": null,
   "metadata": {},
   "outputs": [],
   "source": [
    "John_acc.deposit(4)\n",
    "John_acc.show_balance()"
   ]
  },
  {
   "cell_type": "code",
   "execution_count": null,
   "metadata": {},
   "outputs": [],
   "source": [
    "John_acc.withdraw(5)\n",
    "John_acc.show_balance()"
   ]
  },
  {
   "cell_type": "markdown",
   "metadata": {},
   "source": [
    "Do some extra practice by making new objects and calling methods of the class."
   ]
  },
  {
   "cell_type": "code",
   "execution_count": null,
   "metadata": {},
   "outputs": [],
   "source": []
  },
  {
   "cell_type": "markdown",
   "metadata": {},
   "source": [
    "<br>🔴 Discuss the benefits of this approach."
   ]
  },
  {
   "cell_type": "markdown",
   "metadata": {},
   "source": [
    "<br>[back to top ↥](#t2toc)"
   ]
  },
  {
   "cell_type": "markdown",
   "metadata": {},
   "source": [
    "#### Example 2: Card Deck"
   ]
  },
  {
   "cell_type": "markdown",
   "metadata": {},
   "source": [
    "First, we can define a class for a card:"
   ]
  },
  {
   "cell_type": "code",
   "execution_count": null,
   "metadata": {},
   "outputs": [],
   "source": [
    "class Card:\n",
    "    def __init__(self, suit, value):\n",
    "        self.suit = suit\n",
    "        self.value = value"
   ]
  },
  {
   "cell_type": "code",
   "execution_count": null,
   "metadata": {},
   "outputs": [],
   "source": [
    "card1 = Card('Hearts', '8')"
   ]
  },
  {
   "cell_type": "markdown",
   "metadata": {},
   "source": [
    "A low level of abstraction is implemented to define a card with the required details, as a class. However, we still need to know internal structure of the `card` class in order to represent the card:"
   ]
  },
  {
   "cell_type": "code",
   "execution_count": null,
   "metadata": {},
   "outputs": [],
   "source": [
    "print(card1.value, card1.suit)"
   ]
  },
  {
   "cell_type": "markdown",
   "metadata": {},
   "source": [
    "Let's implement more abstraction, by adding an interface to represent the card:"
   ]
  },
  {
   "cell_type": "code",
   "execution_count": null,
   "metadata": {},
   "outputs": [],
   "source": [
    "class Card:\n",
    "    def __init__(self, suit, value):\n",
    "        self.suit = suit\n",
    "        self.value = value\n",
    "    \n",
    "    def represent(self):\n",
    "        return '{} {}'.format(self.value, self.suit)"
   ]
  },
  {
   "cell_type": "markdown",
   "metadata": {},
   "source": [
    "With this definition, we just need to know the name of the method for the representation of an object:"
   ]
  },
  {
   "cell_type": "code",
   "execution_count": null,
   "metadata": {},
   "outputs": [],
   "source": [
    "card1 = Card('Hearts', '8')\n",
    "print(card1.represent())"
   ]
  },
  {
   "cell_type": "markdown",
   "metadata": {},
   "source": [
    "Now, let's extend it to create a deck of cards:"
   ]
  },
  {
   "cell_type": "code",
   "execution_count": null,
   "metadata": {},
   "outputs": [],
   "source": [
    "from random import shuffle\n",
    "\n",
    "class Card:\n",
    "    def __init__(self, suit, value):\n",
    "        self.suit = suit\n",
    "        self.value = value\n",
    "    \n",
    "    def represent(self):\n",
    "        return '{} {}'.format(self.value, self.suit)\n",
    "\n",
    "class Deck:\n",
    "    def __init__(self):\n",
    "        suits = ['♥','♦','♣','♠']\n",
    "        # suits = ['Hearts','Diamonds','Clubs','Spades']\n",
    "        values = ['A','2','3','4','5','6','7','8','9','10','J','Q','K']\n",
    "        self.cards = [Card(suit, value) for suit in suits for value in values]\n",
    "    \n",
    "    def deal(self):\n",
    "        if len(self.cards) == 0:\n",
    "            raise ValueError(\"All cards have been dealt\")\n",
    "        return self.cards.pop().represent()\n",
    "    \n",
    "    def shuffle(self):\n",
    "        if len(self.cards) < 52:\n",
    "            raise ValueError(\"Only full decks can be shuffled\")\n",
    "        shuffle(self.cards)\n",
    "        return self.represent()\n",
    "    \n",
    "    def represent(self):\n",
    "        return \"Cards remaining in deck: {}\".format(len(self.cards))"
   ]
  },
  {
   "cell_type": "code",
   "execution_count": null,
   "metadata": {},
   "outputs": [],
   "source": [
    "c1 = Deck()\n",
    "print(c1.represent())\n",
    "\n",
    "for _ in range(52):\n",
    "    print(c1.deal())"
   ]
  },
  {
   "cell_type": "code",
   "execution_count": null,
   "metadata": {},
   "outputs": [],
   "source": [
    "c2 = Deck()\n",
    "print(c2.represent())\n",
    "c2.shuffle()\n",
    "for _ in range(52):\n",
    "    print('your card: ',c2.deal())\n",
    "    print(c2.represent())"
   ]
  },
  {
   "cell_type": "code",
   "execution_count": null,
   "metadata": {},
   "outputs": [],
   "source": []
  },
  {
   "cell_type": "markdown",
   "metadata": {},
   "source": [
    "<br>[back to top ↥](#t2toc)"
   ]
  },
  {
   "cell_type": "markdown",
   "metadata": {},
   "source": [
    "<br><br><a id='t2ex2'></a>\n",
    "◾◾◾◾◾◾◾◾◾◾◾◾◾◾◾◾◾◾◾◾◾◾◾◾◾◾◾◾◾◾◾◾◾◾◾◾◾◾◾◾◾◾◾◾◾◾◾◾◾◾"
   ]
  },
  {
   "cell_type": "markdown",
   "metadata": {},
   "source": [
    "**✎ Exercise 𝟚** <br> <br> ▙ ⏰ 10 min. ▟ <br>"
   ]
  },
  {
   "cell_type": "markdown",
   "metadata": {},
   "source": [
    "❶ Define a class for a player. The class should contain the name of player and set of their cards. Add a represent method to show the player's name with the cards in their hand.<br>"
   ]
  },
  {
   "cell_type": "code",
   "execution_count": null,
   "metadata": {},
   "outputs": [],
   "source": [
    "# Exercise 2.1\n"
   ]
  },
  {
   "cell_type": "markdown",
   "metadata": {},
   "source": [
    "❷ Add another method to the player's class to get a number of cards from the deck."
   ]
  },
  {
   "cell_type": "code",
   "execution_count": null,
   "metadata": {},
   "outputs": [],
   "source": [
    "# Exercise 2.2\n"
   ]
  },
  {
   "cell_type": "markdown",
   "metadata": {},
   "source": [
    "❸ In the previous exercise, make sure that the number of requested cards is available on the deck, before dealing cards to the player."
   ]
  },
  {
   "cell_type": "code",
   "execution_count": null,
   "metadata": {},
   "outputs": [],
   "source": [
    "# Exercise 2.3\n"
   ]
  },
  {
   "cell_type": "markdown",
   "metadata": {},
   "source": [
    "◾◾◾◾◾◾◾◾◾◾◾◾◾◾◾◾◾◾◾◾◾◾◾◾◾◾◾◾◾◾◾◾◾◾◾◾◾◾◾◾◾◾◾◾◾◾◾◾◾◾"
   ]
  },
  {
   "cell_type": "markdown",
   "metadata": {},
   "source": [
    "<br>[back to top ↥](#t2toc)"
   ]
  },
  {
   "cell_type": "markdown",
   "metadata": {},
   "source": [
    "<a id='t2accessmod'></a>\n",
    "#### **▇▂ Access Modifiers in Python ▂▂**\n",
    "Various object-oriented languages like C++, Java, Python control access modifications which are used to restrict access to the variables and methods of the class. Most programming languages has three forms of access modifiers, which are Public, Protected and Private in a class.\n",
    "\n",
    "Python uses ‘_’ symbol to determine the access control for a specific data member or a member function of a class. Access specifiers in Python have an important role to play in securing data from unauthorized access and in preventing it from being exploited.\n",
    "\n",
    "A Class in Python has three types of access modifiers –\n",
    "\n",
    "- **Public** Access Modifier\n",
    "- **Protected** Access Modifier\n",
    "- **Private** Access Modifier"
   ]
  },
  {
   "cell_type": "markdown",
   "metadata": {},
   "source": [
    "#### Public Access Modifier\n",
    "The members of a class that are declared public are easily accessible from any part of the program. All data members and member functions of a class are **public** *by default*."
   ]
  },
  {
   "cell_type": "code",
   "execution_count": null,
   "metadata": {},
   "outputs": [],
   "source": [
    "class Student: \n",
    "    # constructor\n",
    "    def __init__(self, name, age): \n",
    "        # public data mambers \n",
    "        self.studentName = name\n",
    "        self.studentAge = age \n",
    "    \n",
    "    # public memeber function\n",
    "    def displayAge(self): \n",
    "        # accessing public data member \n",
    "        print(\"Age: \", self.studentAge) \n",
    "\n",
    "# creating object of the class \n",
    "obj = Student(\"Raymond\", 20) \n",
    "\n",
    "# accessing public data member \n",
    "print(\"Name: \", obj.studentName) \n",
    "\n",
    "# calling public member function of the class \n",
    "obj.displayAge() \n"
   ]
  },
  {
   "cell_type": "markdown",
   "metadata": {},
   "source": [
    "In the above program, `studentName` and `studentAge` are public data members and `displayAge()` method is a public member function of the class `Student`. These data members of the class `Student' can be accessed from anywhere in the program."
   ]
  },
  {
   "cell_type": "markdown",
   "metadata": {},
   "source": [
    "<br>[back to top ↥](#t2toc)"
   ]
  },
  {
   "cell_type": "markdown",
   "metadata": {},
   "source": [
    "#### Protected Access Modifier\n",
    "The members of a class that are declared protected are only accessible to a class derived from it. Data members of a class are declared protected by adding a single underscore `_` symbol before the data member of that class."
   ]
  },
  {
   "cell_type": "markdown",
   "metadata": {},
   "source": [
    "<br>⚠ <b>NOTE</b><br>\n",
    "We did not introduce the concepts of inheritance and derived class, yet. Those will be discussed in details in the next tutorial.<br>\n",
    "At the moment, the general information about the inheritanc explained by your teacher is sufficient to understand the concept of the Protected Access Modifier."
   ]
  },
  {
   "cell_type": "code",
   "execution_count": null,
   "metadata": {},
   "outputs": [],
   "source": [
    "# super class \n",
    "class Student: \n",
    "    \n",
    "    # protected data members \n",
    "    _name = None\n",
    "    _student_number = None\n",
    "    _study_program = None\n",
    "    \n",
    "    # constructor \n",
    "    def __init__(self, name, student_number, study_program): \n",
    "        self._name = name \n",
    "        self._student_number = student_number\n",
    "        self._study_program = study_program \n",
    "\n",
    "    # protected member function \n",
    "    def _displayStudent(self): \n",
    "        # accessing protected data members\n",
    "        print(\"Student Number: \", self._student_number)\n",
    "        print(\"Study Program: \", self._study_program) \n",
    "\n",
    "\n",
    "# derived class \n",
    "class PeerCoach(Student): \n",
    "\n",
    "    # constructor\n",
    "    def __init__(self, name, student_number, study_program):\n",
    "        Student.__init__(self, name, student_number, study_program)\n",
    "        \n",
    "    # public member function\n",
    "    def displayDetails(self):\n",
    "        # accessing protected data members of super class\n",
    "        print(\"Name: \", self._name)\n",
    "        \n",
    "        # accessing protected member functions of super class\n",
    "        self._displayStudent() \n",
    "\n",
    "# creating objects of the derived class\n",
    "obj = PeerCoach(\"Raymond\", 1706256, \"Computer Science\") \n",
    "\n",
    "# calling public member functions of the class \n",
    "obj.displayDetails() \n"
   ]
  },
  {
   "cell_type": "markdown",
   "metadata": {},
   "source": [
    "In the above program, `_name`, `_student_number` and `_study_program` are protected data members and `_displayStudent()` method is a protected method of the super class Student. The `displayDetails()` method is a public member function of the class `PeerCoach` which is derived from the `Student` class, the `displayDetails()` method in `PeerCoach` class accesses the protected data members of the `Student` class."
   ]
  },
  {
   "cell_type": "markdown",
   "metadata": {},
   "source": [
    "<br>⚠ <b>NOTE</b><br>\n",
    "In fact, this does not really prevent instance variables from accessing or modifying the instance. You can still perform the following operations:"
   ]
  },
  {
   "cell_type": "code",
   "execution_count": null,
   "metadata": {},
   "outputs": [],
   "source": [
    "obj = Student(\"Elizabeth\", 1811123, \"Electrical Engineering\")\n",
    "print(obj._student_number)"
   ]
  },
  {
   "cell_type": "code",
   "execution_count": null,
   "metadata": {},
   "outputs": [],
   "source": [
    "obj._student_number = 1811126\n",
    "print(obj._student_number)"
   ]
  },
  {
   "cell_type": "markdown",
   "metadata": {},
   "source": [
    "<br>[back to top ↥](#t2toc)"
   ]
  },
  {
   "cell_type": "markdown",
   "metadata": {},
   "source": [
    "#### Private Access Modifier\n",
    "The members of a class that are declared private are accessible within the class only, private access modifier is the most secure access modifier. Data members of a class are declared private by adding a double underscore `__` symbol before the data member of that class."
   ]
  },
  {
   "cell_type": "code",
   "execution_count": null,
   "metadata": {},
   "outputs": [],
   "source": [
    "class Student:\n",
    "    \n",
    "    # private members \n",
    "    __name = None\n",
    "    __student_number = None\n",
    "    __study_program = None\n",
    "    \n",
    "    # constructor\n",
    "    def __init__(self, name, student_number, study_program): \n",
    "        self.__name = name \n",
    "        self.__student_number = student_number\n",
    "        self.__study_program = study_program \n",
    "    \n",
    "    # private member function\n",
    "    def __displayDetails(self):\n",
    "        # accessing private data members\n",
    "        print(\"Name: \", self.__name) \n",
    "        print(\"Student Number: \", self.__student_number)\n",
    "        print(\"Study Program: \", self.__study_program) \n",
    "\n",
    "    # public member function \n",
    "    def accessPrivateFunction(self):\n",
    "        # accesing private member function\n",
    "        self.__displayDetails() \n",
    "\n",
    "# creating object\n",
    "obj = Student(\"Raymond\", 1706256, \"Computer Science\") \n",
    "\n",
    "# calling public member function of the class \n",
    "obj.accessPrivateFunction() "
   ]
  },
  {
   "cell_type": "markdown",
   "metadata": {},
   "source": [
    "In the above program, `__name`,` __student_number` and `__study_program` are private members, `__displayDetails()` method is a private member function (these can only be accessed within the class) and `accessPrivateFunction()` method is a public member function of the class `Student` which can be accessed from anywhere within the program. The `accessPrivateFunction()` method accesses the private members of the class `Student`."
   ]
  },
  {
   "cell_type": "markdown",
   "metadata": {},
   "source": [
    "🔴 What happens if you try to directly access the private members or methods?"
   ]
  },
  {
   "cell_type": "code",
   "execution_count": null,
   "metadata": {},
   "outputs": [],
   "source": [
    "obj.__displayDetails()"
   ]
  },
  {
   "cell_type": "code",
   "execution_count": null,
   "metadata": {},
   "outputs": [],
   "source": [
    "print(obj.__student_number)"
   ]
  },
  {
   "cell_type": "markdown",
   "metadata": {},
   "source": [
    "<br>⚠ <b>NOTE</b><br>\n",
    "Python does not have any mechanism that effectively restricts access to any instance variable or method. <br>\n",
    "**We can say that Python prescribes a convention of prefixing the name of the variable/method with a single or double underscore to emulate the behavior of protected and private access specifiers.**<br>\n",
    "It performs name mangling of private variables. Every member with a double underscore will be changed to `object._class__variable`. So, it can still be accessed from outside the class, but the practice should be refrained."
   ]
  },
  {
   "cell_type": "code",
   "execution_count": null,
   "metadata": {},
   "outputs": [],
   "source": [
    "print(obj._Student__student_number)"
   ]
  },
  {
   "cell_type": "markdown",
   "metadata": {},
   "source": [
    "<br>[back to top ↥](#t2toc)"
   ]
  },
  {
   "cell_type": "markdown",
   "metadata": {},
   "source": [
    "Below is a program to illustrate the use of all the above three access modifiers (public, protected and private) of a class in Python:\n",
    "\n"
   ]
  },
  {
   "cell_type": "code",
   "execution_count": null,
   "metadata": {},
   "outputs": [],
   "source": [
    "# super class \n",
    "class Super:\n",
    "\n",
    "    # public data member\n",
    "    var1 = None\n",
    "\n",
    "    # protected data member \n",
    "    _var2 = None\n",
    "\n",
    "    # private data member \n",
    "    __var3 = None\n",
    "\n",
    "    # constructor \n",
    "    def __init__(self, var1, var2, var3): \n",
    "        self.var1 = var1\n",
    "        self._var2 = var2 \n",
    "        self.__var3 = var3 \n",
    "\n",
    "    # public member function \n",
    "    def displayPublicMembers(self): \n",
    "        # accessing public data members \n",
    "        print(\"Public Data Member: \", self.var1) \n",
    "\n",
    "    # protected member function \n",
    "    def _displayProtectedMembers(self): \n",
    "        # accessing protected data members \n",
    "        print(\"Protected Data Member: \", self._var2) \n",
    "\n",
    "    # private member function \n",
    "    def __displayPrivateMembers(self): \n",
    "        # accessing private data members \n",
    "        print(\"Private Data Member: \", self.__var3) \n",
    "\n",
    "    # public member function \n",
    "    def accessPrivateMembers(self):\n",
    "        # accessing private memeber function \n",
    "        self.__displayPrivateMembers() \n",
    "\n",
    "# derived class \n",
    "class Sub(Super): \n",
    "\n",
    "    # constructor \n",
    "    def __init__(self, var1, var2, var3):\n",
    "        Super.__init__(self, var1, var2, var3) \n",
    "\n",
    "    # public member function \n",
    "    def accessProtectedMemebers(self):\n",
    "        # accessing protected member functions of super class \n",
    "        self._displayProtectedMembers() \n",
    "\n",
    "# creating objects of the derived class\t \n",
    "obj = Sub(\"Oliver\", 4455667, \"Microbiology\") \n",
    "\n",
    "# calling public member functions of the class \n",
    "obj.displayPublicMembers() \n",
    "obj.accessProtectedMemebers() \n",
    "obj.accessPrivateMembers()\n"
   ]
  },
  {
   "cell_type": "code",
   "execution_count": null,
   "metadata": {},
   "outputs": [],
   "source": [
    "# Object can access protected member \n",
    "print(\"Object is accessing protected member:\", obj._var2) "
   ]
  },
  {
   "cell_type": "code",
   "execution_count": null,
   "metadata": {},
   "outputs": [],
   "source": [
    "# object can not access private member, so it will generate Attribute error \n",
    "print(obj.__var3)"
   ]
  },
  {
   "cell_type": "markdown",
   "metadata": {},
   "source": [
    "<br><br><a id='t2ex2'></a>\n",
    "◾◾◾◾◾◾◾◾◾◾◾◾◾◾◾◾◾◾◾◾◾◾◾◾◾◾◾◾◾◾◾◾◾◾◾◾◾◾◾◾◾◾◾◾◾◾◾◾◾◾"
   ]
  },
  {
   "cell_type": "markdown",
   "metadata": {},
   "source": [
    "**✎ Exercise 𝟛** <br> <br> ▙ ⏰ 1 min. ▟ <br>"
   ]
  },
  {
   "cell_type": "markdown",
   "metadata": {},
   "source": [
    "❶ Write a piece of code to get direct access to `__var3` .<br>"
   ]
  },
  {
   "cell_type": "code",
   "execution_count": null,
   "metadata": {},
   "outputs": [],
   "source": [
    "# Exercise 3.1\n"
   ]
  },
  {
   "cell_type": "markdown",
   "metadata": {},
   "source": [
    "❷ Write a piece of code to get direct access to `__displayPrivateMembers()` method.<br>"
   ]
  },
  {
   "cell_type": "code",
   "execution_count": null,
   "metadata": {},
   "outputs": [],
   "source": [
    "# Exercise 3.2\n"
   ]
  },
  {
   "cell_type": "markdown",
   "metadata": {},
   "source": [
    "◾◾◾◾◾◾◾◾◾◾◾◾◾◾◾◾◾◾◾◾◾◾◾◾◾◾◾◾◾◾◾◾◾◾◾◾◾◾◾◾◾◾◾◾◾◾◾◾◾◾"
   ]
  },
  {
   "cell_type": "markdown",
   "metadata": {},
   "source": [
    "<br>[back to top ↥](#t2toc)"
   ]
  },
  {
   "cell_type": "markdown",
   "metadata": {},
   "source": [
    "<br><br><a id='sol'></a>\n",
    "◼◼◼◼◼◼◼◼◼◼◼◼◼◼◼◼◼◼◼◼◼◼◼◼◼◼◼◼◼◼◼◼◼◼◼◼◼◼◼◼◼◼◼◼◼◼◼◼◼◼<br>\n",
    "◼◼◼◼◼◼◼◼◼◼◼◼◼◼◼◼◼◼◼◼◼◼◼◼◼◼◼◼◼◼◼◼◼◼◼◼◼◼◼◼◼◼◼◼◼◼◼◼◼◼"
   ]
  },
  {
   "cell_type": "markdown",
   "metadata": {},
   "source": [
    "#### 🔑 **Exercises Solutions** ####"
   ]
  },
  {
   "cell_type": "markdown",
   "metadata": {},
   "source": [
    "**Exercise 1.1:**"
   ]
  },
  {
   "cell_type": "code",
   "execution_count": null,
   "metadata": {},
   "outputs": [],
   "source": [
    "class eagle:\n",
    "    species = 'bird'\n",
    "\n",
    "    def can(self):\n",
    "        print('fly')\n",
    "        \n",
    "    # init method or constructor    \n",
    "    def __init__(self, e_name, e_color, e_gender, e_birth_year):   \n",
    "        self.name = e_name\n",
    "        self.color = e_color\n",
    "        self.gender = e_gender\n",
    "        self.birth_year = e_birth_year\n",
    "    \n",
    "    def describe(self):\n",
    "        print('{} is a {} eagle with {} color, and born on {}.'.\n",
    "              format(self.name, self.gender, self.color, self.birth_year))\n",
    "    \n",
    "    def age(self, current_year):\n",
    "        print('{} is {} years old.'.format(self.name, current_year - self.birth_year))\n",
    "        \n"
   ]
  },
  {
   "cell_type": "markdown",
   "metadata": {},
   "source": [
    "<br>[back to the Exercise 1 ↥](#t2ex1)"
   ]
  },
  {
   "cell_type": "markdown",
   "metadata": {},
   "source": [
    "**Exercise 1.2:**"
   ]
  },
  {
   "cell_type": "code",
   "execution_count": null,
   "metadata": {},
   "outputs": [],
   "source": [
    "e1 = eagle('Cleo', 'Grey', 'Male', 2014)\n",
    "e2 = eagle('Ava', 'Gold', 'Female', 2019)\n",
    "\n",
    "e1.age(2021)\n",
    "e2.age(2021)"
   ]
  },
  {
   "cell_type": "markdown",
   "metadata": {},
   "source": [
    "<br>[back to the Exercise 1 ↥](#t2ex1)"
   ]
  },
  {
   "cell_type": "markdown",
   "metadata": {},
   "source": [
    "**Exercise 2.1:**"
   ]
  },
  {
   "cell_type": "code",
   "execution_count": null,
   "metadata": {},
   "outputs": [],
   "source": [
    "class Player:\n",
    "    def __init__(self, name):\n",
    "        self.name = name\n",
    "        self.cards = []\n",
    "        \n",
    "    def represent(self):\n",
    "        return \"Cards in {}'s hand: {}\".format(self.name, self.cards)"
   ]
  },
  {
   "cell_type": "code",
   "execution_count": null,
   "metadata": {},
   "outputs": [],
   "source": [
    "p1 = Player('Ronald')"
   ]
  },
  {
   "cell_type": "markdown",
   "metadata": {},
   "source": [
    "**Exercise 2.2:**"
   ]
  },
  {
   "cell_type": "code",
   "execution_count": null,
   "metadata": {},
   "outputs": [],
   "source": [
    "class Player:\n",
    "    def __init__(self, name):\n",
    "        self.name = name\n",
    "        self.cards = []\n",
    "    \n",
    "    def get_cards(self, deck, number_of_cards):\n",
    "        self.cards = [deck.deal() for i in range(4)]\n",
    "        \n",
    "    def represent(self):\n",
    "        return \"Cards in {}'s hand: {}\".format(self.name, self.cards)"
   ]
  },
  {
   "cell_type": "code",
   "execution_count": null,
   "metadata": {},
   "outputs": [],
   "source": [
    "from random import shuffle\n",
    "\n",
    "class Card:\n",
    "    def __init__(self, suit, value):\n",
    "        self.suit = suit\n",
    "        self.value = value\n",
    "    \n",
    "    def represent(self):\n",
    "        return '{} {}'.format(self.value, self.suit)\n",
    "\n",
    "class Deck:\n",
    "    def __init__(self):\n",
    "        suits = ['♥','♦','♣','♠']\n",
    "        # suits = ['Hearts','Diamonds','Clubs','Spades']\n",
    "        values = ['A','2','3','4','5','6','7','8','9','10','J','Q','K']\n",
    "        self.cards = [Card(suit, value) for suit in suits for value in values]\n",
    "    \n",
    "    def deal(self):\n",
    "        if len(self.cards) == 0:\n",
    "            raise ValueError(\"All cards have been dealt\")\n",
    "        return self.cards.pop().represent()\n",
    "    \n",
    "    def shuffle(self):\n",
    "        if len(self.cards) < 52:\n",
    "            raise ValueError(\"Only full decks can be shuffled\")\n",
    "        shuffle(self.cards)\n",
    "        return self.represent()\n",
    "    \n",
    "    def represent(self):\n",
    "        return \"Cards remaining in deck: {}\".format(len(self.cards))"
   ]
  },
  {
   "cell_type": "code",
   "execution_count": null,
   "metadata": {},
   "outputs": [],
   "source": [
    "c1 = Deck()\n",
    "c1.shuffle()\n",
    "p1 = Player('Ronald')\n",
    "p1.get_cards(c1,4)\n",
    "print(p1.represent())"
   ]
  },
  {
   "cell_type": "markdown",
   "metadata": {},
   "source": [
    "**Exercise 3.1:**"
   ]
  },
  {
   "cell_type": "code",
   "execution_count": null,
   "metadata": {},
   "outputs": [],
   "source": [
    "print(obj._Super__var3)"
   ]
  },
  {
   "cell_type": "markdown",
   "metadata": {},
   "source": [
    "**Exercise 3.2:**"
   ]
  },
  {
   "cell_type": "code",
   "execution_count": null,
   "metadata": {},
   "outputs": [],
   "source": [
    "obj._Super__displayPrivateMembers()"
   ]
  },
  {
   "cell_type": "markdown",
   "metadata": {},
   "source": [
    "◼◼◼◼◼◼◼◼◼◼◼◼◼◼◼◼◼◼◼◼◼◼◼◼◼◼◼◼◼◼◼◼◼◼◼◼◼◼◼◼◼◼◼◼◼◼◼◼◼◼<br>\n",
    "◼◼◼◼◼◼◼◼◼◼◼◼◼◼◼◼◼◼◼◼◼◼◼◼◼◼◼◼◼◼◼◼◼◼◼◼◼◼◼◼◼◼◼◼◼◼◼◼◼◼"
   ]
  }
 ],
 "metadata": {
  "kernelspec": {
   "display_name": "Python 3",
   "language": "python",
   "name": "python3"
  },
  "language_info": {
   "codemirror_mode": {
    "name": "ipython",
    "version": 3
   },
   "file_extension": ".py",
   "mimetype": "text/x-python",
   "name": "python",
   "nbconvert_exporter": "python",
   "pygments_lexer": "ipython3",
   "version": "3.7.1"
  }
 },
 "nbformat": 4,
 "nbformat_minor": 4
}
