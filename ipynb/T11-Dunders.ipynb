{
 "cells": [
  {
   "cell_type": "markdown",
   "metadata": {},
   "source": [
    "# **Tutorial 11: Dunders (Special Methods)** 👀"
   ]
  },
  {
   "cell_type": "markdown",
   "metadata": {},
   "source": [
    "<a id='t9toc'></a>\n",
    "#### Contents: ####\n",
    "- [Introduction](#t9intro)\n",
    "- **[Representation of a Class](#t9reprclass)**\n",
    "    - [`__str__`](#t9str)\n",
    "    - [`__repr__`](#t9repr)\n",
    "- **[Operator Overloading using Dunders](#t9over)**\n",
    "    - [Example 1: Point](#t9point)\n",
    "        - *[Exercise 1](#t9ex1)*\n",
    "    - [Example 2: Rectangle](#t9rect)\n",
    "        - *[Exercise 2](#t9ex2)*\n",
    "- [Exercises Solutions](#t9sol)"
   ]
  },
  {
   "cell_type": "markdown",
   "metadata": {
    "deletable": false,
    "editable": false
   },
   "source": [
    "💡 <b>TIP</b><br>\n",
    "> <i>In Exercises, when time permits, try to write the codes yourself, and do not copy it from the other cells.</i>"
   ]
  },
  {
   "cell_type": "markdown",
   "metadata": {},
   "source": [
    "<br><br><a id='t9intro'></a>\n",
    "## ▙▂ **🄸NTRODUCTION ▂▂**"
   ]
  },
  {
   "cell_type": "markdown",
   "metadata": {},
   "source": [
    "In Python, special methods are a set of predefined methods you can use to enrich your classes. They are easy to recognize, because they start and end with *double underscores*, for example `__init__` or `__str__`.  \n",
    "\n",
    "As it quickly became tiresome to say under-under-method-under-under, Pythonistas adopted the term **\"dunder methods\"**, a short form of \"double under\".The fact that these methods start and end in double underscores is simply a naming convention to flag them as core Python features. It also helps avoid naming collisions with your own methods and attributes.    \n",
    "\n",
    "These \"dunders\" or \"special methods\" in Python are also sometimes called **\"magic methods\"**. But using this terminology can make them seem more complicated than they really are. You will see that there is nothing \"magical\" about them. You should treat these methods like a normal language feature.  \n",
    "\n",
    "Dunder methods let you emulate the behavior of built-in types. For example, to get the length of a string you can call `len('string')`. But an empty class definition does not support this behavior out of the box:  "
   ]
  },
  {
   "cell_type": "code",
   "execution_count": null,
   "metadata": {},
   "outputs": [],
   "source": [
    "class NoLenSupport:\n",
    "    pass"
   ]
  },
  {
   "cell_type": "code",
   "execution_count": null,
   "metadata": {},
   "outputs": [],
   "source": [
    "obj = NoLenSupport()\n",
    "len(obj)"
   ]
  },
  {
   "cell_type": "markdown",
   "metadata": {},
   "source": [
    "To fix this, you can add a `__len__` dunder method to your class:"
   ]
  },
  {
   "cell_type": "code",
   "execution_count": null,
   "metadata": {},
   "outputs": [],
   "source": [
    "class LenSupport:\n",
    "    def __len__(self):\n",
    "        return 42"
   ]
  },
  {
   "cell_type": "code",
   "execution_count": null,
   "metadata": {},
   "outputs": [],
   "source": [
    "obj = LenSupport()\n",
    "len(obj)"
   ]
  },
  {
   "cell_type": "markdown",
   "metadata": {},
   "source": [
    "##### **Special Methods and the Python Data Model**\n",
    "This elegant design is known as the [Python data model](https://docs.python.org/3/reference/datamodel.html) and lets developers tap into rich language features like *sequences*, *iteration*, *operator overloading*, *attribute access*, etc.  \n",
    "You can see Python's data model as a powerful API you can interface with by implementing one or more dunder methods. If you want to write more Pythonic code, knowing how and when to use dunder methods is an important step.  \n",
    "In this tutorial, we will practise some of them."
   ]
  },
  {
   "cell_type": "markdown",
   "metadata": {},
   "source": [
    "<br>[back to top ↥](#t9toc)"
   ]
  },
  {
   "cell_type": "markdown",
   "metadata": {},
   "source": [
    "<br><br><a id='t9reprclass'></a>\n",
    "## ▙▂ **🅁EPRESENTATION OF A CLASS ▂▂**"
   ]
  },
  {
   "cell_type": "markdown",
   "metadata": {},
   "source": [
    "When you define a custom class in Python and then try to print one of its instances to the console (or inspect it in an interpreter session), you get a relatively unsatisfying result.  \n",
    "\n",
    "By default, all you get is a string containing the *class name* and the *id* of the object instance (which is the object’s memory address in CPython). That's better than nothing, but it's also not very useful:"
   ]
  },
  {
   "cell_type": "code",
   "execution_count": null,
   "metadata": {},
   "outputs": [],
   "source": [
    "class Point:\n",
    "    \n",
    "    def __init__(self, x, y):\n",
    "        self.x = x\n",
    "        self.y = y"
   ]
  },
  {
   "cell_type": "code",
   "execution_count": null,
   "metadata": {},
   "outputs": [],
   "source": [
    "A = Point(2, 5)"
   ]
  },
  {
   "cell_type": "code",
   "execution_count": null,
   "metadata": {},
   "outputs": [],
   "source": [
    "A"
   ]
  },
  {
   "cell_type": "code",
   "execution_count": null,
   "metadata": {},
   "outputs": [],
   "source": [
    "print(A)"
   ]
  },
  {
   "cell_type": "markdown",
   "metadata": {},
   "source": [
    "The default “to string” conversion behavior is basic and lacking.  \n",
    "\n",
    "You might find yourself trying to work around this by printing attributes of the class directly:"
   ]
  },
  {
   "cell_type": "code",
   "execution_count": null,
   "metadata": {},
   "outputs": [],
   "source": [
    "print(A.x, A.y)"
   ]
  },
  {
   "cell_type": "markdown",
   "metadata": {},
   "source": [
    "You can format it more nicely:"
   ]
  },
  {
   "cell_type": "code",
   "execution_count": null,
   "metadata": {},
   "outputs": [],
   "source": [
    "print(f'({A.x},{A.y})')"
   ]
  },
  {
   "cell_type": "markdown",
   "metadata": {},
   "source": [
    "Even more intersting:"
   ]
  },
  {
   "cell_type": "code",
   "execution_count": null,
   "metadata": {},
   "outputs": [],
   "source": [
    "print(f'{A.__class__.__name__}({A.x},{A.y})')"
   ]
  },
  {
   "cell_type": "markdown",
   "metadata": {},
   "source": [
    "However, accessing and printing the attributes outside the class definition is not good idea, as it violates the concept of Encapsulation in OOP.  \n",
    "So, can we encapsulate it within the class definition?  \n",
    "\n",
    "You can do it by adding a custom `to_string()` method to your classes:"
   ]
  },
  {
   "cell_type": "code",
   "execution_count": null,
   "metadata": {},
   "outputs": [],
   "source": [
    "class Point:\n",
    "    \n",
    "    def __init__(self, x, y):\n",
    "        self.x = x\n",
    "        self.y = y\n",
    "        \n",
    "    def to_string(self):\n",
    "        return f'({self.x},{self.y})'"
   ]
  },
  {
   "cell_type": "code",
   "execution_count": null,
   "metadata": {},
   "outputs": [],
   "source": [
    "A = Point(2, 5)"
   ]
  },
  {
   "cell_type": "code",
   "execution_count": null,
   "metadata": {},
   "outputs": [],
   "source": [
    "print(A.to_string())"
   ]
  },
  {
   "cell_type": "markdown",
   "metadata": {},
   "source": [
    "<br>[back to top ↥](#t9toc)"
   ]
  },
  {
   "cell_type": "markdown",
   "metadata": {},
   "source": [
    "<a id='t9str'></a>\n",
    "#### **▇▂  `__str__` ▂▂**"
   ]
  },
  {
   "cell_type": "markdown",
   "metadata": {},
   "source": [
    "Instead of building your own class-to-string conversion method, you will be better off adding the `__str__` and `__repr__` **dunder methods** to your class. They are the Pythonic way to control how objects are converted to strings in different situations.   \n",
    "\n",
    "You can learn more about this, in the [Python data model documentation](https://docs.python.org/3/reference/datamodel.html).  \n",
    "\n",
    "\n",
    "Let’s take a look at how these methods work in practice. To get started, we are going to add a `__str__` method to the class we defined earlier:"
   ]
  },
  {
   "cell_type": "code",
   "execution_count": null,
   "metadata": {},
   "outputs": [],
   "source": [
    "class Point:\n",
    "    \n",
    "    def __init__(self, x, y):\n",
    "        self.x = x\n",
    "        self.y = y\n",
    "    \n",
    "    def __str__(self):\n",
    "        return f'({self.x},{self.y})'"
   ]
  },
  {
   "cell_type": "code",
   "execution_count": null,
   "metadata": {},
   "outputs": [],
   "source": [
    "A = Point(2, 5)"
   ]
  },
  {
   "cell_type": "markdown",
   "metadata": {},
   "source": [
    "When you try printing an instance of the class now, you’ll get a different, slightly improved result:"
   ]
  },
  {
   "cell_type": "code",
   "execution_count": null,
   "metadata": {},
   "outputs": [],
   "source": [
    "print(A)"
   ]
  },
  {
   "cell_type": "markdown",
   "metadata": {},
   "source": [
    "It prints the object resulted in the string returned by the `__str__` method we added.  \n",
    "\n",
    "`__str__` is one of Python's \"dunder\" methods and gets called when you try to convert an object into a string through the various means that are available.  \n",
    "\n",
    "With a proper __str__ implementation, you won't have to worry about printing object attributes directly or writing a separate `to_string()` function. It’s the Pythonic way to control string conversion.  \n",
    "\n",
    "However, Inspecting the object in the console still gives us the previous result containing the object's id.  "
   ]
  },
  {
   "cell_type": "code",
   "execution_count": null,
   "metadata": {},
   "outputs": [],
   "source": [
    "A"
   ]
  },
  {
   "cell_type": "markdown",
   "metadata": {},
   "source": [
    "This happened because there are actually two dunder methods that control how objects are converted to strings in Python 3. The first one is `__str__`, and you just learned about it. The second one is `__repr__`, and the way it works is similar to `__str__`, but it is used in different situations."
   ]
  },
  {
   "cell_type": "markdown",
   "metadata": {},
   "source": [
    "<br>[back to top ↥](#t9toc)"
   ]
  },
  {
   "cell_type": "markdown",
   "metadata": {},
   "source": [
    "<a id='t9repr'></a>\n",
    "#### **▇▂  `__repr__` ▂▂**\n",
    "Here is a simple experiment you can use to get a feel for when `__str__` or `__repr__` is used. Let's redefine our car class, so it contains both to-string dunder methods with outputs that are easy to distinguish:"
   ]
  },
  {
   "cell_type": "code",
   "execution_count": null,
   "metadata": {},
   "outputs": [],
   "source": [
    "class sample:\n",
    "\n",
    "    def __str__(self):\n",
    "        return 'str'\n",
    "\n",
    "    def __repr__(self):\n",
    "        return 'repr'"
   ]
  },
  {
   "cell_type": "markdown",
   "metadata": {},
   "source": [
    "Now, when you play through the previous examples, you can see which method controls the string conversion result in each case:"
   ]
  },
  {
   "cell_type": "code",
   "execution_count": null,
   "metadata": {},
   "outputs": [],
   "source": [
    "obj = sample()"
   ]
  },
  {
   "cell_type": "code",
   "execution_count": null,
   "metadata": {},
   "outputs": [],
   "source": [
    "print(obj)"
   ]
  },
  {
   "cell_type": "code",
   "execution_count": null,
   "metadata": {},
   "outputs": [],
   "source": [
    "obj"
   ]
  },
  {
   "cell_type": "markdown",
   "metadata": {},
   "source": [
    "This experiment confirms that inspecting an object in a Python interpreter session simply prints the result of the object's `__repr__`.\n",
    "\n",
    "Interestingly, containers like lists and dicts always use the result of` __repr__` to represent the objects they contain. Even if you call `str` on the container itself:"
   ]
  },
  {
   "cell_type": "code",
   "execution_count": null,
   "metadata": {},
   "outputs": [],
   "source": [
    "str([obj])"
   ]
  },
  {
   "cell_type": "markdown",
   "metadata": {},
   "source": [
    "To manually choose between both string conversion methods, for example, to express your code's intent more clearly, it's best to use the built-in `str()` and `repr()` functions. Using them is preferable over calling the object's `__str__` or `__repr__` directly, as it looks nicer and gives the same result:"
   ]
  },
  {
   "cell_type": "code",
   "execution_count": null,
   "metadata": {},
   "outputs": [],
   "source": [
    "str(obj)"
   ]
  },
  {
   "cell_type": "code",
   "execution_count": null,
   "metadata": {},
   "outputs": [],
   "source": [
    "repr(obj)"
   ]
  },
  {
   "cell_type": "markdown",
   "metadata": {},
   "source": [
    "Even with this investigation, you might be wondering what the \"real-world\" difference is between `__str__` and `__repr__`. They both seem to serve the same purpose, so it might be unclear when to use each."
   ]
  },
  {
   "cell_type": "markdown",
   "metadata": {},
   "source": [
    "- The result of the date object's `__str__` function should primarily be **readable**.  \n",
    "It is meant to return a concise textual representation for *human consumption*, something you would feel comfortable displaying to a user.  \n",
    "\n",
    "- With `__repr__`, the idea is that its result should be, above all, **unambiguous**.    \n",
    "The resulting string is intended more as a *debugging aid for developers*. Hence, it needs to be as explicit as possible about what this object is. That's why you'll get a more elaborate result calling `repr()` on the object. It could even include the full module and class name.\n",
    "\n",
    "##### **Summary:**\n",
    "1. `__str__`: The \"informal\" or nicely printable string representation of an object. This is for the end user.\n",
    "2. `__repr__`: The \"official\" string representation of an object. This is how you would make an object of the class. The goal of `__repr__` is to be unambiguous."
   ]
  },
  {
   "cell_type": "markdown",
   "metadata": {},
   "source": [
    "##### Why Every Python Class Needs a `__repr__`?  \n",
    "If you don't add a `__str__` method, Python falls back on the result of `__repr__` when looking for `__str__`. Therefore, it is recommended that always add at least a `__repr__` method to your classes. This will guarantee a useful string conversion result in almost all cases, with a minimum of implementation work.  \n",
    "\n",
    "Here's how to add basic string conversion support to your classes quickly and efficiently. For our class we might start with the following `__repr__`:"
   ]
  },
  {
   "cell_type": "code",
   "execution_count": null,
   "metadata": {},
   "outputs": [],
   "source": [
    "class Point:\n",
    "    \n",
    "    def __init__(self, x, y):\n",
    "        self.x = x\n",
    "        self.y = y\n",
    "    \n",
    "    def __repr__(self):\n",
    "        return f'Point({self.x},{self.y})'"
   ]
  },
  {
   "cell_type": "code",
   "execution_count": null,
   "metadata": {},
   "outputs": [],
   "source": [
    "A = Point(2, 5)"
   ]
  },
  {
   "cell_type": "code",
   "execution_count": null,
   "metadata": {},
   "outputs": [],
   "source": [
    "print(A)"
   ]
  },
  {
   "cell_type": "markdown",
   "metadata": {},
   "source": [
    "This works nicely, but one downside is that we've repeated the class name inside the format string. A trick you can use here to avoid this repetition is to use the object's `__class__.__name__` attribute, which will always reflect the class name as a string.  \n",
    "The benefit is you won't have to modify the `__repr__` implementation when the class name changes. This makes it easy to adhere to the Don't Repeat Yourself (DRY) principle."
   ]
  },
  {
   "cell_type": "code",
   "execution_count": null,
   "metadata": {},
   "outputs": [],
   "source": [
    "class Point:\n",
    "    \n",
    "    def __init__(self, x, y):\n",
    "        self.x = x\n",
    "        self.y = y\n",
    "    \n",
    "    def __repr__(self):\n",
    "        return f'{self.__class__.__name__}({self.x},{self.y})'\n"
   ]
  },
  {
   "cell_type": "markdown",
   "metadata": {},
   "source": [
    "With the above `__repr__` implementation, we get a useful result when we inspect the object or call `repr()` on it directly:\n",
    "\n"
   ]
  },
  {
   "cell_type": "code",
   "execution_count": null,
   "metadata": {},
   "outputs": [],
   "source": [
    "A = Point(2, 5)"
   ]
  },
  {
   "cell_type": "code",
   "execution_count": null,
   "metadata": {},
   "outputs": [],
   "source": [
    "A"
   ]
  },
  {
   "cell_type": "code",
   "execution_count": null,
   "metadata": {},
   "outputs": [],
   "source": [
    "repr(A)"
   ]
  },
  {
   "cell_type": "markdown",
   "metadata": {},
   "source": [
    "Printing the object or calling `str()` on it returns the same string, because the default `__str__` implementation simply calls `__repr__`:\n",
    "\n"
   ]
  },
  {
   "cell_type": "code",
   "execution_count": null,
   "metadata": {},
   "outputs": [],
   "source": [
    "str(A)"
   ]
  },
  {
   "cell_type": "code",
   "execution_count": null,
   "metadata": {},
   "outputs": [],
   "source": [
    "print(A)"
   ]
  },
  {
   "cell_type": "markdown",
   "metadata": {},
   "source": [
    "Here is a complete example, including an optional `__str__` implementation:"
   ]
  },
  {
   "cell_type": "code",
   "execution_count": null,
   "metadata": {},
   "outputs": [],
   "source": [
    "class Point:\n",
    "\n",
    "    def __init__(self, x, y):\n",
    "        self.x = x\n",
    "        self.y = y\n",
    "        \n",
    "    def __str__(self):\n",
    "        return '({},{})'.format(self.x, self.y)\n",
    "    \n",
    "    def __repr__(self):\n",
    "        return '{}({},{})'.format(self.__class__.__name__, self.x, self.y)"
   ]
  },
  {
   "cell_type": "code",
   "execution_count": null,
   "metadata": {},
   "outputs": [],
   "source": [
    "A = Point(3, 7)"
   ]
  },
  {
   "cell_type": "code",
   "execution_count": null,
   "metadata": {},
   "outputs": [],
   "source": [
    "print(A)"
   ]
  },
  {
   "cell_type": "code",
   "execution_count": null,
   "metadata": {},
   "outputs": [],
   "source": [
    "A"
   ]
  },
  {
   "cell_type": "markdown",
   "metadata": {},
   "source": [
    "Let's test the class, if there is not `__str__`:"
   ]
  },
  {
   "cell_type": "code",
   "execution_count": null,
   "metadata": {},
   "outputs": [],
   "source": [
    "class Point:\n",
    "\n",
    "    def __init__(self, x, y):\n",
    "        self.x = x\n",
    "        self.y = y\n",
    "    \n",
    "    def __repr__(self):\n",
    "        return '{}({},{})'.format(self.__class__.__name__, self.x, self.y)"
   ]
  },
  {
   "cell_type": "code",
   "execution_count": null,
   "metadata": {},
   "outputs": [],
   "source": [
    "A = Point(3, 7)"
   ]
  },
  {
   "cell_type": "code",
   "execution_count": null,
   "metadata": {},
   "outputs": [],
   "source": [
    "A"
   ]
  },
  {
   "cell_type": "code",
   "execution_count": null,
   "metadata": {},
   "outputs": [],
   "source": [
    "print(A)"
   ]
  },
  {
   "cell_type": "markdown",
   "metadata": {},
   "source": [
    "Now, let's test the class, if there is not `__repr__` method:"
   ]
  },
  {
   "cell_type": "code",
   "execution_count": null,
   "metadata": {},
   "outputs": [],
   "source": [
    "class Point:\n",
    "\n",
    "    def __init__(self, x, y):\n",
    "        self.x = x\n",
    "        self.y = y\n",
    "    \n",
    "    def __str__(self):\n",
    "        return '({},{})'.format(self.x, self.y)"
   ]
  },
  {
   "cell_type": "code",
   "execution_count": null,
   "metadata": {},
   "outputs": [],
   "source": [
    "A = Point(3, 7)"
   ]
  },
  {
   "cell_type": "code",
   "execution_count": null,
   "metadata": {},
   "outputs": [],
   "source": [
    "A"
   ]
  },
  {
   "cell_type": "code",
   "execution_count": null,
   "metadata": {},
   "outputs": [],
   "source": [
    "print(A)"
   ]
  },
  {
   "cell_type": "markdown",
   "metadata": {},
   "source": [
    "<br>[back to top ↥](#t9toc)"
   ]
  },
  {
   "cell_type": "markdown",
   "metadata": {},
   "source": [
    "<br><br><a id='t9over'></a>\n",
    "## ▙▂ **🄾perator 🄾verloading using Dunders ▂▂**"
   ]
  },
  {
   "cell_type": "markdown",
   "metadata": {},
   "source": [
    "You can easily write statements to compare Python objects:"
   ]
  },
  {
   "cell_type": "code",
   "execution_count": null,
   "metadata": {},
   "outputs": [],
   "source": [
    "6 == 9-3"
   ]
  },
  {
   "cell_type": "code",
   "execution_count": null,
   "metadata": {},
   "outputs": [],
   "source": [
    "'This' == 'this'"
   ]
  },
  {
   "cell_type": "markdown",
   "metadata": {},
   "source": [
    "This feels completely natural, but it's actually quite amazing what happens behind the scenes here.   \n",
    "Why does `==` work equally well on integers, strings and other objects (as long as they are the same type)?  \n",
    "This **polymorphic** behavior is possible, because these objects implement one or more **comparison dunder methods**."
   ]
  },
  {
   "cell_type": "markdown",
   "metadata": {},
   "source": [
    " We verify this by using the `dir()` builtin:"
   ]
  },
  {
   "cell_type": "code",
   "execution_count": null,
   "metadata": {},
   "outputs": [],
   "source": [
    "dir('This')"
   ]
  },
  {
   "cell_type": "code",
   "execution_count": null,
   "metadata": {},
   "outputs": [],
   "source": [
    "'This'.__eq__('this')"
   ]
  },
  {
   "cell_type": "markdown",
   "metadata": {},
   "source": [
    "Let's instantiate two objects from `Point` class and compare them:"
   ]
  },
  {
   "cell_type": "code",
   "execution_count": null,
   "metadata": {},
   "outputs": [],
   "source": [
    "class Point:\n",
    "\n",
    "    def __init__(self, x, y):\n",
    "        self.x = x\n",
    "        self.y = y\n",
    "    \n",
    "    def __str__(self):\n",
    "        return '({},{})'.format(self.x, self.y)"
   ]
  },
  {
   "cell_type": "code",
   "execution_count": null,
   "metadata": {},
   "outputs": [],
   "source": [
    "A = Point(2, 4)\n",
    "B = Point(1, -3)"
   ]
  },
  {
   "cell_type": "code",
   "execution_count": null,
   "metadata": {},
   "outputs": [],
   "source": [
    "A < B"
   ]
  },
  {
   "cell_type": "markdown",
   "metadata": {},
   "source": [
    "What happened here?   \n",
    "\n",
    "We got a TypeError because we have not implemented any comparison dunders nor inherited them from a parent class.\n",
    "\n",
    "How about this:"
   ]
  },
  {
   "cell_type": "code",
   "execution_count": null,
   "metadata": {},
   "outputs": [],
   "source": [
    "A == B"
   ]
  },
  {
   "cell_type": "markdown",
   "metadata": {},
   "source": [
    "**Strange behaviour!**  \n",
    "You probably expected to get an error, because in the `Point` class, we did not overload `==` operator too, but it did not produce any error. why?"
   ]
  },
  {
   "cell_type": "markdown",
   "metadata": {},
   "source": [
    "How can we verify that `==` or `<` are not implemented in our class?"
   ]
  },
  {
   "cell_type": "code",
   "execution_count": null,
   "metadata": {},
   "outputs": [],
   "source": [
    "A.__eq__(B)"
   ]
  },
  {
   "cell_type": "code",
   "execution_count": null,
   "metadata": {},
   "outputs": [],
   "source": [
    "A.__lt__(B)"
   ]
  },
  {
   "cell_type": "markdown",
   "metadata": {},
   "source": [
    "<br>[back to top ↥](#t9toc)"
   ]
  },
  {
   "cell_type": "markdown",
   "metadata": {},
   "source": [
    "<a id='t9point'></a>\n",
    "#### **▇▂  Example 1: Point ▂▂**"
   ]
  },
  {
   "cell_type": "markdown",
   "metadata": {},
   "source": [
    "Let's work on overloading some operators for an improved version of `Point` class (we already saw a simpler version of this example in the Lecture 3 and Tutorial 5):"
   ]
  },
  {
   "cell_type": "code",
   "execution_count": null,
   "metadata": {},
   "outputs": [],
   "source": [
    "import math\n",
    "\n",
    "class Point:\n",
    "    \n",
    "    def __init__(self, x=0.0, y=0.0):\n",
    "        self.x = x\n",
    "        self.y = y\n",
    "    \n",
    "    def __add__(self, p):\n",
    "        \"\"\" Point(x1+x2, y1+y2) \"\"\"\n",
    "        return Point(self.x + p.x, self.y + p.y)\n",
    "    \n",
    "    def __sub__(self, p):\n",
    "        \"\"\" Point(x1-x2, y1-y2) \"\"\"\n",
    "        return Point(self.x - p.x, self.y - p.y)\n",
    "       \n",
    "    def __str__(self):\n",
    "        return '({},{})'.format(self.x, self.y)\n",
    "    \n",
    "    def __repr__(self):\n",
    "        return '{}({},{})'.format(self.__class__.__name__, self.x, self.y)\n",
    "    \n",
    "    def length(self):\n",
    "        return math.sqrt(self.x ** 2 + self.y ** 2)\n",
    "    \n",
    "    def distance_to(self, p):\n",
    "        \"\"\" Calculate the distance between two points. \"\"\"\n",
    "        return (self - p).length()\n",
    "    \n",
    "    def as_tuple(self):\n",
    "        \"\"\" (x, y) \"\"\"\n",
    "        return (self.x, self.y)\n",
    "    "
   ]
  },
  {
   "cell_type": "code",
   "execution_count": null,
   "metadata": {},
   "outputs": [],
   "source": [
    "A = Point(2, 5)\n",
    "B = Point(7, 1)"
   ]
  },
  {
   "cell_type": "code",
   "execution_count": null,
   "metadata": {},
   "outputs": [],
   "source": [
    "A.length()"
   ]
  },
  {
   "cell_type": "code",
   "execution_count": null,
   "metadata": {},
   "outputs": [],
   "source": [
    "A + B"
   ]
  },
  {
   "cell_type": "code",
   "execution_count": null,
   "metadata": {},
   "outputs": [],
   "source": [
    "A - B"
   ]
  },
  {
   "cell_type": "code",
   "execution_count": null,
   "metadata": {},
   "outputs": [],
   "source": [
    "A.distance_to(B)"
   ]
  },
  {
   "cell_type": "code",
   "execution_count": null,
   "metadata": {},
   "outputs": [],
   "source": [
    "(A - B).length()"
   ]
  },
  {
   "cell_type": "markdown",
   "metadata": {},
   "source": [
    "<br>[back to top ↥](#t9toc)"
   ]
  },
  {
   "cell_type": "markdown",
   "metadata": {},
   "source": [
    "<br><br><a id='t9ex1'></a>\n",
    "◾◾◾◾◾◾◾◾◾◾◾◾◾◾◾◾◾◾◾◾◾◾◾◾◾◾◾◾◾◾◾◾◾◾◾◾◾◾◾◾◾◾◾◾◾◾◾◾◾◾"
   ]
  },
  {
   "cell_type": "markdown",
   "metadata": {},
   "source": [
    "**✎ Exercise 1**<br> <br> ▙ ⏰ ~ 15 min. ▟ <br>"
   ]
  },
  {
   "cell_type": "markdown",
   "metadata": {},
   "source": [
    "❶ Create a new class to define a line with 2 endpoints, using `Point` class."
   ]
  },
  {
   "cell_type": "code",
   "execution_count": null,
   "metadata": {},
   "outputs": [],
   "source": [
    "# Exercise 1.1\n"
   ]
  },
  {
   "cell_type": "markdown",
   "metadata": {},
   "source": [
    "❷ Overload the following comparison operators in the `Line` class to make the following operators valid.\n",
    "- `L1 > L2`  if the length of L1 is greater than the length of L2\n",
    "- `L1 >= L2` : if the length of L1 is greater than or equal to the length of L2\n",
    "- `L1 < L2` : if the length of L1 is less than length of L2\n",
    "- `L1 <= L2` : if the length of L1 is less than or equal to the length of L2\n",
    "- `L1 == L2` : if the length of L1 is equal to the length of L2\n",
    "- `L1 != L2` : if the length of L1 is not equal to the length of L2"
   ]
  },
  {
   "cell_type": "code",
   "execution_count": null,
   "metadata": {},
   "outputs": [],
   "source": [
    "# Exercise 1.2\n"
   ]
  },
  {
   "cell_type": "markdown",
   "metadata": {},
   "source": [
    "<br>[back to top ↥](#t9toc)"
   ]
  },
  {
   "cell_type": "markdown",
   "metadata": {},
   "source": [
    "<a id='t9rect'></a>\n",
    "#### **▇▂  Example 2: Rectangle  ▂▂**"
   ]
  },
  {
   "attachments": {
    "ae3d79d9-faf6-4a80-b51a-c9e9cf44adff.png": {
     "image/png": "[encoded data removed]"
    }
   },
   "cell_type": "markdown",
   "metadata": {},
   "source": [
    "Now, let's define a new class `Rectangle` to define a recangle using 2 diagonal (opposite) corner points.\n",
    "\n",
    "![image.png](attachment:ae3d79d9-faf6-4a80-b51a-c9e9cf44adff.png)"
   ]
  },
  {
   "cell_type": "code",
   "execution_count": null,
   "metadata": {},
   "outputs": [],
   "source": [
    "class Rect:\n",
    "\n",
    "    def __init__(self, pt1, pt2):\n",
    "        \"\"\" Initialize a rectangle from two points. \"\"\"\n",
    "        self.set_points(pt1, pt2)\n",
    "\n",
    "    def set_points(self, pt1, pt2):\n",
    "        \"\"\" Reset the rectangle coordinates. \"\"\"\n",
    "        (x1, y1) = pt1.as_tuple()\n",
    "        (x2, y2) = pt2.as_tuple()\n",
    "        self.left = min(x1, x2)\n",
    "        self.top = max(y1, y2)\n",
    "        self.right = max(x1, x2)\n",
    "        self.bottom = min(y1, y2)\n",
    "    \n",
    "    def top_left(self):\n",
    "        \"\"\" Return the top-left corner as a Point. \"\"\"\n",
    "        return Point(self.left, self.top)\n",
    "    \n",
    "    def bottom_right(self):\n",
    "        \"\"\" Return the bottom-right corner as a Point. \"\"\"\n",
    "        return Point(self.right, self.bottom)\n",
    "    \n",
    "    def __str__( self ):\n",
    "        return '<Rect (%s,%s)-(%s,%s)>' % (self.left,self.top,\n",
    "                                           self.right,self.bottom)\n",
    "    \n",
    "    def __repr__(self):\n",
    "        return \"%s(%r, %r)\" % (self.__class__.__name__,\n",
    "                               Point(self.left, self.top),\n",
    "                               Point(self.right, self.bottom))"
   ]
  },
  {
   "cell_type": "code",
   "execution_count": null,
   "metadata": {},
   "outputs": [],
   "source": [
    "A = Point(-3,-2)\n",
    "C = Point(4,1)\n",
    "r1 = Rect(A, C)"
   ]
  },
  {
   "cell_type": "code",
   "execution_count": null,
   "metadata": {},
   "outputs": [],
   "source": [
    "B = Point(4,-2)\n",
    "D = Point(-3,1)\n",
    "r2 = Rect(B, D)"
   ]
  },
  {
   "cell_type": "code",
   "execution_count": null,
   "metadata": {},
   "outputs": [],
   "source": [
    "r1"
   ]
  },
  {
   "cell_type": "code",
   "execution_count": null,
   "metadata": {},
   "outputs": [],
   "source": [
    "print(r2)"
   ]
  },
  {
   "cell_type": "markdown",
   "metadata": {},
   "source": [
    "How can we compare the area of two rectangles?"
   ]
  },
  {
   "cell_type": "code",
   "execution_count": null,
   "metadata": {},
   "outputs": [],
   "source": [
    "r1 == r2"
   ]
  },
  {
   "cell_type": "markdown",
   "metadata": {},
   "source": [
    "`r1` and `r2` are defining the same rectangle, why the result of `r1 == r2` does not confirm it?"
   ]
  },
  {
   "cell_type": "markdown",
   "metadata": {},
   "source": [
    "<br>[back to top ↥](#t9toc)"
   ]
  },
  {
   "cell_type": "markdown",
   "metadata": {},
   "source": [
    "<br><br><a id='t9ex2'></a>\n",
    "◾◾◾◾◾◾◾◾◾◾◾◾◾◾◾◾◾◾◾◾◾◾◾◾◾◾◾◾◾◾◾◾◾◾◾◾◾◾◾◾◾◾◾◾◾◾◾◾◾◾"
   ]
  },
  {
   "cell_type": "markdown",
   "metadata": {},
   "source": [
    "**✎ Exercise 2**<br> <br> ▙ ⏰ ~ 10 min. ▟ <br>"
   ]
  },
  {
   "cell_type": "markdown",
   "metadata": {},
   "source": [
    "❶ Overload the following comparison operators in the `Rect` class to make the following operators valid.\n",
    "- `R1 > R2`  if the area of R1 is greater than the area of R2\n",
    "- `R1 >= R2` : if the area of R1 is greater than or equal to the area of R2\n",
    "- `R1 < R2` : if the area of R1 is less than area of R2\n",
    "- `R1 <= R2` : if the area of R1 is less than or equal to the area of R2\n",
    "- `R1 = R2` : if the area of R1 is equal to the area of R2\n",
    "- `R1 != R2` : if the area of R1 is not equal to the area of L2"
   ]
  },
  {
   "cell_type": "code",
   "execution_count": null,
   "metadata": {},
   "outputs": [],
   "source": [
    "# Exercise 2.1\n"
   ]
  },
  {
   "cell_type": "markdown",
   "metadata": {},
   "source": [
    "◾◾◾◾◾◾◾◾◾◾◾◾◾◾◾◾◾◾◾◾◾◾◾◾◾◾◾◾◾◾◾◾◾◾◾◾◾◾◾◾◾◾◾◾◾◾◾◾◾◾"
   ]
  },
  {
   "cell_type": "markdown",
   "metadata": {},
   "source": [
    "<br>[back to top ↥](#t9toc)"
   ]
  },
  {
   "cell_type": "markdown",
   "metadata": {},
   "source": [
    "<br><br><a id='t9sol'></a>\n",
    "◼◼◼◼◼◼◼◼◼◼◼◼◼◼◼◼◼◼◼◼◼◼◼◼◼◼◼◼◼◼◼◼◼◼◼◼◼◼◼◼◼◼◼◼◼◼◼◼◼◼<br>\n",
    "◼◼◼◼◼◼◼◼◼◼◼◼◼◼◼◼◼◼◼◼◼◼◼◼◼◼◼◼◼◼◼◼◼◼◼◼◼◼◼◼◼◼◼◼◼◼◼◼◼◼"
   ]
  },
  {
   "cell_type": "markdown",
   "metadata": {},
   "source": [
    "#### 🔑 **Exercises Solutions** ####"
   ]
  },
  {
   "cell_type": "markdown",
   "metadata": {
    "deletable": false,
    "editable": false
   },
   "source": [
    "**Exercise 1.1:**"
   ]
  },
  {
   "cell_type": "code",
   "execution_count": null,
   "metadata": {},
   "outputs": [],
   "source": [
    "class Line:\n",
    "    \n",
    "    def __init__(self, pt1, pt2):\n",
    "        self.pt1 = pt1\n",
    "        self.pt2 = pt2\n",
    "    \n",
    "    def __str__(self):\n",
    "        return \"<Line (%s,%s):(%s,%s)>\" % (self.pt1.x,self.pt1.y,\n",
    "                                           self.pt2.x,self.pt2.y)\n",
    "    \n",
    "    def __repr__(self):\n",
    "        return \"%s(%r, %r)\" % (self.__class__.__name__,\n",
    "                               Point(self.pt1.x,self.pt1.y),\n",
    "                               Point(self.pt2.x,self.pt2.y))    "
   ]
  },
  {
   "cell_type": "markdown",
   "metadata": {},
   "source": [
    "**Exercise 1.2:**"
   ]
  },
  {
   "cell_type": "code",
   "execution_count": null,
   "metadata": {},
   "outputs": [],
   "source": [
    "class Line:\n",
    "    \n",
    "    def __init__(self, pt1, pt2):\n",
    "        self.pt1 = pt1\n",
    "        self.pt2 = pt2\n",
    "    \n",
    "    def __str__(self):\n",
    "        return \"<Line (%s,%s):(%s,%s)>\" % (self.pt1.x,self.pt1.y,\n",
    "                                           self.pt2.x,self.pt2.y)\n",
    "    \n",
    "    def __repr__(self):\n",
    "        return \"%s(%r, %r)\" % (self.__class__.__name__,\n",
    "                               Point(self.pt1.x,self.pt1.y),\n",
    "                               Point(self.pt2.x,self.pt2.y))\n",
    "    \n",
    "    def length(self):\n",
    "        return self.pt1.distance_to(self.pt2)\n",
    "    \n",
    "    def __lt__(self, other):\n",
    "        return True if self.length() < other.length() else False\n",
    "\n",
    "    def __le__(self, other):\n",
    "        return True if self.length() <= other.length() else False\n",
    "    \n",
    "    def __eq__(self, other):\n",
    "        return True if self.length() == other.length() else False"
   ]
  },
  {
   "cell_type": "markdown",
   "metadata": {},
   "source": [
    "<br>[back to the Exercise 1 ↥](#t9ex1)"
   ]
  },
  {
   "cell_type": "markdown",
   "metadata": {},
   "source": [
    "**Exercise 2.1:**"
   ]
  },
  {
   "cell_type": "code",
   "execution_count": null,
   "metadata": {},
   "outputs": [],
   "source": [
    "class Rect:\n",
    "\n",
    "    def __init__(self, pt1, pt2):\n",
    "        \"\"\"Initialize a rectangle from two points.\"\"\"\n",
    "        self.set_points(pt1, pt2)\n",
    "        self.rlength = max(abs(self.left-self.right), abs(self.top-self.bottom))\n",
    "        self.rwidth = min(abs(self.left-self.right), abs(self.top-self.bottom))\n",
    "\n",
    "    def set_points(self, pt1, pt2):\n",
    "        \"\"\"Reset the rectangle coordinates.\"\"\"\n",
    "        (x1, y1) = pt1.as_tuple()\n",
    "        (x2, y2) = pt2.as_tuple()\n",
    "        self.left = min(x1, x2)\n",
    "        self.top = max(y1, y2)\n",
    "        self.right = max(x1, x2)\n",
    "        self.bottom = min(y1, y2)\n",
    "\n",
    "    def top_left(self):\n",
    "        \"\"\"Return the top-left corner as a Point.\"\"\"\n",
    "        return Point(self.left, self.top)\n",
    "    \n",
    "    def bottom_right(self):\n",
    "        \"\"\"Return the bottom-right corner as a Point.\"\"\"\n",
    "        return Point(self.right, self.bottom)\n",
    "    \n",
    "    def length(self):\n",
    "        return self.rlength\n",
    "    \n",
    "    def width(self):\n",
    "        return self.rwidth\n",
    "        \n",
    "    def area(self):\n",
    "        return self.rwidth * self.rlength\n",
    "    \n",
    "    def __str__(self):\n",
    "        return \"<Rect (%s,%s):(%s,%s)>\" % (self.left,self.top,\n",
    "                                           self.right,self.bottom)\n",
    "    \n",
    "    def __repr__(self):\n",
    "        return \"%s(%r, %r)\" % (self.__class__.__name__,\n",
    "                               Point(self.left, self.top),\n",
    "                               Point(self.right, self.bottom))\n",
    "    \n",
    "    def __lt__(self, other):\n",
    "        return True if self.area() < other.area() else False\n",
    "\n",
    "    def __le__(self, other):\n",
    "        return True if self.area() <= other.area() else False\n",
    "    \n",
    "    def __eq__(self, other):\n",
    "        return True if self.area() == other.area() else False"
   ]
  },
  {
   "cell_type": "code",
   "execution_count": null,
   "metadata": {},
   "outputs": [],
   "source": [
    "A = Point(2,5)\n",
    "B = Point(7,1)\n",
    "r1 = Rect(A, B)"
   ]
  },
  {
   "cell_type": "code",
   "execution_count": null,
   "metadata": {},
   "outputs": [],
   "source": [
    "C = Point(4,6)\n",
    "D = Point(7,3)\n",
    "r2 = Rect(C, D)"
   ]
  },
  {
   "cell_type": "code",
   "execution_count": null,
   "metadata": {},
   "outputs": [],
   "source": [
    "r1.area()"
   ]
  },
  {
   "cell_type": "code",
   "execution_count": null,
   "metadata": {},
   "outputs": [],
   "source": [
    "r2.area()"
   ]
  },
  {
   "cell_type": "code",
   "execution_count": null,
   "metadata": {},
   "outputs": [],
   "source": [
    "r1 < r2"
   ]
  },
  {
   "cell_type": "markdown",
   "metadata": {},
   "source": [
    "<br>[back to the Exercise 2 ↥](#t9ex2)"
   ]
  },
  {
   "cell_type": "markdown",
   "metadata": {},
   "source": [
    "<br>[back to top ↥](#t9toc)"
   ]
  },
  {
   "cell_type": "markdown",
   "metadata": {
    "deletable": false,
    "editable": false
   },
   "source": [
    "◼◼◼◼◼◼◼◼◼◼◼◼◼◼◼◼◼◼◼◼◼◼◼◼◼◼◼◼◼◼◼◼◼◼◼◼◼◼◼◼◼◼◼◼◼◼◼◼◼◼<br>\n",
    "◼◼◼◼◼◼◼◼◼◼◼◼◼◼◼◼◼◼◼◼◼◼◼◼◼◼◼◼◼◼◼◼◼◼◼◼◼◼◼◼◼◼◼◼◼◼◼◼◼◼"
   ]
  }
 ],
 "metadata": {
  "kernelspec": {
   "display_name": "Python 3 (ipykernel)",
   "language": "python",
   "name": "python3"
  },
  "language_info": {
   "codemirror_mode": {
    "name": "ipython",
    "version": 3
   },
   "file_extension": ".py",
   "mimetype": "text/x-python",
   "name": "python",
   "nbconvert_exporter": "python",
   "pygments_lexer": "ipython3",
   "version": "3.10.1"
  }
 },
 "nbformat": 4,
 "nbformat_minor": 4
}
