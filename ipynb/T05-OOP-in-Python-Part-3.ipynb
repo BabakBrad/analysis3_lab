{
 "cells": [
  {
   "cell_type": "markdown",
   "metadata": {
    "deletable": false,
    "editable": false
   },
   "source": [
    "# **Tutorial 05: OOP in Python (Part 3)** 👀\n",
    "##### Inheritance (Part 2) and Polymorphism"
   ]
  },
  {
   "cell_type": "markdown",
   "metadata": {
    "deletable": false,
    "editable": false
   },
   "source": [
    "<a id='t5toc'></a>\n",
    "#### Contents: ####\n",
    "- [Recall](#t5recall)\n",
    "    - [Inheritance](#t5inheritance)\n",
    "    - [Multiple Inheritance](#t5multi)\n",
    "    - *[Exercise 1](#t5ex1)*\n",
    "- **[Method Resolution Order](#t5mro)**\n",
    "    - [mro()](#t5mromethod)\n",
    "    - *[Exercise 2](#t5ex2)*\n",
    "    - [Inconsistent MRO](#t5inc)\n",
    "- **[Polymorphism](#t5poly)**\n",
    "    - [with Function and Objects](#t5funcobj)\n",
    "    - [with Classes Methods (Duck Typing)](#t5duck)\n",
    "    - [with Inheritance](#t5winherit)\n",
    "    - [Operator Overloading](#t5operator)\n",
    "- [Exercises Solutions](#t5sol)"
   ]
  },
  {
   "cell_type": "markdown",
   "metadata": {
    "deletable": false,
    "editable": false
   },
   "source": [
    "💡 <b>TIP</b><br>\n",
    "> <i>In Exercises, when time permits, try to write the codes yourself, and do not copy it from the other cells.</i>"
   ]
  },
  {
   "cell_type": "markdown",
   "metadata": {
    "deletable": false,
    "editable": false
   },
   "source": [
    "<br><br><a id='t5recall'></a>\n",
    "## ▙▂ **🅁ECALL ▂▂**"
   ]
  },
  {
   "cell_type": "markdown",
   "metadata": {},
   "source": [
    "Inheritance is an important aspect of the object-oriented paradigm. It provides code reusability to the program, because we can use an existing class to create a new class instead of creating it from scratch."
   ]
  },
  {
   "cell_type": "markdown",
   "metadata": {},
   "source": [
    "<a id='t5inheritance'></a>\n",
    "#### **▇▂  Inheritance ▂▂**\n",
    "In inheritance, the child class acquires the properties and can access **the data members** and **functions** defined in the parent class."
   ]
  },
  {
   "attachments": {
    "d045303c-f15d-4b1e-b722-0b00e8cefc28.png": {
     "image/png": "[encoded data removed]"
    }
   },
   "cell_type": "markdown",
   "metadata": {
    "deletable": false,
    "editable": false
   },
   "source": [
    "![image.png](attachment:d045303c-f15d-4b1e-b722-0b00e8cefc28.png)"
   ]
  },
  {
   "cell_type": "code",
   "execution_count": null,
   "metadata": {},
   "outputs": [],
   "source": [
    "class O:\n",
    "    def display(self):\n",
    "        print('O')\n",
    "\n",
    "class B(O):\n",
    "    pass"
   ]
  },
  {
   "cell_type": "code",
   "execution_count": null,
   "metadata": {},
   "outputs": [],
   "source": [
    "b = B()\n",
    "b.display()"
   ]
  },
  {
   "cell_type": "markdown",
   "metadata": {
    "deletable": false,
    "editable": false
   },
   "source": [
    "A child class can also provide its *specific implementation* to the functions of the parent class. "
   ]
  },
  {
   "cell_type": "code",
   "execution_count": null,
   "metadata": {},
   "outputs": [],
   "source": [
    "class O:\n",
    "    def display(self):\n",
    "        print('O')\n",
    "\n",
    "class B(O):\n",
    "    def display(self):\n",
    "        print('B')"
   ]
  },
  {
   "cell_type": "code",
   "execution_count": null,
   "metadata": {},
   "outputs": [],
   "source": [
    "b = B()\n",
    "b.display()"
   ]
  },
  {
   "cell_type": "markdown",
   "metadata": {
    "deletable": false,
    "editable": false
   },
   "source": [
    "<br>[back to top ↥](#t5toc)"
   ]
  },
  {
   "cell_type": "markdown",
   "metadata": {},
   "source": [
    "◾◾◾◾◾◾◾◾◾◾◾◾◾◾◾◾◾◾◾◾◾◾◾◾◾◾◾◾◾◾◾◾◾◾◾◾◾◾◾◾◾◾◾◾◾◾◾◾◾◾"
   ]
  },
  {
   "cell_type": "markdown",
   "metadata": {},
   "source": [
    "<a id='t5multi'></a>\n",
    "#### **▇▂ Multiple Inheritance ▂▂**"
   ]
  },
  {
   "cell_type": "markdown",
   "metadata": {},
   "source": [
    "Multiple Inheritance in python is when a class inherits from multiple classes. "
   ]
  },
  {
   "attachments": {
    "5847e5f1-a71d-418a-8a2b-d3e9cfe035a6.png": {
     "image/png": "[encoded data removed]"
    }
   },
   "cell_type": "markdown",
   "metadata": {
    "deletable": false,
    "editable": false
   },
   "source": [
    "![image.png](attachment:5847e5f1-a71d-418a-8a2b-d3e9cfe035a6.png)"
   ]
  },
  {
   "cell_type": "code",
   "execution_count": null,
   "metadata": {},
   "outputs": [],
   "source": [
    "class O:\n",
    "    def display(self):\n",
    "        print('O')\n",
    "\n",
    "class A(O):\n",
    "    def display(self):\n",
    "        print('A')\n",
    "\n",
    "class D(O):\n",
    "    def display(self):\n",
    "        print('D')\n",
    "\n",
    "class K3(A, D):\n",
    "    pass\n"
   ]
  },
  {
   "cell_type": "code",
   "execution_count": null,
   "metadata": {},
   "outputs": [],
   "source": [
    "k3 = K3()\n",
    "k3.display()"
   ]
  },
  {
   "cell_type": "markdown",
   "metadata": {},
   "source": [
    "<br>[back to top ↥](#t5toc)"
   ]
  },
  {
   "cell_type": "markdown",
   "metadata": {},
   "source": [
    "<br><br><a id='t5ex1'></a>\n",
    "◾◾◾◾◾◾◾◾◾◾◾◾◾◾◾◾◾◾◾◾◾◾◾◾◾◾◾◾◾◾◾◾◾◾◾◾◾◾◾◾◾◾◾◾◾◾◾◾◾◾"
   ]
  },
  {
   "cell_type": "markdown",
   "metadata": {},
   "source": [
    "**✎ Exercise 𝟙**<br> <br> ▙ ⏰ ~ 1 min. ▟ <br>"
   ]
  },
  {
   "cell_type": "markdown",
   "metadata": {
    "deletable": false,
    "editable": false
   },
   "source": [
    "❶ Change the order of the parents in the definition of the class `K3`, and compare your result with the previous result."
   ]
  },
  {
   "cell_type": "code",
   "execution_count": null,
   "metadata": {},
   "outputs": [],
   "source": [
    "# Exercise 1.1\n"
   ]
  },
  {
   "cell_type": "markdown",
   "metadata": {
    "deletable": false,
    "editable": false
   },
   "source": [
    "❷ Override the `display` function in class `K3`, and observe the result.<br>"
   ]
  },
  {
   "cell_type": "code",
   "execution_count": null,
   "metadata": {},
   "outputs": [],
   "source": [
    "# Exercise 1.2\n"
   ]
  },
  {
   "cell_type": "markdown",
   "metadata": {
    "deletable": false,
    "editable": false
   },
   "source": [
    "<br>[back to top ↥](#t5toc)"
   ]
  },
  {
   "cell_type": "markdown",
   "metadata": {},
   "source": [
    "<br><br><a id='t5mro'></a>\n",
    "## **▙▂ 🄼ETHOD 🅁ESOLUTION 🄾RDER ▂▂**"
   ]
  },
  {
   "cell_type": "markdown",
   "metadata": {},
   "source": [
    "When dealing with *method overriding* in *multiple inheritance*, if the same method is present in multiple classes, Python needs an algorithm to determine which method to be called. \n",
    "\n",
    "**Method Resolution Order (MRO)** is the order in which methods should be inherited in the presence of multiple inheritance. Python 3 uses **C3 Linearization** algorithm to dpecify the method resolution order. In the lecture, we have already learnt that how this algorithm woeks. "
   ]
  },
  {
   "cell_type": "markdown",
   "metadata": {},
   "source": [
    "<a id='t5mromethod'></a>\n",
    "#### **▇▂ `mro()` ▂▂**"
   ]
  },
  {
   "cell_type": "markdown",
   "metadata": {},
   "source": [
    "To get the method resolution order of a class, we can use either `__mro__` attribute or `mro()` method. By using these methods we can display the order in which methods are resolved. "
   ]
  },
  {
   "attachments": {
    "fd67a7e9-6926-4425-81d5-66e5077316b4.png": {
     "image/png": "[encoded data removed]"
    }
   },
   "cell_type": "markdown",
   "metadata": {},
   "source": [
    "![image.png](attachment:fd67a7e9-6926-4425-81d5-66e5077316b4.png)"
   ]
  },
  {
   "cell_type": "markdown",
   "metadata": {
    "deletable": false,
    "editable": false
   },
   "source": [
    "Lets find the method resolution order for the previous example:"
   ]
  },
  {
   "cell_type": "code",
   "execution_count": null,
   "metadata": {},
   "outputs": [],
   "source": [
    "class O:\n",
    "    def display(self):\n",
    "        print('O')\n",
    "\n",
    "class A(O):\n",
    "    def display(self):\n",
    "        print('A')\n",
    "\n",
    "class D(O):\n",
    "    def display(self):\n",
    "        print('D')\n",
    "\n",
    "class K3(A, D):\n",
    "    pass"
   ]
  },
  {
   "cell_type": "code",
   "execution_count": null,
   "metadata": {},
   "outputs": [],
   "source": [
    "print(K3.mro())"
   ]
  },
  {
   "cell_type": "code",
   "execution_count": null,
   "metadata": {},
   "outputs": [],
   "source": [
    "print(K3.__mro__)"
   ]
  },
  {
   "cell_type": "markdown",
   "metadata": {},
   "source": [
    "<br>[back to top ↥](#t5toc)"
   ]
  },
  {
   "cell_type": "markdown",
   "metadata": {},
   "source": [
    "<br><br><a id='t5ex2'></a>\n",
    "◾◾◾◾◾◾◾◾◾◾◾◾◾◾◾◾◾◾◾◾◾◾◾◾◾◾◾◾◾◾◾◾◾◾◾◾◾◾◾◾◾◾◾◾◾◾◾◾◾◾"
   ]
  },
  {
   "cell_type": "markdown",
   "metadata": {},
   "source": [
    "**✎ Exercise 𝟚**<br> <br> ▙ ⏰ ~ 2 min. ▟ <br>"
   ]
  },
  {
   "cell_type": "markdown",
   "metadata": {},
   "source": [
    "❶ For the digram below, completed the following code, based on the comments provided in the code. Then run the cell."
   ]
  },
  {
   "attachments": {
    "70a26de5-3efb-446a-8afd-ad83a1f89c17.png": {
     "image/png": "[encoded data removed]"
    }
   },
   "cell_type": "markdown",
   "metadata": {
    "deletable": false,
    "editable": false
   },
   "source": [
    "![image.png](attachment:70a26de5-3efb-446a-8afd-ad83a1f89c17.png)"
   ]
  },
  {
   "cell_type": "code",
   "execution_count": null,
   "metadata": {},
   "outputs": [],
   "source": [
    "# Exercise 2.1\n",
    "\n",
    "class O:\n",
    "    def display(self):\n",
    "        print('O')\n",
    "        \n",
    "class A(O): \n",
    "    def display(self):\n",
    "        print('A')\n",
    "        \n",
    "class B(O): \n",
    "    def display(self):\n",
    "        print('B')\n",
    "        \n",
    "class C(O): \n",
    "    def display(self):\n",
    "        print('C')\n",
    "\n",
    "class D(O): \n",
    "    def display(self):\n",
    "        print('D')\n",
    "\n",
    "class E(O): \n",
    "    def display(self):\n",
    "        print('E')\n",
    "\n",
    "######################################################\n",
    "##### replace all ? marks below, with appropriate code\n",
    "\n",
    "class K1(?, ?, ?): \n",
    "    def display(self):\n",
    "        print('K1')\n",
    "\n",
    "class K2(?, ?, ?): \n",
    "    def display(self):\n",
    "        print('K2')\n",
    "\n",
    "class K3(?, ?): \n",
    "    def display(self):\n",
    "        print('K3')\n",
    "\n",
    "class Z(?, ?, ?): \n",
    "    def display(self):\n",
    "        print('Z')"
   ]
  },
  {
   "cell_type": "markdown",
   "metadata": {
    "deletable": false,
    "editable": false
   },
   "source": [
    "❷ Find the method resolution order for classes `K1`, `K2`, `K3`, and `Z`. Compare your result with the results in the slide that we manully found. "
   ]
  },
  {
   "cell_type": "code",
   "execution_count": null,
   "metadata": {},
   "outputs": [],
   "source": [
    "# Exercise 2.2\n"
   ]
  },
  {
   "cell_type": "markdown",
   "metadata": {},
   "source": [
    "◾◾◾◾◾◾◾◾◾◾◾◾◾◾◾◾◾◾◾◾◾◾◾◾◾◾◾◾◾◾◾◾◾◾◾◾◾◾◾◾◾◾◾◾◾◾◾◾◾◾"
   ]
  },
  {
   "cell_type": "markdown",
   "metadata": {},
   "source": [
    "<br>[back to top ↥](#t5toc)"
   ]
  },
  {
   "cell_type": "markdown",
   "metadata": {},
   "source": [
    "<a id='t5inc'></a>\n",
    "#### **▇▂ Inconsistent MRO ▂▂**"
   ]
  },
  {
   "cell_type": "markdown",
   "metadata": {},
   "source": [
    "If at some point no good head can be selected, because the heads of all remaining lists appear in any one tail of the lists, then the merge is *impossible* to compute due to **inconsistent ordering** of dependencies in the inheritance hierarchy and **no linearization** of the original class exists.\n"
   ]
  },
  {
   "attachments": {
    "fe1faba7-40cb-484a-a16d-80f4d316ac31.png": {
     "image/png": "[encoded data removed]"
    }
   },
   "cell_type": "markdown",
   "metadata": {
    "deletable": false,
    "editable": false
   },
   "source": [
    "![image.png](attachment:fe1faba7-40cb-484a-a16d-80f4d316ac31.png)"
   ]
  },
  {
   "cell_type": "code",
   "execution_count": null,
   "metadata": {},
   "outputs": [],
   "source": [
    "class A:\n",
    "    def showclass(self):\n",
    "        print('showclass from A')\n",
    "        \n",
    "class B(A):\n",
    "    def showclass(self):\n",
    "        print('showclass from B')\n",
    "        \n",
    "class C(A):\n",
    "    def showclass(self):\n",
    "        print('showclass from C')\n",
    "\n",
    "class D(B,C):\n",
    "    pass\n",
    "\n",
    "class E(C,B):  \n",
    "    pass\n",
    "\n",
    "class F(D,E):\n",
    "    pass"
   ]
  },
  {
   "cell_type": "markdown",
   "metadata": {
    "editable": false
   },
   "source": [
    "<br>[back to top ↥](#t5toc)"
   ]
  },
  {
   "cell_type": "markdown",
   "metadata": {},
   "source": [
    "<br><br><a id='t5poly'></a>\n",
    "## ▙▂ **🄿OLYMORPHISM ▂▂**"
   ]
  },
  {
   "cell_type": "markdown",
   "metadata": {},
   "source": [
    "The word polymorphism is used in various contexts and describes situations in which something occurs in several different forms. \n",
    "\n",
    "In computer science, it describes the concept that objects of different types can be accessed through the same interface. Each type can provide its own, independent implementation of this interface. It is one of the core concepts of object-oriented programming (OOP)."
   ]
  },
  {
   "cell_type": "markdown",
   "metadata": {},
   "source": [
    "<a id='t5funcobj'></a>\n",
    "#### **▇▂ with Function and Objects ▂▂**"
   ]
  },
  {
   "cell_type": "markdown",
   "metadata": {
    "deletable": false,
    "editable": false
   },
   "source": [
    "We can create a function that can take any object, allowing for polymorphism."
   ]
  },
  {
   "cell_type": "code",
   "execution_count": null,
   "metadata": {},
   "outputs": [],
   "source": [
    "class Tomato():\n",
    "    def type(self):\n",
    "        print(\"Vegetable\")\n",
    "    \n",
    "    def color(self):\n",
    "        print(\"Red\") \n",
    "\n",
    "class Apple(): \n",
    "    def type(self):\n",
    "        print(\"Fruit\") \n",
    "    \n",
    "    def color(self):\n",
    "        print(\"Green\") "
   ]
  },
  {
   "cell_type": "code",
   "execution_count": null,
   "metadata": {},
   "outputs": [],
   "source": [
    "def func(obj): \n",
    "       obj.type()\n",
    "        obj.color()"
   ]
  },
  {
   "cell_type": "code",
   "execution_count": null,
   "metadata": {},
   "outputs": [],
   "source": [
    "obj_tomato = Tomato() \n",
    "obj_apple = Apple() "
   ]
  },
  {
   "cell_type": "code",
   "execution_count": null,
   "metadata": {},
   "outputs": [],
   "source": [
    "func(obj_tomato) \n",
    "func(obj_apple)"
   ]
  },
  {
   "cell_type": "markdown",
   "metadata": {
    "editable": false
   },
   "source": [
    "<br>[back to top ↥](#t5toc)"
   ]
  },
  {
   "cell_type": "markdown",
   "metadata": {},
   "source": [
    "<a id='t5duck'></a>\n",
    "#### **▇▂ with Classes Methods (Duck Typing) ▂▂**"
   ]
  },
  {
   "cell_type": "markdown",
   "metadata": {
    "deletable": false,
    "editable": false
   },
   "source": [
    "In this type, Python uses two (or more) different class types in the same way.\n",
    "\n",
    "The term ‘**Duck Typing**’ comes from the saying: “*If it walks like a duck, and it quacks like a duck, then it must be a duck.*”\n",
    "\n",
    "Duck typing is a concept related to *dynamic typing*, where the type or the class of an object is less important than **the methods it defines**.\n",
    "\n",
    "When you use duck typing, you do not check types at all. Instead, you check for the presence of a given method or attribute."
   ]
  },
  {
   "cell_type": "code",
   "execution_count": null,
   "metadata": {},
   "outputs": [],
   "source": [
    "class Duck:\n",
    "    def fly(self):\n",
    "        print(\"Duck flying\")\n",
    "\n",
    "class Sparrow:\n",
    "    def fly(self):\n",
    "        print(\"Sparrow flying\")\n",
    "\n",
    "class Whale:\n",
    "    def swim(self):\n",
    "        print(\"Whale swimming\")\n"
   ]
  },
  {
   "cell_type": "code",
   "execution_count": null,
   "metadata": {},
   "outputs": [],
   "source": [
    "animal = Duck()\n",
    "animal.fly()"
   ]
  },
  {
   "cell_type": "code",
   "execution_count": null,
   "metadata": {},
   "outputs": [],
   "source": [
    "animal = Sparrow()\n",
    "animal.fly()"
   ]
  },
  {
   "cell_type": "code",
   "execution_count": null,
   "metadata": {},
   "outputs": [],
   "source": [
    "for animal in Duck(), Sparrow():\n",
    "    animal.fly()"
   ]
  },
  {
   "cell_type": "code",
   "execution_count": null,
   "metadata": {},
   "outputs": [],
   "source": [
    "for animal in Duck(), Sparrow(), Whale():\n",
    "    animal.fly()"
   ]
  },
  {
   "cell_type": "markdown",
   "metadata": {
    "editable": false
   },
   "source": [
    "<br>[back to top ↥](#t5toc)"
   ]
  },
  {
   "cell_type": "markdown",
   "metadata": {},
   "source": [
    "<a id='t5winherit'></a>\n",
    "#### **▇▂ with Inheritance ▂▂**"
   ]
  },
  {
   "cell_type": "markdown",
   "metadata": {
    "deletable": false,
    "editable": false
   },
   "source": [
    "It is already been discussed that we can define function in the derived class with the same name as the function in the base class.\n",
    "\n",
    "We re-implement the functions in the derived class. The phenomenon of re-implementing a function in the derived class is known as **Method Overriding**."
   ]
  },
  {
   "cell_type": "code",
   "execution_count": null,
   "metadata": {},
   "outputs": [],
   "source": [
    "class Bird:\n",
    "    def intro(self):\n",
    "        print(\"There are different types of birds\")\n",
    "    \n",
    "    def flight(self):\n",
    "        print(\"Most of the birds can fly but some cannot.\")\n",
    "\n",
    "class parrot(Bird):\n",
    "    def flight(self):\n",
    "        print(\"Parrots can fly.\")\n",
    "\n",
    "class penguin(Bird):\n",
    "    def flight(self):\n",
    "        print(\"Penguins do not fly.\")"
   ]
  },
  {
   "cell_type": "code",
   "execution_count": null,
   "metadata": {},
   "outputs": [],
   "source": [
    "obj_bird = Bird()"
   ]
  },
  {
   "cell_type": "code",
   "execution_count": null,
   "metadata": {},
   "outputs": [],
   "source": [
    "obj_parr = parrot()\n",
    "obj_peng = penguin()"
   ]
  },
  {
   "cell_type": "code",
   "execution_count": null,
   "metadata": {},
   "outputs": [],
   "source": [
    "obj_bird.intro()\n",
    "obj_bird.flight()"
   ]
  },
  {
   "cell_type": "code",
   "execution_count": null,
   "metadata": {},
   "outputs": [],
   "source": [
    "obj_parr.intro()\n",
    "obj_parr.flight()"
   ]
  },
  {
   "cell_type": "code",
   "execution_count": null,
   "metadata": {},
   "outputs": [],
   "source": [
    "obj_peng.intro()\n",
    "obj_peng.flight()"
   ]
  },
  {
   "cell_type": "markdown",
   "metadata": {
    "editable": false
   },
   "source": [
    "<br>[back to top ↥](#t5toc)"
   ]
  },
  {
   "cell_type": "markdown",
   "metadata": {},
   "source": [
    "<a id='t5operator'></a>\n",
    "#### **▇▂ Operator Overloading ▂▂**"
   ]
  },
  {
   "attachments": {
    "37d34101-2c5a-47e1-8f74-c3c0de8a0ca1.png": {
     "image/png": "[encoded data removed]"
    }
   },
   "cell_type": "markdown",
   "metadata": {},
   "source": [
    "We can change the meaning of an operator in Python depending upon the operands used. This will be discussed in more details in Lesson 8.\n",
    "\n",
    "Example:\n",
    "\n",
    "![image.png](attachment:37d34101-2c5a-47e1-8f74-c3c0de8a0ca1.png)"
   ]
  },
  {
   "cell_type": "code",
   "execution_count": null,
   "metadata": {},
   "outputs": [],
   "source": [
    "class Point:\n",
    "    def __init__(self, x=0, y=0):\n",
    "        self.x = x\n",
    "        self.y = y\n",
    "\n",
    "    def __str__(self):\n",
    "        return \"({0},{1})\".format(self.x, self.y)\n",
    "\n",
    "    def __add__(self, other):\n",
    "        x = self.x + other.x\n",
    "        y = self.y + other.y\n",
    "        return Point(x, y)"
   ]
  },
  {
   "cell_type": "code",
   "execution_count": null,
   "metadata": {},
   "outputs": [],
   "source": [
    "A = Point(1, 2)\n",
    "B = Point(4, 1)"
   ]
  },
  {
   "cell_type": "code",
   "execution_count": null,
   "metadata": {},
   "outputs": [],
   "source": [
    "print(A + B)"
   ]
  },
  {
   "cell_type": "markdown",
   "metadata": {
    "editable": false
   },
   "source": [
    "<br>[back to top ↥](#t5toc)"
   ]
  },
  {
   "cell_type": "markdown",
   "metadata": {},
   "source": [
    "<br><br><a id='t5sol'></a>\n",
    "◼◼◼◼◼◼◼◼◼◼◼◼◼◼◼◼◼◼◼◼◼◼◼◼◼◼◼◼◼◼◼◼◼◼◼◼◼◼◼◼◼◼◼◼◼◼◼◼◼◼<br>\n",
    "◼◼◼◼◼◼◼◼◼◼◼◼◼◼◼◼◼◼◼◼◼◼◼◼◼◼◼◼◼◼◼◼◼◼◼◼◼◼◼◼◼◼◼◼◼◼◼◼◼◼"
   ]
  },
  {
   "cell_type": "markdown",
   "metadata": {},
   "source": [
    "#### 🔑 **Exercises Solutions** ####"
   ]
  },
  {
   "cell_type": "markdown",
   "metadata": {
    "deletable": false,
    "editable": false
   },
   "source": [
    "**Exercise 1.1:**"
   ]
  },
  {
   "cell_type": "code",
   "execution_count": null,
   "metadata": {},
   "outputs": [],
   "source": [
    "class O:\n",
    "    def display(self):\n",
    "        print('O')\n",
    "\n",
    "class A(O):\n",
    "    def display(self):\n",
    "        print('A')\n",
    "\n",
    "class D(O):\n",
    "    def display(self):\n",
    "        print('D')\n",
    "\n",
    "class K3(D, A):\n",
    "    pass\n"
   ]
  },
  {
   "cell_type": "code",
   "execution_count": null,
   "metadata": {},
   "outputs": [],
   "source": [
    "k3 = K3()\n",
    "k3.display()"
   ]
  },
  {
   "cell_type": "markdown",
   "metadata": {},
   "source": [
    "**Exercise 1.2:**"
   ]
  },
  {
   "cell_type": "code",
   "execution_count": null,
   "metadata": {},
   "outputs": [],
   "source": [
    "class O:\n",
    "    def display(self):\n",
    "        print('O')\n",
    "\n",
    "class A(O):\n",
    "    def display(self):\n",
    "        print('A')\n",
    "\n",
    "class D(O):\n",
    "    def display(self):\n",
    "        print('D')\n",
    "\n",
    "class K3(D, A):\n",
    "    def display(self):\n",
    "        print('K3')\n"
   ]
  },
  {
   "cell_type": "code",
   "execution_count": null,
   "metadata": {},
   "outputs": [],
   "source": [
    "k3 = K3()\n",
    "k3.display()"
   ]
  },
  {
   "cell_type": "markdown",
   "metadata": {},
   "source": [
    "<br>[back to the Exercise 1 ↥](#t5ex1)"
   ]
  },
  {
   "cell_type": "markdown",
   "metadata": {},
   "source": [
    "**Exercise 2.1:**"
   ]
  },
  {
   "cell_type": "code",
   "execution_count": null,
   "metadata": {},
   "outputs": [],
   "source": [
    "class O:\n",
    "    def display(self):\n",
    "        print('O')\n",
    "        \n",
    "class A(O): \n",
    "    def display(self):\n",
    "        print('A')\n",
    "        \n",
    "class B(O): \n",
    "    def display(self):\n",
    "        print('B')\n",
    "        \n",
    "class C(O): \n",
    "    def display(self):\n",
    "        print('C')\n",
    "\n",
    "class D(O): \n",
    "    def display(self):\n",
    "        print('D')\n",
    "\n",
    "class E(O): \n",
    "    def display(self):\n",
    "        print('E')\n",
    "\n",
    "class K1(C, A, B): \n",
    "    def display(self):\n",
    "        print('K1')\n",
    "\n",
    "class K2(B, D, E): \n",
    "    def display(self):\n",
    "        print('K2')\n",
    "\n",
    "class K3(A, D): \n",
    "    def display(self):\n",
    "        print('K3')\n",
    "\n",
    "class Z(K1, K3, K2): \n",
    "    def display(self):\n",
    "        print('Z')\n"
   ]
  },
  {
   "cell_type": "markdown",
   "metadata": {},
   "source": [
    "**Exercise 2.2:**"
   ]
  },
  {
   "cell_type": "code",
   "execution_count": null,
   "metadata": {},
   "outputs": [],
   "source": [
    "print(K1.__mro__)"
   ]
  },
  {
   "cell_type": "code",
   "execution_count": null,
   "metadata": {},
   "outputs": [],
   "source": [
    "print(K2.__mro__)"
   ]
  },
  {
   "cell_type": "code",
   "execution_count": null,
   "metadata": {},
   "outputs": [],
   "source": [
    "print(K3.__mro__)"
   ]
  },
  {
   "cell_type": "code",
   "execution_count": null,
   "metadata": {},
   "outputs": [],
   "source": [
    "print(Z.__mro__)"
   ]
  },
  {
   "cell_type": "markdown",
   "metadata": {
    "editable": true
   },
   "source": [
    "<br>[back to the Exercise 2 ↥](#t5ex2)"
   ]
  },
  {
   "cell_type": "markdown",
   "metadata": {
    "deletable": false,
    "editable": false
   },
   "source": [
    "◼◼◼◼◼◼◼◼◼◼◼◼◼◼◼◼◼◼◼◼◼◼◼◼◼◼◼◼◼◼◼◼◼◼◼◼◼◼◼◼◼◼◼◼◼◼◼◼◼◼<br>\n",
    "◼◼◼◼◼◼◼◼◼◼◼◼◼◼◼◼◼◼◼◼◼◼◼◼◼◼◼◼◼◼◼◼◼◼◼◼◼◼◼◼◼◼◼◼◼◼◼◼◼◼"
   ]
  }
 ],
 "metadata": {
  "kernelspec": {
   "display_name": "Python 3",
   "language": "python",
   "name": "python3"
  },
  "language_info": {
   "codemirror_mode": {
    "name": "ipython",
    "version": 3
   },
   "file_extension": ".py",
   "mimetype": "text/x-python",
   "name": "python",
   "nbconvert_exporter": "python",
   "pygments_lexer": "ipython3",
   "version": "3.7.1"
  }
 },
 "nbformat": 4,
 "nbformat_minor": 4
}
