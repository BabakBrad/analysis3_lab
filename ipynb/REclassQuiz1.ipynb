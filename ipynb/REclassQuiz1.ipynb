{
 "cells": [
  {
   "cell_type": "code",
   "execution_count": null,
   "metadata": {},
   "outputs": [],
   "source": [
    "%run ./quiz.ipynb"
   ]
  },
  {
   "cell_type": "code",
   "execution_count": null,
   "metadata": {},
   "outputs": [],
   "source": [
    "i = ''\n",
    "\n",
    "q = {\n",
    "    'R1': 'Users must be able to browse for events by name or date or venue.',\n",
    "    'R2': 'Searching for events by keywords should also be possible.',\n",
    "    'R3': 'User will select ticket price from those offered and also specify the number of tickets they require.',\n",
    "    'R4': 'The system should display availability of the tickets within five seconds.',\n",
    "    'R5': 'Users must be able to choose their seats and purchase tickets 24/7.',\n",
    "    'R6': 'Only registered customers can buy tickets.',\n",
    "    'R7': 'Daily reports of ticket sales must be generated. These must be retained for two years.',\n",
    "    'R8': 'All data is to be backed up nightly.',\n",
    "    'R9': 'It should not be possible to double-book tickets (i.e. buy a ticket that has already been sold).',\n",
    "    'R10': 'Ad hoc reporting will be required, showing ticket sales over a week. It should be possible to vary that time span and look at any duration up to six months.'\n",
    "}\n",
    "\n",
    "h = {\n",
    "    'R1': 'Users must be able to browse for events by name or date or venue (FR).',\n",
    "    'R2': 'Searching for events by keywords should also be possible (FR).',\n",
    "    'R3': 'User will select ticket price from those offered and also specify the number of tickets they require (FR).',\n",
    "    'R4': 'The system should display availability of the tickets (FR) within five seconds (NFR – performance).',\n",
    "    'R5': 'Users must be able to choose their seats and purchase tickets (FR) 24/7 (NFR – availability).',\n",
    "    'R6': 'Only registered customers (NFR – access) can buy tickets (FR).',\n",
    "    'R7': 'Daily (NFR – availability) reports of ticket sales must be generated (FR). These must be retained for two years (NFR – archiving & retention).',\n",
    "    'R8': 'All data is to be backed up nightly (NFR – backup).',\n",
    "    'R9': 'It should not be possible to double-book tickets (i.e. buy a ticket that has already been sold) (NFR - robustness).',\n",
    "    'R10': 'Ad hoc (NFR – availability) reporting will be required, showing ticket sales over a week (FR). It should be possible to vary that time span and look at any duration up to six months (FR).',\n",
    "}\n",
    "\n",
    "a = {\n",
    "    'R1': 'FR',\n",
    "    'R2': 'FR',\n",
    "    'R3': 'FR',\n",
    "    'R4': 'both FR and NFR',\n",
    "    'R5': 'both FR and NFR',\n",
    "    'R6': 'both FR and NFR',\n",
    "    'R7': 'both FR and NFR',\n",
    "    'R8': 'NFR',\n",
    "    'R9': 'NFR',\n",
    "    'R10': 'both FR and NFR'\n",
    "}\n",
    "\n",
    "o = {\n",
    "    'R1': ['FR', 'NFR', 'both FR and NFR'],\n",
    "    'R2': ['FR', 'NFR', 'both FR and NFR'],\n",
    "    'R3': ['FR', 'NFR', 'both FR and NFR'],\n",
    "    'R4': ['FR', 'NFR', 'both FR and NFR'],\n",
    "    'R5': ['FR', 'NFR', 'both FR and NFR'],\n",
    "    'R6': ['FR', 'NFR', 'both FR and NFR'],\n",
    "    'R7': ['FR', 'NFR', 'both FR and NFR'],\n",
    "    'R8': ['FR', 'NFR', 'both FR and NFR'],\n",
    "    'R9': ['FR', 'NFR', 'both FR and NFR'],\n",
    "    'R10': ['FR', 'NFR', 'both FR and NFR']\n",
    "}\n",
    "\n",
    "quiz = classQuiz(q, o, a, h, introduction=i)\n",
    "quiz.show()"
   ]
  }
 ],
 "metadata": {
  "kernelspec": {
   "display_name": "Python 3",
   "language": "python",
   "name": "python3"
  },
  "language_info": {
   "codemirror_mode": {
    "name": "ipython",
    "version": 3
   },
   "file_extension": ".py",
   "mimetype": "text/x-python",
   "name": "python",
   "nbconvert_exporter": "python",
   "pygments_lexer": "ipython3",
   "version": "3.7.1"
  }
 },
 "nbformat": 4,
 "nbformat_minor": 4
}
