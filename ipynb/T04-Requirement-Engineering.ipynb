{
 "cells": [
  {
   "cell_type": "markdown",
   "metadata": {
    "deletable": false,
    "editable": false,
    "tags": []
   },
   "source": [
    "# **Tutorial 04: Requirement Engineering** 👀"
   ]
  },
  {
   "cell_type": "markdown",
   "metadata": {
    "deletable": false,
    "editable": false
   },
   "source": [
    "<a id='t6toc'></a>\n",
    "#### Contents: ####\n",
    "- **[Exercise 1: Ticket Sales System](#t6ex1)**\n",
    "- **[Exercise 2: Goatilicious - Dairy Goat Farm](#t6ex2)**\n",
    "    - [2.1. Stakeholders and Elicitation Techniques](#t6ex21)\n",
    "    - [2.2. Functional and Non-Functional Requirements](#t6ex22)\n",
    "    - [2.3. Prioritising Requirements](#t6ex23)\n",
    "- [Exercises Solutions](#t6sol)\n"
   ]
  },
  {
   "cell_type": "markdown",
   "metadata": {
    "deletable": false,
    "editable": false
   },
   "source": [
    "<br><br><a id='t6ex1'></a>\n",
    "◾◾◾◾◾◾◾◾◾◾◾◾◾◾◾◾◾◾◾◾◾◾◾◾◾◾◾◾◾◾◾◾◾◾◾◾◾◾◾◾◾◾◾◾◾◾◾◾◾◾"
   ]
  },
  {
   "cell_type": "markdown",
   "metadata": {
    "deletable": false,
    "editable": false
   },
   "source": [
    "**✎ Exercise 𝟙**<br> <br> ▙ ⏰ ~ 5 min. ▟ <br>"
   ]
  },
  {
   "cell_type": "markdown",
   "metadata": {
    "deletable": false,
    "editable": true,
    "tags": []
   },
   "source": [
    "#### **Understanding Types of the Requirements**"
   ]
  },
  {
   "cell_type": "markdown",
   "metadata": {
    "deletable": false,
    "editable": false
   },
   "source": [
    "Below are some initial *raw* requirements for an **online ticket sales system** (theatre, concert etc.).\n",
    "Identify the **Functional (FR)** and **Non-Functional (NFR)** **requirements** in each sentence and, for the NFRs, state the category into which they fit."
   ]
  },
  {
   "cell_type": "markdown",
   "metadata": {
    "deletable": false,
    "editable": false
   },
   "source": [
    "<br>⚠ <b>NOTE</b><br>\n",
    ">In reality, the distinction between different types of requirement is not as clear-cut as various simple definitions suggest.<br>"
   ]
  },
  {
   "cell_type": "markdown",
   "metadata": {
    "deletable": false,
    "editable": false
   },
   "source": [
    "Run the following code to see the requirements and complete the task."
   ]
  },
  {
   "cell_type": "code",
   "execution_count": null,
   "metadata": {
    "deletable": false,
    "editable": false
   },
   "outputs": [],
   "source": [
    "%run ./REclassQuiz1.ipynb"
   ]
  },
  {
   "cell_type": "markdown",
   "metadata": {
    "deletable": false,
    "editable": false
   },
   "source": [
    "<br>[back to top ↥](#t6toc)"
   ]
  },
  {
   "cell_type": "markdown",
   "metadata": {
    "deletable": false,
    "editable": false
   },
   "source": [
    "<br><br><a id='t6ex2'></a>\n",
    "◾◾◾◾◾◾◾◾◾◾◾◾◾◾◾◾◾◾◾◾◾◾◾◾◾◾◾◾◾◾◾◾◾◾◾◾◾◾◾◾◾◾◾◾◾◾◾◾◾◾"
   ]
  },
  {
   "cell_type": "markdown",
   "metadata": {
    "deletable": false,
    "editable": false
   },
   "source": [
    "**✎ Exercise 𝟚** <br> "
   ]
  },
  {
   "cell_type": "markdown",
   "metadata": {
    "deletable": false,
    "editable": false
   },
   "source": [
    "Read the following case study scenario, and complete the exercises."
   ]
  },
  {
   "cell_type": "markdown",
   "metadata": {
    "deletable": false,
    "editable": false
   },
   "source": [
    "<br> ▙ ⏰ ~ 5 min. ▟ <br>"
   ]
  },
  {
   "cell_type": "markdown",
   "metadata": {
    "deletable": false,
    "editable": false
   },
   "source": [
    "#### **Case Study Scenario**"
   ]
  },
  {
   "cell_type": "markdown",
   "metadata": {
    "deletable": false,
    "editable": false
   },
   "source": [
    "Goatilicious, a small company based in Suffolk, has been making luxury goat milk ice cream for nearly ten years. Its owner and *Managing Director* (*MD*), <u>Warren Randall</u>, runs the business from his farm where he and his staff rear the goats and make the ice cream which is sold to farm shops, delicatessens, restaurants and schools across the East of England.\n",
    "\n",
    "\n",
    "The herd now comprises some 300 mainly Anglo-Nubian goats and is maintained by *Head Goatherd*, <u>Malcolm Illingworth</u>, and five other stock workers who also undertake the twice-daily milkings. Under the supervision of *Production Manager*, <u>Rachel Scott</u>, the team of ten food technicians manufacture the ice cream in over forty flavours (some as stock items and some made to order only) and package it in 5-litre napoli containers, for serve-over counters, and retail tubs of 1-litre and 0.5-litre as well as ‘spoon in lid’ convenience tubs of 125 ml. The ice cream is stored on-site in walk-in freezers at -29°C, and using the company’s own freezer vans, delivered to customers by the five drivers and *Logistics Manager*, <u>Rhys Hawksby</u>.\n",
    "\n",
    "\n",
    "<u>Ellie Martin</u> (*Office Supervisor*) co-ordinates all of the company’s activities from the office onsite, where she and her two office staff process customer orders and invoices (and payments) and run the payroll as well as trying to keep on top of maintaining levels of consumables, such as feed and bedding for the goats and the various added ingredients required to make the ice cream. Beyond a couple of simple spreadsheets and the COTS payroll system there is no automation in the office and, following the recent expansion of the company and in the light of Warren’s plans for the next year which include opening more channels to market and increasing sales by another 15%, Ellie has been expressing concerns over her team’s ability to cope.\n",
    "\n",
    "\n",
    "Under some pressure from Ellie, Warren has agreed to look into the possibility of developing an integrated IT system to automate a lot of the office work and to assist with stock control (and possibly, herd management). Having discussed this with the Management Team (MD, Production Manager, Logistics Manager, Office Supervisor), Warren has made a start on identifying requirements for the system, but has quickly got out of his depth. He has decided to limit the system initially to handling customer orders and invoices and has now hired you as a Business Analyst to continue the work, known as the First Step project. The new system will need to take customer orders and produce invoices. It has occurred to Warren that it might drive up sales if customers could place orders online as well as by phone and this is now a top priority.\n",
    "\n",
    "\n",
    "The requirements Warren has identified so far are:\n",
    "\n",
    "\n",
    "1. All new customers need to be added to the system easily.\n",
    "2. The system must record customer orders (not payments yet) up to about 50 per day. These need to be retained for five years.\n",
    "3. Office staff can do 1. & 2. and so can customers themselves, via the website.\n",
    "4. The system should generate (but not send) invoices automatically as orders are received.\n",
    "5. Office staff (only) must be able to revise the details of an order and a new invoice should be generated as a result.\n",
    "6. Weekly reports of unpaid invoices will be needed by the MD.\n",
    "7. Office staff must be able to print invoices or email them to customers.\n",
    "8. The Production Manager would like to be able to view all customer orders so that she can plan production.\n",
    "9. It should be possible to vary the payment terms on the invoices\n",
    "10.It all needs to interface with the payroll system (MD’s requirement)"
   ]
  },
  {
   "cell_type": "markdown",
   "metadata": {
    "deletable": false,
    "editable": false
   },
   "source": [
    "<br>[back to top ↥](#t6toc)"
   ]
  },
  {
   "cell_type": "markdown",
   "metadata": {
    "deletable": false,
    "editable": false
   },
   "source": [
    "<br><a id='t6ex21'></a> ▙ ⏰ ~ 5 min. ▟ <br><br>\n",
    "❶ **Stakeholders and Elicitation Techniques**<br>\n",
    "Having examined the initial requirements mentioned in the scenario, you now have the opportunity to begin your investigation.  \n",
    "Identify **five (5) stakeholders** (or groups of stakeholders) you think you would need to access for information and suggest **suitable techniques** for eliciting and exploring their requirements.<br>\n",
    "In each case, justify your choice of stakeholder and elicitation technique."
   ]
  },
   "source": [
    "<br>[back to top ↥](#t6toc)"
   ]
  },
  {
   "cell_type": "markdown",
   "metadata": {
    "deletable": false,
    "editable": false
   },
   "source": [
    "<br><br><a id='t6ex22'></a> ▙ ⏰ ~ 5 min. ▟ <br><br>\n",
    "❷ **Functional and Non-Functional Requirements**<br>\n",
    "Examine the initial set of requirements (above) and identify which of them (or which parts of them) are **Functional** and which are **Non-Functional**. For the NFRs, identify to which category (or quality) they belong.  \n",
    "Also highlight any **ambiguity** in the requirements.  \n",
    "If any requirements appear to be **in conflict** with one another, document that too."
   ]
  },
  {
   "cell_type": "markdown",
   "metadata": {
    "deletable": false
   },
   "source": []
  },
  {
   "cell_type": "markdown",
   "metadata": {
    "deletable": false
   },
   "source": []
  },
  {
   "cell_type": "markdown",
   "metadata": {
    "deletable": false
   },
   "source": []
  },
  {
   "cell_type": "markdown",
   "metadata": {
    "deletable": false
   },
   "source": []
  },
  {
   "cell_type": "markdown",
   "metadata": {
    "deletable": false
   },
   "source": []
  },
  {
   "cell_type": "markdown",
   "metadata": {
    "deletable": false
   },
   "source": []
  },
  {
   "cell_type": "markdown",
   "metadata": {
    "deletable": false
   },
   "source": []
  },
  {
   "cell_type": "markdown",
   "metadata": {
    "deletable": false
   },
   "source": []
  },
  {
   "cell_type": "markdown",
   "metadata": {
    "deletable": false
   },
   "source": []
  },
  {
   "cell_type": "markdown",
   "metadata": {
    "deletable": false
   },
   "source": []
  },
  {
   "cell_type": "markdown",
   "metadata": {
    "deletable": false,
    "editable": false
   },
   "source": [
    "<br>[back to top ↥](#t6toc)"
   ]
  },
  {
   "cell_type": "markdown",
   "metadata": {
    "deletable": false,
    "editable": false
   },
   "source": [
    "<br><br><a id='t6ex23'></a> ▙ ⏰ ~ 5 min. ▟ <br><br>\n",
    "❸ **Prioritising the Requirements**<br>\n",
    "Use **MoSCoW** to prioritise the requirements in the set, following on from your analysis in Exercise 2. Justify your decisions briefly.\n",
    "Notes:\n",
    "1. FR and NFRs should be assessed **individually** for prioritisation.\n",
    "2. Wherever there is ‘solution’ language used, make an assessment of the requirement ‘hidden’ there, and prioritise that. In practice of course this would have to be taken up and confirmed with the stakeholders concerned as soon as possible."
   ]
  },
  {
   "cell_type": "markdown",
   "metadata": {
    "deletable": false
   },
   "source": []
  },
  {
   "cell_type": "markdown",
   "metadata": {
    "deletable": false
   },
   "source": []
  },
  {
   "cell_type": "markdown",
   "metadata": {
    "deletable": false
   },
   "source": []
  },
  {
   "cell_type": "markdown",
   "metadata": {
    "deletable": false
   },
   "source": []
  },
  {
   "cell_type": "markdown",
   "metadata": {
    "deletable": false
   },
   "source": []
  },
  {
   "cell_type": "markdown",
   "metadata": {
    "deletable": false
   },
   "source": []
  },
  {
   "cell_type": "markdown",
   "metadata": {
    "deletable": false
   },
   "source": []
  },
  {
   "cell_type": "markdown",
   "metadata": {
    "deletable": false
   },
   "source": []
  },
  {
   "cell_type": "markdown",
   "metadata": {
    "deletable": false
   },
   "source": []
  },
  {
   "cell_type": "markdown",
   "metadata": {
    "deletable": false
   },
   "source": []
  },
  {
   "cell_type": "markdown",
   "metadata": {
    "deletable": false,
    "editable": false
   },
   "source": [
    "<br>[back to top ↥](#t6toc)"
   ]
  },
  {
   "cell_type": "markdown",
   "metadata": {
    "deletable": false,
    "editable": false
   },
   "source": [
    "<br><br><a id='t6sol'></a>\n",
    "◼◼◼◼◼◼◼◼◼◼◼◼◼◼◼◼◼◼◼◼◼◼◼◼◼◼◼◼◼◼◼◼◼◼◼◼◼◼◼◼◼◼◼◼◼◼◼◼◼◼<br>\n",
    "◼◼◼◼◼◼◼◼◼◼◼◼◼◼◼◼◼◼◼◼◼◼◼◼◼◼◼◼◼◼◼◼◼◼◼◼◼◼◼◼◼◼◼◼◼◼◼◼◼◼"
   ]
  },
  {
   "cell_type": "markdown",
   "metadata": {
    "deletable": false,
    "editable": false
   },
   "source": [
    "#### 🔑 **Exercises Solutions** ####"
   ]
  },
  {
   "cell_type": "markdown",
   "metadata": {
    "deletable": false,
    "editable": false
   },
   "source": [
    "**Exercise 2.1:**"
   ]
  },
  {
   "cell_type": "markdown",
   "metadata": {
    "deletable": false,
    "editable": false
   },
   "source": [
    "Stakeholders |Suitable Technique |Requirements\n",
    ":-|:-|:-\n",
    "MD   |Interview  |Build rapport, set ToR and understand the objective. Explore the need for interface with payroll system. Investigate how he feels out of his depth and why the system should be limited to orders and invoices. Clarify the need for order retention for five years.\n",
    "Office Supervisor |Interview |Understand her perspective and identify concerns over her team’s ability to cope. Ascertain what data is used. Investigate the need to vary payment terms.\n",
    "Production Manager|Interview|Explore requirement 8: determine its priority and, if it is to be implemented, understand what information will be required and when, as well as how access should be provided.\n",
    "Management Team and Head Goatherd|Workshop|Investigate requirements for communication between teams and impact of increased sales (milk volumes, manufacture, storage, distribution).\n",
    "Office Staff|Workshop|Explore data entry requirements and usability constraints.\n",
    "Office Staff|Observation|Determine the scope of the manual process and the use of the existing spreadsheets.\n",
    "Office Staff and/or Office Supervisor|Prototype|Explore data entry requirements and usability constraints.\n",
    "Production Manager|Prototype|Explore the information to be used in requirement 8.\n",
    "Customers|Focus Group|Ensure we have a means of capturing and validating requirements and exchanging views with interested Customers.\n",
    "\n",
    "\n",
    "\n",
    "\n"
   ]
  },
  {
   "cell_type": "markdown",
   "metadata": {
    "deletable": false,
    "editable": false
   },
   "source": [
    "<br>[back to top ↥](#t6toc)"
   ]
  },
  {
   "cell_type": "markdown",
   "metadata": {
    "deletable": false,
    "editable": false
   },
   "source": [
    "**Exercise 2.2:**"
   ]
  },
  {
   "cell_type": "markdown",
   "metadata": {
    "deletable": false,
    "editable": false
   },
   "source": [
    "No.|Requirement|Remark\n",
    ":-|:-|:-\n",
    "1| All new customers need to be added to the system **(FR)** easily **(NFR – usability)**. |“Easily” is ambiguous – needs quantification.\n",
    "2| The system must record customer orders (not payments yet) **(FR)** up to about 50 per day **(NFR – capacity)**. These need to be retained for five years **(NFR – archiving and retention)**.| “About” is ambiguous – 50 or not? \n",
    "3| Office staff can do 1. & 2. and so can customers themselves **(NFR – accessibility)**, via the website.|\n",
    "4| The system should generate (but not send) invoices **(FR)** automatically **(NFR - availability)** as orders are received **(NFR – availability)**.|\n",
    "5| Office staff (only) **(NFR – accessibility)** must be able to revise the details of an order **(FR)** and a new invoice should be generated as a result **(FR)**.|\n",
    "6| Weekly **(NFR – availability)** reports of unpaid invoices will be needed by the MD **(FR)**.| This is in conflict with requirement 2 – payments are not recorded. Also need to clarify ‘unpaid’ as all invoices start off as unpaid!\n",
    "7| Office staff **(NFR – accessibility)** must be able to print invoices or email them to customers.|\n",
    "8| The Production Manager **(NFR – accessibility)** would like to be able to view all customer orders **(FR)** so that she can plan production. |‘All’ is ambiguous - as presumably would not need fulfilled orders; how far ahead would be useful?\n",
    "9| It should be possible to vary the payment terms on the invoices **(FR)**.| Ambiguous – not clear what this means or why it is needed.\n",
    "10|It all needs to interface with the payroll system (MD’s requirement) **(FR)**. |Particularly ambiguous – exactly what needs to interface with the payroll system and why?"
   ]
  },
  {
   "cell_type": "markdown",
   "metadata": {
    "deletable": false,
    "editable": false
   },
   "source": [
    "<br>[back to top ↥](#t6toc)"
   ]
  },
  {
   "cell_type": "markdown",
   "metadata": {
    "deletable": false,
    "editable": false
   },
   "source": [
    "**Exercise 2.3:**"
   ]
  },
  {
   "cell_type": "markdown",
   "metadata": {
    "deletable": false,
    "editable": false
   },
   "source": [
    "The table below shows the requirements prioritised into their component parts. The focus should be on the functional requirements but for clarity you can see that the NFR components have also been prioritised."
   ]
  },
  {
   "cell_type": "markdown",
   "metadata": {
    "deletable": false,
    "editable": false
   },
   "source": [
    "No.|FR|Priority|Comment|NFR|Priority|Comment\n",
    ":---|:--- |:---|:---|:---|:---|:---\n",
    "1|Add Customer|Must|Vital to be able to record orders against the customers.|Easily|Must|Vital if Customers need to be able to do this.<br>Needs clarification|\n",
    "2|Record Order|Must| This is the whole point of the system so it is a Must|50 per day<br>Retain for 5 years| Must<br> Should|Need a firm figure, especially maximum quantity.<br>Why 5 years?\n",
    "3|This one must be prioritised against the NFR components|||Access for Office Staff<br>Access for Customers|Must<br>Should|Important control<br>MD wants customers to help themselves, but perhaps not essential in the first release.\n",
    "4|Generate Invoice|Must|Key<br>contributor to the business objectives|Automatically, as orders are received|Could|Useful feature given the business objectives, but seems to be a nice to have\n",
    "5|Revise Order|Must|Orders will inevitably need changing, including cancellation|Office Staff only|Must|Important control to limit who can amend the orders\n",
    "6|Report on unpaid invoices|Want|Can’t be done unless we increase the scope to include recording payments|Weekly|Can’t really classify the frequency as the main requirement is out of scope\n",
    "7|Produce printed Invoice<br><br>Send Invoice to Customer|Overall a Must<br><br>Should|Minimum required in view of the business objectives<br><br>Not vital via the system in the first release|Office Staff|Must|Important Control\n",
    "8|View Customer Orders|Could|Not essential to the business objectives but probably nice to have|Production Manager access|Could|Not clear why access to this report needs to be especially restricted.\n",
    "9|Vary Invoice terms|Want|Unclear what this means and why it is required and it appears to be out of scope|||\n",
    "10|Integrate with payroll|Want|Not clear what is required||||"
   ]
  },
  {
   "cell_type": "markdown",
   "metadata": {
    "deletable": false,
    "editable": false
   },
   "source": [
    "<br>⚠ <b>Tip</b><br>\n",
    ">Requirements language from the stakeholders often includes ‘must’, ‘should’, etc phrases, and these may indeed be their priorities.\n",
    "The analyst however during the work of refining the requirements should write the requirements in a way that doesn’t imply a priority in the requirement’s expression itself.\n",
    "Thus for example requirement 2 which states ‘The system must record customer orders ...’ should be re-phrased as ‘The system will or shall record customer orders ...’ and then assign ‘must’ as the priority."
   ]
  },
  {
   "cell_type": "markdown",
   "metadata": {
    "deletable": false,
    "editable": false
   },
   "source": [
    "<br>[back to top ↥](#t6toc)"
   ]
  }
 ],
 "metadata": {
  "kernelspec": {
   "display_name": "Python 3 (ipykernel)",
   "language": "python",
   "name": "python3"
  },
  "language_info": {
   "codemirror_mode": {
    "name": "ipython",
    "version": 3
   },
   "file_extension": ".py",
   "mimetype": "text/x-python",
   "name": "python",
   "nbconvert_exporter": "python",
   "pygments_lexer": "ipython3",
   "version": "3.10.1"
  }
 },
 "nbformat": 4,
 "nbformat_minor": 4
}
